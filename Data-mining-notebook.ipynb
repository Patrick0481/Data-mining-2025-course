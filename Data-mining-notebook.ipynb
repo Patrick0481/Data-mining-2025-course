{
 "cells": [
  {
   "cell_type": "markdown",
   "id": "48504596",
   "metadata": {},
   "source": [
    "Data Mining in Python workbook"
   ]
  }
 ],
 "metadata": {
  "language_info": {
   "name": "python"
  }
 },
 "nbformat": 4,
 "nbformat_minor": 5
}
