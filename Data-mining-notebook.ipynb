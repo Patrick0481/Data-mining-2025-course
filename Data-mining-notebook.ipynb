{
 "cells": [
  {
   "cell_type": "markdown",
   "id": "48504596",
   "metadata": {},
   "source": [
    "Data Mining in Python workbook\n",
    "Week 1"
   ]
  },
  {
   "cell_type": "code",
   "execution_count": 2,
   "id": "1e42fee4",
   "metadata": {},
   "outputs": [
    {
     "data": {
      "application/vnd.microsoft.datawrangler.viewer.v0+json": {
       "columns": [
        {
         "name": "index",
         "rawType": "int64",
         "type": "integer"
        },
        {
         "name": "Entity",
         "rawType": "object",
         "type": "string"
        },
        {
         "name": "Code",
         "rawType": "float64",
         "type": "float"
        },
        {
         "name": "Day",
         "rawType": "object",
         "type": "string"
        },
        {
         "name": "Training computation (petaFLOP)",
         "rawType": "float64",
         "type": "float"
        },
        {
         "name": "Domain",
         "rawType": "object",
         "type": "string"
        },
        {
         "name": "time",
         "rawType": "object",
         "type": "string"
        }
       ],
       "ref": "b05279b9-14d3-40a9-87ec-842709d6a166",
       "rows": [
        [
         "437",
         "Theseus",
         null,
         "1950-07-02",
         "4e-14",
         "Robotics",
         "1950-07-02"
        ],
        [
         "346",
         "Perceptron Mark I",
         null,
         "1957-01-01",
         "6.948949e-10",
         "Other",
         "1957-01-01"
        ],
        [
         "340",
         "Pandemonium (morse)",
         null,
         "1959-02-01",
         "6e-07",
         "Language",
         "1959-02-01"
        ],
        [
         "404",
         "Samuel Neural Checkers",
         null,
         "1959-07-01",
         "4.284e-07",
         "Games",
         "1959-07-01"
        ],
        [
         "345",
         "Perceptron (1960)",
         null,
         "1960-03-30",
         "7.2e-07",
         "Vision",
         "1960-03-30"
        ]
       ],
       "shape": {
        "columns": 6,
        "rows": 5
       }
      },
      "text/html": [
       "<div>\n",
       "<style scoped>\n",
       "    .dataframe tbody tr th:only-of-type {\n",
       "        vertical-align: middle;\n",
       "    }\n",
       "\n",
       "    .dataframe tbody tr th {\n",
       "        vertical-align: top;\n",
       "    }\n",
       "\n",
       "    .dataframe thead th {\n",
       "        text-align: right;\n",
       "    }\n",
       "</style>\n",
       "<table border=\"1\" class=\"dataframe\">\n",
       "  <thead>\n",
       "    <tr style=\"text-align: right;\">\n",
       "      <th></th>\n",
       "      <th>Entity</th>\n",
       "      <th>Code</th>\n",
       "      <th>Day</th>\n",
       "      <th>Training computation (petaFLOP)</th>\n",
       "      <th>Domain</th>\n",
       "      <th>time</th>\n",
       "    </tr>\n",
       "  </thead>\n",
       "  <tbody>\n",
       "    <tr>\n",
       "      <th>437</th>\n",
       "      <td>Theseus</td>\n",
       "      <td>NaN</td>\n",
       "      <td>1950-07-02</td>\n",
       "      <td>4.000000e-14</td>\n",
       "      <td>Robotics</td>\n",
       "      <td>1950-07-02</td>\n",
       "    </tr>\n",
       "    <tr>\n",
       "      <th>346</th>\n",
       "      <td>Perceptron Mark I</td>\n",
       "      <td>NaN</td>\n",
       "      <td>1957-01-01</td>\n",
       "      <td>6.948949e-10</td>\n",
       "      <td>Other</td>\n",
       "      <td>1957-01-01</td>\n",
       "    </tr>\n",
       "    <tr>\n",
       "      <th>340</th>\n",
       "      <td>Pandemonium (morse)</td>\n",
       "      <td>NaN</td>\n",
       "      <td>1959-02-01</td>\n",
       "      <td>6.000000e-07</td>\n",
       "      <td>Language</td>\n",
       "      <td>1959-02-01</td>\n",
       "    </tr>\n",
       "    <tr>\n",
       "      <th>404</th>\n",
       "      <td>Samuel Neural Checkers</td>\n",
       "      <td>NaN</td>\n",
       "      <td>1959-07-01</td>\n",
       "      <td>4.284000e-07</td>\n",
       "      <td>Games</td>\n",
       "      <td>1959-07-01</td>\n",
       "    </tr>\n",
       "    <tr>\n",
       "      <th>345</th>\n",
       "      <td>Perceptron (1960)</td>\n",
       "      <td>NaN</td>\n",
       "      <td>1960-03-30</td>\n",
       "      <td>7.200000e-07</td>\n",
       "      <td>Vision</td>\n",
       "      <td>1960-03-30</td>\n",
       "    </tr>\n",
       "  </tbody>\n",
       "</table>\n",
       "</div>"
      ],
      "text/plain": [
       "                     Entity  Code         Day  \\\n",
       "437                 Theseus   NaN  1950-07-02   \n",
       "346       Perceptron Mark I   NaN  1957-01-01   \n",
       "340     Pandemonium (morse)   NaN  1959-02-01   \n",
       "404  Samuel Neural Checkers   NaN  1959-07-01   \n",
       "345       Perceptron (1960)   NaN  1960-03-30   \n",
       "\n",
       "     Training computation (petaFLOP)    Domain        time  \n",
       "437                     4.000000e-14  Robotics  1950-07-02  \n",
       "346                     6.948949e-10     Other  1957-01-01  \n",
       "340                     6.000000e-07  Language  1959-02-01  \n",
       "404                     4.284000e-07     Games  1959-07-01  \n",
       "345                     7.200000e-07    Vision  1960-03-30  "
      ]
     },
     "execution_count": 2,
     "metadata": {},
     "output_type": "execute_result"
    }
   ],
   "source": [
    "#%pip install plotly\n",
    "import pandas as pd\n",
    "import plotly.express as px\n",
    "\n",
    "# Extract\n",
    "url = \"https://raw.githubusercontent.com/Patrick0481/Data-mining-2025-course/refs/heads/main/artificial-intelligence-training-computation.csv?token=GHSAT0AAAAAADKNWND6ZIDOAMJDIG5E6J3K2GBKBLA\"\n",
    "rawDF = pd.read_csv(url)\n",
    "# Transform\n",
    "rawDF = rawDF.sort_values(by=['Day', 'Domain'])\n",
    "rawDF.head()"
   ]
  },
  {
   "cell_type": "code",
   "execution_count": 4,
   "id": "33a47955",
   "metadata": {},
   "outputs": [
    {
     "data": {
      "application/vnd.plotly.v1+json": {
       "config": {
        "plotlyServerURL": "https://plot.ly"
       },
       "data": [
        {
         "hovertemplate": "<b>%{hovertext}</b><br><br>Domain=Robotics<br>Day=%{x}<br>Training computation (petaFLOP)=%{y}<extra></extra>",
         "hovertext": [
          "Theseus",
          "Heuristic Reinforcement Learning",
          "ASE+ACE",
          "DD-PPO",
          "Swift",
          "Octo-Base",
          "RDT-1B"
         ],
         "legendgroup": "Robotics",
         "marker": {
          "color": "#636efa",
          "size": 12,
          "symbol": "circle"
         },
         "mode": "markers",
         "name": "Robotics",
         "orientation": "v",
         "showlegend": true,
         "type": "scatter",
         "x": [
          "1950-07-02",
          "1965-10-01",
          "1983-09-01",
          "2019-12-19",
          "2023-08-30",
          "2024-05-20",
          "2024-10-10"
         ],
         "xaxis": "x",
         "y": {
          "bdata": "myuhhpuEJj3ebD7m440SPpQn0RFHvpU+7FG4HsDNJ0GPwvUoXK9KQAAAAABQ2iFBAAAAAA5cg0E=",
          "dtype": "f8"
         },
         "yaxis": "y"
        },
        {
         "hovertemplate": "<b>%{hovertext}</b><br><br>Domain=Other<br>Day=%{x}<br>Training computation (petaFLOP)=%{y}<extra></extra>",
         "hovertext": [
          "Perceptron Mark I",
          "Linear Decision Functions",
          "Cognitron",
          "Distributed representation NN",
          "Back-propagation",
          "Translation-invariant MLP",
          "Bankruptcy-NN",
          "Cancer drug mechanism prediction",
          "Ceramic-MLP",
          "RankNet",
          "GNN",
          "GPU DBNs",
          "MuseNet",
          "DLRM-2020",
          "MetNet",
          "DLWP",
          "MedBERT",
          "FourCastNet",
          "AudioGen",
          "VideoMAE V2",
          "Pangu-Weather",
          "AudioLM",
          "GraphCast",
          "VILA-13B",
          "GenCast",
          "FGN"
         ],
         "legendgroup": "Other",
         "marker": {
          "color": "#EF553B",
          "size": 12,
          "symbol": "circle"
         },
         "mode": "markers",
         "name": "Other",
         "orientation": "v",
         "showlegend": true,
         "type": "scatter",
         "x": [
          "1957-01-01",
          "1962-06-01",
          "1975-09-01",
          "1986-08-15",
          "1986-10-01",
          "1987-06-15",
          "1990-06-17",
          "1992-10-16",
          "1994-01-07",
          "2005-08-07",
          "2008-12-09",
          "2009-06-15",
          "2019-04-25",
          "2019-05-31",
          "2020-03-24",
          "2021-02-09",
          "2021-05-20",
          "2022-02-22",
          "2023-03-05",
          "2023-03-29",
          "2023-07-05",
          "2023-07-26",
          "2023-11-14",
          "2023-12-12",
          "2024-05-01",
          "2025-06-12"
         ],
         "xaxis": "x",
         "y": {
          "bdata": "bmjTNFzgBz6SbNaKp8kaPj4cfkfeQzY+GMnHe4gXmj6vFJzA7ZymPggxJcCu6PI+z6QAvuCpyT5nkCiIfLNsPi4qnsVWAdM+P4PAYHSGbD8J4T9dpxa7PgAAAAAAAPA/FK5H4fD0CkEAAAAAAECvQPp+arx0k8JAcT0K14M0tkAAAAAAAH/CQNejcD1cDxVBAAAAAKweYkEAAAAAVIBiQQAAAABm+oJBAAAAAAB4rkAAAAAA9AZ0QQAAAMDMjEFBFK5H4czuKEEAAADgwFhiQQ==",
          "dtype": "f8"
         },
         "yaxis": "y"
        },
        {
         "hovertemplate": "<b>%{hovertext}</b><br><br>Domain=Language<br>Day=%{x}<br>Training computation (petaFLOP)=%{y}<extra></extra>",
         "hovertext": [
          "Pandemonium (morse)",
          "Predictive Coding NN",
          "LSTM",
          "RECONTRA-categorized",
          "RECONTRA-uncategorized",
          "Neural LM",
          "NPLM (AP News)",
          "NPLM (Brown)",
          "Hierarchical LM",
          "KN-LM",
          "SB-LM",
          "RNN LM",
          "LSTM LM",
          "DistBelief NNLM",
          "RCTM",
          "RNTN",
          "Word2Vec (large)",
          "TransE",
          "RNNsearch-50*",
          "Seq2Seq LSTM",
          "SPN-4+KN5",
          "SNM-skip",
          "genCNN + dyn eval",
          "Variational (untied weights, MC) LSTM (Large)",
          "Named Entity Recognition model",
          "GNMT",
          "Pointer Sentinel-LSTM (medium)",
          "VD-LSTM+REAL Large",
          "BIDAF",
          "NAS with base 8 and shared embeddings",
          "MoE-Multi",
          "Transformer (2017)",
          "ConvS2S (ensemble of 8 models)",
          "AWD-LSTM - 3-layer LSTM (tied) + continuous cache pointer (WT2)",
          "EI-REHN-1000D",
          "GL-LWGC-AWD-MoS-LSTM + dynamic evaluation (WT2)",
          "ISS",
          "AWD-LSTM+WT+Cache+IOG (WT2)",
          "Fraternal dropout + AWD-LSTM 3-layer (WT2)",
          "AWD-LSTM-MoS + dynamic evaluation (WT2, 2017)",
          "ELMo",
          "QRNN",
          "4 layer QRNN (h=2500)",
          "Dropout-LSTM+Noise(Bernoulli) (WT2)",
          "aLSTM(depth-2)+RecurrentPolicy (WT2)",
          "GPT-1",
          "Big Transformer for Back-Translation",
          "(ensemble): AWD-LSTM-DOC (fin) × 5 (WT2)",
          "Transformer + Simple Recurrent Unit",
          "LSTM+NeuralCache",
          "Transformer (Adaptive Input Embeddings) WT103",
          "BERT-Large",
          "TrellisNet",
          "Mesh-TensorFlow Transformer 2.9B (translation)",
          "Mesh-TensorFlow Transformer 4.9B (language)",
          "Fine-tuned-AWD-LSTM-DOC (fin)",
          "Multi-cell LSTM",
          "Transformer-XL (257M)",
          "GPT-2 (1.5B)",
          "SciBERT",
          "Cross-lingual alignment",
          "WeNet (Penn Treebank)",
          "BERT-Large-CAS (PTB+WT2+WT103)",
          "AWD-LSTM-DRILL + dynamic evaluation† (WT2)",
          "XLNet",
          "Transformer-XL Large + Phrase Induction",
          "AWD-LSTM + MoS + Partial Shuffled",
          "RoBERTa Large",
          "Megatron-BERT",
          "Megatron-LM (1.2B)",
          "Megatron-LM (8.3B)",
          "DistilBERT",
          "T5-11B",
          "T5-3B",
          "Base LM + kNN LM + Continuous Cache",
          "XLM-RoBERTa",
          "CamemBERT",
          "Sandwich Transformer",
          "Transformer-XL DeFINE (141M)",
          "MMLSTM (PTB)",
          "MMLSTM (WT-2)",
          "Meena",
          "TaLK Convolution",
          "ALBERT-xxlarge",
          "Turing-NLG",
          "Feedback Transformer",
          "TransformerXL + spectrum control",
          "Tensor-Transformer(1core)+PN (WT103)",
          "ELECTRA",
          "ATLAS",
          "UnifiedQA",
          "GPT-3 175B (davinci)",
          "GShard (dense)",
          "DeLighT",
          "ERNIE-GEN (large)",
          "LUKE",
          "mT5-XXL",
          "German ELECTRA Large",
          "KEPLER",
          "CPM-Large",
          "DensePhrases",
          "CT-MoS (WT2)",
          "ERNIE-Doc (247M)",
          "Switch",
          "SRU++ Large",
          "Generative BST",
          "PLUG",
          "ByT5-XXL",
          "EMDR",
          "DeBERTa",
          "Adaptive Input Transformer + RD",
          "ERNIE 3.0",
          "Codex",
          "Jurassic-1-Jumbo",
          "XLMR-XXL",
          "FLAN 137B",
          "PermuteFormer",
          "HyperCLOVA 204B",
          "PLATO-XL",
          "Turing ULRv5",
          "Megatron-Turing NLG 530B",
          "Yuan 1.0",
          "base LM+GNN+kNN",
          "S4",
          "CodeT5-base",
          "Gopher (280B)",
          "GLaM",
          "Contriever",
          "XGLM-7.5B",
          "ERNIE 3.0 Titan",
          "InstructGPT 175B",
          "AlphaCode",
          "RETRO-7B",
          "GPT-NeoX-20B",
          "LaMDA",
          "ST-MoE",
          "PolyCoder",
          "Segatron-XL large, M=384 + HCP",
          "Chinchilla",
          "PaLM (540B)",
          "Sparse all-MLP",
          "OPT-175B",
          "UL2",
          "GPT-2 Medium (FlashAttention)",
          "DITTO",
          "Minerva (540B)",
          "CodeT5-large",
          "NLLB",
          "BLOOM-176B",
          "AlexaTM 20B",
          "GLM-130B",
          "BlenderBot 3",
          "Flan-PaLM 540B",
          "U-PaLM (540B)",
          "Mogrifier RLSTM (WT2)",
          "Fusion in Encoder",
          "GPT-3.5",
          "Vega v2",
          "Hybrid H3-2.7B",
          "LLaMA-65B",
          "Falcon-40B",
          "PanGu-Σ",
          "BloombergGPT",
          "Incoder-6.7B",
          "StarCoder",
          "PaLM 2",
          "InternLM",
          "Claude 2",
          "Llama 2-70B",
          "Llama 2-7B",
          "Jais",
          "Falcon-180B",
          "FinGPT-13B",
          "CODEFUSION (Python)",
          "Skywork-13B",
          "Yi-34B",
          "Grok-1",
          "Nemotron-3-8B",
          "Inflection-2",
          "Qwen-72B",
          "Llama Guard",
          "Mixtral 8x7B",
          "nekomata-14b",
          "Qwen1.5-72B",
          "MegaScale (Production)",
          "Mistral Large",
          "Aramco Metabrain AI",
          "Inflection-2.5",
          "DBRX",
          "Llama 3-70B",
          "Yi-Large",
          "ALLaM 7B",
          "ALLaM adapted 70B",
          "Qwen2-72B",
          "Llama-3.1-Nemotron-70B-Instruct",
          "Nemotron-4 340B",
          "DeepSeek-Coder-V2 236B",
          "Llama 3.1-405B",
          "Mistral Large 2",
          "AFM-on-device",
          "AFM-server",
          "GLM-4-Plus",
          "DeepSeek-V2.5",
          "Qwen2.5-32B",
          "Qwen2.5 Instruct (72B)",
          "Qwen2.5-72B",
          "Telechat2-115B",
          "Yi-Lightning",
          "Doubao-pro",
          "Hunyuan-Large",
          "Llama 3.3 70B",
          "EXAONE 3.5 32B",
          "DeepSeek-V3",
          "DeepSeek-R1",
          "QwQ-32B",
          "EXAONE Deep 32B",
          "Pangu Ultra",
          "Kimi K2",
          "EXAONE 4.0 (32B)",
          "GLM 4.5",
          "gpt-oss-120b",
          "gpt-oss-20b"
         ],
         "legendgroup": "Language",
         "marker": {
          "color": "#00cc96",
          "size": 12,
          "symbol": "circle"
         },
         "mode": "markers",
         "name": "Language",
         "orientation": "v",
         "showlegend": true,
         "type": "scatter",
         "x": [
          "1959-02-01",
          "1994-12-02",
          "1997-11-15",
          "1999-06-02",
          "1999-06-02",
          "2000-11-28",
          "2003-03-15",
          "2003-03-15",
          "2005-01-06",
          "2007-06-22",
          "2007-06-22",
          "2010-09-26",
          "2012-09-09",
          "2013-01-16",
          "2013-10-01",
          "2013-10-01",
          "2013-10-16",
          "2013-12-05",
          "2014-09-01",
          "2014-09-10",
          "2014-09-14",
          "2014-12-03",
          "2015-03-17",
          "2015-12-16",
          "2016-03-04",
          "2016-09-26",
          "2016-09-26",
          "2016-11-04",
          "2016-11-05",
          "2016-11-05",
          "2017-01-23",
          "2017-06-12",
          "2017-07-25",
          "2017-08-07",
          "2017-08-14",
          "2017-08-29",
          "2017-09-15",
          "2017-09-26",
          "2017-10-31",
          "2017-11-10",
          "2018-02-01",
          "2018-02-01",
          "2018-03-22",
          "2018-05-03",
          "2018-05-22",
          "2018-06-01",
          "2018-08-28",
          "2018-08-30",
          "2018-09-17",
          "2018-09-24",
          "2018-09-28",
          "2018-10-11",
          "2018-10-15",
          "2018-11-05",
          "2018-11-05",
          "2018-11-12",
          "2018-11-15",
          "2019-01-09",
          "2019-02-14",
          "2019-03-26",
          "2019-04-04",
          "2019-04-08",
          "2019-04-20",
          "2019-05-14",
          "2019-06-01",
          "2019-06-04",
          "2019-06-10",
          "2019-07-01",
          "2019-09-17",
          "2019-09-17",
          "2019-09-17",
          "2019-10-02",
          "2019-10-23",
          "2019-10-23",
          "2019-11-01",
          "2019-11-05",
          "2019-11-10",
          "2019-11-10",
          "2019-11-27",
          "2019-12-05",
          "2019-12-05",
          "2020-01-28",
          "2020-02-08",
          "2020-02-09",
          "2020-02-13",
          "2020-02-21",
          "2020-03-11",
          "2020-03-17",
          "2020-03-23",
          "2020-05-02",
          "2020-05-02",
          "2020-05-28",
          "2020-06-30",
          "2020-08-03",
          "2020-08-06",
          "2020-10-02",
          "2020-10-20",
          "2020-10-21",
          "2020-11-23",
          "2020-12-01",
          "2020-12-23",
          "2020-12-25",
          "2020-12-31",
          "2021-01-11",
          "2021-02-24",
          "2021-03-05",
          "2021-04-19",
          "2021-05-28",
          "2021-06-09",
          "2021-06-10",
          "2021-06-28",
          "2021-07-05",
          "2021-07-07",
          "2021-08-11",
          "2021-08-17",
          "2021-09-03",
          "2021-09-06",
          "2021-09-10",
          "2021-09-20",
          "2021-09-28",
          "2021-10-11",
          "2021-10-12",
          "2021-10-17",
          "2021-10-31",
          "2021-11-01",
          "2021-12-08",
          "2021-12-13",
          "2021-12-16",
          "2021-12-20",
          "2021-12-23",
          "2022-01-27",
          "2022-02-02",
          "2022-02-07",
          "2022-02-09",
          "2022-02-10",
          "2022-02-17",
          "2022-02-26",
          "2022-03-21",
          "2022-03-29",
          "2022-04-04",
          "2022-04-14",
          "2022-05-02",
          "2022-05-10",
          "2022-05-27",
          "2022-06-06",
          "2022-06-29",
          "2022-07-05",
          "2022-07-06",
          "2022-07-11",
          "2022-08-02",
          "2022-08-04",
          "2022-08-10",
          "2022-10-20",
          "2022-10-20",
          "2022-11-03",
          "2022-11-18",
          "2022-11-28",
          "2022-12-04",
          "2022-12-28",
          "2023-02-24",
          "2023-03-15",
          "2023-03-20",
          "2023-03-30",
          "2023-04-09",
          "2023-05-09",
          "2023-05-10",
          "2023-07-06",
          "2023-07-11",
          "2023-07-18",
          "2023-07-18",
          "2023-08-29",
          "2023-09-06",
          "2023-10-07",
          "2023-10-26",
          "2023-10-30",
          "2023-11-02",
          "2023-11-04",
          "2023-11-15",
          "2023-11-22",
          "2023-11-30",
          "2023-12-07",
          "2023-12-11",
          "2023-12-21",
          "2024-02-04",
          "2024-02-23",
          "2024-02-26",
          "2024-03-04",
          "2024-03-07",
          "2024-03-27",
          "2024-04-18",
          "2024-05-13",
          "2024-05-21",
          "2024-05-21",
          "2024-06-07",
          "2024-06-12",
          "2024-06-14",
          "2024-06-17",
          "2024-07-23",
          "2024-07-24",
          "2024-07-29",
          "2024-07-29",
          "2024-08-29",
          "2024-09-06",
          "2024-09-17",
          "2024-09-19",
          "2024-09-19",
          "2024-09-20",
          "2024-10-18",
          "2024-10-28",
          "2024-11-06",
          "2024-12-06",
          "2024-12-09",
          "2024-12-24",
          "2025-01-20",
          "2025-03-06",
          "2025-03-16",
          "2025-04-10",
          "2025-07-11",
          "2025-07-15",
          "2025-08-05",
          "2025-08-05",
          "2025-08-05"
         ],
         "xaxis": "x",
         "y": {
          "bdata": "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",
          "dtype": "f8"
         },
         "yaxis": "y"
        },
        {
         "hovertemplate": "<b>%{hovertext}</b><br><br>Domain=Games<br>Day=%{x}<br>Training computation (petaFLOP)=%{y}<extra></extra>",
         "hovertext": [
          "Samuel Neural Checkers",
          "TD-Gammon",
          "NeuroChess",
          "DQN",
          "SmooCT",
          "AlphaGo Fan",
          "AlphaGo Lee",
          "DeepStack",
          "OpenAI TI7 DOTA 1v1",
          "Libratus",
          "AlphaGo Zero",
          "AlphaGo Master",
          "AlphaZero",
          "IMPALA",
          "FTW (For The Win)",
          "Hanabi 4 player",
          "KataGo",
          "Pluribus",
          "AlphaStar",
          "MuZero",
          "OpenAI Five",
          "OpenAI Five Rerun",
          "GOAT",
          "Student of Games"
         ],
         "legendgroup": "Games",
         "marker": {
          "color": "#ab63fa",
          "size": 12,
          "symbol": "circle"
         },
         "mode": "markers",
         "name": "Games",
         "orientation": "v",
         "showlegend": true,
         "type": "scatter",
         "x": [
          "1959-07-01",
          "1992-05-01",
          "1994-12-02",
          "2013-12-19",
          "2014-07-01",
          "2015-10-01",
          "2016-01-27",
          "2017-01-06",
          "2017-08-11",
          "2017-08-19",
          "2017-10-18",
          "2017-10-19",
          "2017-12-05",
          "2018-02-05",
          "2018-07-03",
          "2019-02-01",
          "2019-02-27",
          "2019-07-11",
          "2019-10-30",
          "2019-11-19",
          "2019-12-13",
          "2019-12-13",
          "2021-07-27",
          "2021-12-06"
         ],
         "xaxis": "x",
         "y": {
          "bdata": "sGQXINu/nD4YwDNYc6uSP4tc3VmOI0w/mgtcHmvGBkAAAAAAAEBRQOxRuB6AMRdBAAAAAOD9PEFI4XoUrj/MQAAAAACDcyJBAAAAALDQIEHNzMzMv9EjQQAAAAAg0BRBAAAAAADh+UAAAAAAAIIEQQmKH2N+vb5AAAAAAADMsECmm8QgAKjWQAAAAAAAgFBAAAAAwI+vmUEAAAAAAHDnQAAAACC28o9BAAAAAKjLaEEAAAAArAB3QQAAADBzfYFB",
          "dtype": "f8"
         },
         "yaxis": "y"
        },
        {
         "hovertemplate": "<b>%{hovertext}</b><br><br>Domain=Vision<br>Day=%{x}<br>Training computation (petaFLOP)=%{y}<extra></extra>",
         "hovertext": [
          "Perceptron (1960)",
          "ADALINE",
          "Print Recognition Logic",
          "Neocognitron",
          "Invariant image recognition",
          "Handwritten Digit Recognition System",
          "Zip CNN",
          "SexNet compression",
          "Siamese-TDNN",
          "ANN Eye Tracker",
          "JPMAX",
          "Mixture of linear models",
          "LISSOM",
          "MUSIC perceptron",
          "System 11",
          "SOM-CNN",
          "LeNet-5",
          "PoE MNIST",
          "Decision tree (classification)",
          "Invariant CNN",
          "LMICA",
          "SVM-CNN",
          "Two Stage Feature Extraction (MNIST)",
          "LCNP LabelMe",
          "LCNP MNIST",
          "LCNP NORB",
          "Feedforward NN",
          "iCCCP",
          "Pooling CNN (Caltech 101)",
          "Pooling CNN (NORB)",
          "Deep Autoencoders",
          "High Performance CNN (NORB)",
          "CNN Committee (MNIST)",
          "CNN Committee (NIST)",
          "CNN committee (traffic sign)",
          "Dropout (CIFAR)",
          "Dropout (ImageNet)",
          "Dropout (MNIST)",
          "Unsupervised High-level Feature Learner",
          "AlexNet",
          "DNN EM segmentation",
          "Hierarchical Scene Labeling (Stanford Background)",
          "Visualizing CNNs",
          "Image generation",
          "SPPNet",
          "ACF-WIDER",
          "VGG16",
          "VGG19",
          "GoogLeNet / InceptionV1",
          "TA-CNN",
          "Fractional Max-Pooling",
          "ADAM (CIFAR-10)",
          "MSRA (C, PReLU)",
          "U-Net",
          "DCNN",
          "SAF R-CNN",
          "Inception v3",
          "ResNet-101 (ImageNet)",
          "ResNet-152 (ImageNet)",
          "R-FCN",
          "ResNet-200",
          "Xception",
          "NASv3 (CIFAR-10)",
          "PolyNet",
          "HR-ResNet101",
          "EnhanceNet",
          "JFT",
          "RetinaNet-R101",
          "PyramidNet",
          "YOLOv3",
          "ResNeXt-101 32x48d",
          "Big-Little Net",
          "AlphaX-1",
          "Noisy Student (L2)",
          "Once for All",
          "DETR",
          "ViT-Huge/14",
          "DeiT-B",
          "Meta Pseudo Labels",
          "Transformer local-attention (NesT-B)",
          "ViT-G/14",
          "CoAtNet",
          "Denoising Diffusion Probabilistic Models (LSUN Bedroom)",
          "EfficientNetV2-XL",
          "SEER",
          "YOLOX-X",
          "Masked Autoencoders ViT-H",
          "BASIC-L",
          "Florence",
          "Detic",
          "ViT-G (model soup)",
          "CoCa",
          "InternImage",
          "EVA-01",
          "ViT-22B",
          "SigLIP 400M",
          "Segment Anything Model",
          "DINOv2"
         ],
         "legendgroup": "Vision",
         "marker": {
          "color": "#FFA15A",
          "size": 12,
          "symbol": "circle"
         },
         "mode": "markers",
         "name": "Vision",
         "orientation": "v",
         "showlegend": true,
         "type": "scatter",
         "x": [
          "1960-03-30",
          "1960-06-30",
          "1963-01-01",
          "1980-04-01",
          "1989-06-18",
          "1989-11-27",
          "1989-12-01",
          "1990-10-01",
          "1993-08-01",
          "1993-11-29",
          "1994-12-02",
          "1994-12-02",
          "1995-11-27",
          "1996-06-03",
          "1996-06-18",
          "1997-01-31",
          "1998-11-01",
          "2000-11-28",
          "2001-12-08",
          "2004-06-27",
          "2004-12-01",
          "2006-06-17",
          "2009-09-01",
          "2009-11-22",
          "2009-11-22",
          "2009-11-22",
          "2010-05-13",
          "2010-06-13",
          "2010-09-15",
          "2010-09-15",
          "2011-04-29",
          "2011-07-16",
          "2011-09-18",
          "2011-09-18",
          "2011-10-03",
          "2012-06-03",
          "2012-06-03",
          "2012-06-03",
          "2012-07-12",
          "2012-09-30",
          "2012-12-03",
          "2013-08-01",
          "2013-11-12",
          "2013-12-20",
          "2014-06-18",
          "2014-07-15",
          "2014-09-04",
          "2014-09-04",
          "2014-09-17",
          "2014-11-29",
          "2014-12-18",
          "2014-12-22",
          "2015-02-06",
          "2015-05-18",
          "2015-08-07",
          "2015-10-28",
          "2015-12-02",
          "2015-12-10",
          "2015-12-10",
          "2016-06-21",
          "2016-09-17",
          "2016-10-07",
          "2016-11-05",
          "2016-11-17",
          "2016-12-13",
          "2016-12-23",
          "2017-07-10",
          "2017-08-07",
          "2017-09-06",
          "2018-04-08",
          "2018-05-02",
          "2018-07-10",
          "2019-10-02",
          "2019-11-11",
          "2020-04-29",
          "2020-05-26",
          "2020-10-22",
          "2021-01-15",
          "2021-03-01",
          "2021-05-26",
          "2021-06-08",
          "2021-06-09",
          "2021-06-11",
          "2021-06-23",
          "2021-07-29",
          "2021-08-06",
          "2021-11-11",
          "2021-11-19",
          "2021-11-22",
          "2022-01-07",
          "2022-03-10",
          "2022-06-14",
          "2022-11-10",
          "2022-11-14",
          "2023-02-10",
          "2023-03-27",
          "2023-04-05",
          "2023-04-14"
         ],
         "xaxis": "x",
         "y": {
          "bdata": "wZ12vsAoqD42wot78AadPcGddr7AKFg+u07qgslekj7eADPfwU/8PkrDfLsdyCc/QVGFsRiEWD9TgoWhg6YUP0LRG3JcW4o/zcOR3Npi8j4uYrAjerJ1Ph30Wyoluj0/n8ezCmWhKT9egOZ8hORMP8wkTVmjHfs+ym0Hn616AD9v4wSi9gZnP/09kkHXhqo/VOOlm8QgsD9EaZD+buxPPwnLjkOzQQZAm1Wfq63Y5z/ScwtdiUCVP5k8r8J3XApAPc9EfTe6EEAEyqZc4Z0DQEn133tmZtY/SOF6FK5H8T+nqnWHuYnzP9CDFm3pTPc/WkdVE0RdQkAj2/l+asw5QAAAAAAAAEpAAAAAAAAAOkAZo7/hT77vP6W9wRcmExFApb3BFyYTcUCtpBXfUCgYQAAAAAAAwIJAAAAAAABgfUAAAAAAAOB9QLR224Xmt21AAAAAAACggEBCIPpirWneP6AaL90kpqpArKUE7aONsz8AAAAAgAHIQAAAAAAAfMVAAAAAAACYl0Boke18P7UlQAAAAAAAAFlAaRYNvtX/4z+LbOf7gWnXQLt/LESHaklAwoanV8oPfkB9PzVeigvIQAAAAAAAavhAAAAAAABcu0B9PzVeClfEQBIUP8bceoZAexSuR2kL3UAAAAAAgJwaQQAAAADgyEBBAAAAAABA70AAAAAAAKW7QHi0ccRaWWBA7FG4HvC5KUEQWDm0yCKgQLgehetRuAJA46WbxDA0ykAAAADAga1gQajGSzeJwW5AmG4Sg8DKi0AAAAAA9Oh4QQAAAACoCCNBAAAAAABqGEEAAAAAHEJQQQAAAACAP/NAAAAAICvXhkEMAiuHZn7XQAAAAAAd5YtBAAAAIGdchEEAAAAAFCTzQI/C9SgAV/dAAAAAAIgqcUEAAAAARlsjQQAAAACAExxBAAAAAEylg0EAAACANwmHQWZmZmb+49ZAmpmZGaDwSUEAAAAAkWeRQZqZmRkgX0JBAAAAABqhbEEAAAAAdgmnQQAAAKDK3lJBAAAAADDBXUEAAADAo0xcQQ==",
          "dtype": "f8"
         },
         "yaxis": "y"
        },
        {
         "hovertemplate": "<b>%{hovertext}</b><br><br>Domain=Speech<br>Day=%{x}<br>Training computation (petaFLOP)=%{y}<extra></extra>",
         "hovertext": [
          "LTE speaker verification system",
          "NetTalk (dictionary)",
          "NetTalk (transcription)",
          "MLN-ASR",
          "Speaker-independent vowel classification",
          "NETtalk reimplementation",
          "Weight Decay",
          "DistBelief Speech",
          "ReLU-Speech",
          "TC-DNN-BLSTM-DNN",
          "Big-Little Net (speech)",
          "ContextNet + Noisy Student",
          "Conformer + Wav2vec 2.0 + Noisy Student",
          "wave2vec 2.0 LARGE",
          "HuBERT",
          "Whisper"
         ],
         "legendgroup": "Speech",
         "marker": {
          "color": "#19d3f3",
          "size": 12,
          "symbol": "circle"
         },
         "mode": "markers",
         "name": "Speech",
         "orientation": "v",
         "showlegend": true,
         "type": "scatter",
         "x": [
          "1966-11-01",
          "1987-06-06",
          "1987-06-06",
          "1988-08-01",
          "1989-11-27",
          "1990-06-01",
          "1991-12-02",
          "2012-12-03",
          "2013-05-26",
          "2015-04-06",
          "2018-07-10",
          "2020-01-19",
          "2020-10-20",
          "2020-10-22",
          "2021-07-27",
          "2022-09-21"
         ],
         "xaxis": "x",
         "y": {
          "bdata": "07vyn5BufD4c9KEABAL9PsVZc3k9tP0+asXi74rkkz7T1dBytGXfPg6CXMCYxgI/SwphcvnIEz/vG197ZnZzQMR8eQH27l9AZw+0AkNDaEDe5SK+E9B6QAAAAADAIF9BAAAAAOD9XEEAAAAAAIhNQQAAAAAoIlVBAAAAoKgMUEE=",
          "dtype": "f8"
         },
         "yaxis": "y"
        },
        {
         "hovertemplate": "<b>%{hovertext}</b><br><br>Domain=Image generation<br>Day=%{x}<br>Training computation (petaFLOP)=%{y}<extra></extra>",
         "hovertext": [
          "GANs",
          "StyleGAN",
          "DALL-E",
          "ADM",
          "CogView",
          "StyleGAN3-R",
          "StyleGAN3-T",
          "Projected GAN",
          "Make-A-Scene",
          "DALL·E 2",
          "Stable Diffusion (LDM-KL-8-G)",
          "Imagen",
          "Parti",
          "eDiff-I",
          "AR-LDM",
          "Discriminator Guidance",
          "DDPM-IP (CelebA)",
          "DiT-XL/2",
          "Stable Diffusion 3"
         ],
         "legendgroup": "Image generation",
         "marker": {
          "color": "#FF6692",
          "size": 12,
          "symbol": "circle"
         },
         "mode": "markers",
         "name": "Image generation",
         "orientation": "v",
         "showlegend": true,
         "type": "scatter",
         "x": [
          "2014-06-10",
          "2018-12-12",
          "2021-01-05",
          "2021-05-11",
          "2021-05-26",
          "2021-06-21",
          "2021-06-21",
          "2021-11-01",
          "2022-03-24",
          "2022-04-06",
          "2022-04-13",
          "2022-05-23",
          "2022-06-22",
          "2022-11-02",
          "2022-11-20",
          "2022-11-28",
          "2023-01-27",
          "2023-03-02",
          "2024-02-22"
         ],
         "xaxis": "x",
         "y": {
          "bdata": "MzMzMzMzgEBmZmZmZqZDQAAAAABOaYZBAAAAALCmV0EAAAAA+I55QQAAAADghUJBAAAAAMD4OUEAAAAAAILEQAAAAEDhelhBAAAApJEVtEEAAAAAhNeHQQAAAADo2GtBAAAAIgBgvkGmm8QgAKnqQAAAAADAIB9BAAAAAKBUCkEAAAAAwFwVQQAAAACATyJBAAAAAITXh0E=",
          "dtype": "f8"
         },
         "yaxis": "y"
        },
        {
         "hovertemplate": "<b>%{hovertext}</b><br><br>Domain=Biology<br>Day=%{x}<br>Training computation (petaFLOP)=%{y}<extra></extra>",
         "hovertext": [
          "SPIDER2",
          "DeepLoc",
          "trRosetta",
          "UDSMProt",
          "AlphaFold",
          "ProBERTa",
          "AlphaFold 2",
          "ESM1b",
          "MSA Transformer",
          "ProtBERT-BFD",
          "ProtT5-XL-U50",
          "Fold2Seq",
          "DNABERT",
          "AlphaFold-Multimer",
          "ProteinBERT",
          "BERT-RBP",
          "Tranception",
          "ProGen2-xlarge",
          "ESM2-15B",
          "OmegaPLM",
          "DiffDock",
          "GenSLM",
          "CaLM",
          "Nucleotide Transformer",
          "Ankh_large",
          "HyenaDNA",
          "xTrimoPGLM -100B",
          "GGNN",
          "PeptideBERT",
          "RoseTTAFold All-Atom (RFAA)",
          "AlphaFold 3",
          "ESM3 (98B)",
          "CHAI-1"
         ],
         "legendgroup": "Biology",
         "marker": {
          "color": "#B6E880",
          "size": 12,
          "symbol": "circle"
         },
         "mode": "markers",
         "name": "Biology",
         "orientation": "v",
         "showlegend": true,
         "type": "scatter",
         "x": [
          "2016-10-28",
          "2017-07-07",
          "2019-08-22",
          "2019-09-04",
          "2020-01-15",
          "2020-09-01",
          "2020-11-30",
          "2020-12-15",
          "2021-02-13",
          "2021-05-04",
          "2021-05-04",
          "2021-06-24",
          "2021-08-15",
          "2021-10-04",
          "2022-02-10",
          "2022-04-07",
          "2022-05-27",
          "2022-06-27",
          "2022-07-21",
          "2022-07-22",
          "2022-10-04",
          "2022-10-11",
          "2022-12-19",
          "2023-01-15",
          "2023-01-16",
          "2023-06-27",
          "2023-07-06",
          "2023-08-05",
          "2023-08-28",
          "2023-10-09",
          "2024-05-08",
          "2024-06-25",
          "2024-10-15"
         ],
         "xaxis": "x",
         "y": {
          "bdata": "WRZM/FE4MkDiWBe30RCCQKRwPQr/k+JAAAAAAADog0AAAAAAAGr4QKabxCAA/MJAAAAAANjPRkEAAAAAeHRTQQAAAABU8VRBAAAAIL6YgkEAAAAgh9ZxQQAAAAAAgGFAj8L1KIAf+kAAAAAADJhQQQAAAAAAve9AAAAAAAAXAUEAAAAgUJ5bQQAAACDMv2lBAAAAgBWGkUEAAABgZr5jQQAAAAAAlPFAAAAAAOCqNUEAAAAAAFLcQAAAAACg0l5BAAAAAKjLWEEAAAAAOKI7QQAAAIA5esJBAAAAINDWXEFB740hAIBIQI/C9SiAHwpBAAAAYGa+g0EAAADAc+PPQQAAACCvml1B",
          "dtype": "f8"
         },
         "yaxis": "y"
        },
        {
         "hovertemplate": "<b>%{hovertext}</b><br><br>Domain=Multiple domains<br>Day=%{x}<br>Training computation (petaFLOP)=%{y}<extra></extra>",
         "hovertext": [
          "CLIP (ViT L/14@336px)",
          "M6-T",
          "ALIGN",
          "Zidong Taichu",
          "Swin Transformer V2 (SwinV2-G)",
          "NÜWA",
          "Flamingo",
          "Gato",
          "BEIT-3",
          "PaLI",
          "AlphaTensor",
          "Galactica",
          "VALL-E",
          "DreamerV3",
          "BLIP-2 (Q-Former)",
          "GPT-4",
          "LLaVA",
          "InstructBLIP",
          "ONE-PEACE",
          "PaLI-X",
          "Amazon Titan",
          "ChatGLM3-6B",
          "LLaVA 1.5",
          "CogVLM-17B",
          "GPT-4 Turbo",
          "MultiBand Diffusion",
          "SPHINX (Llama 2 13B)",
          "Volcano 13B",
          "Gemini 1.0 Pro",
          "Gemini 1.0 Ultra",
          "CogAgent",
          "FunSearch",
          "Gemini 1.5 Pro",
          "Claude 3 Opus",
          "MM1-30B",
          "Reka Core",
          "VILA1.5-13B",
          "GPT-4o",
          "OpenVLA",
          "Claude 3.5 Sonnet",
          "GPT-4o mini",
          "LLaVA-OV-72B",
          "Grok-2",
          "Llama 3.2 11B",
          "Movie Gen Video",
          "NVLM-D 72B",
          "NVLM-H 72B",
          "NVLM-X 72B",
          "Amazon Nova Pro",
          "Eagle 2",
          "Grok 3",
          "Claude 3.7 Sonnet",
          "GPT-4.5",
          "Llama 4 Behemoth (preview)",
          "Llama 4 Maverick",
          "Llama 4 Scout",
          "Seed1.5-VL",
          "Grok 4"
         ],
         "legendgroup": "Multiple domains",
         "marker": {
          "color": "#FF97FF",
          "size": 12,
          "symbol": "circle"
         },
         "mode": "markers",
         "name": "Multiple domains",
         "orientation": "v",
         "showlegend": true,
         "type": "scatter",
         "x": [
          "2021-01-05",
          "2021-03-05",
          "2021-06-11",
          "2021-08-11",
          "2021-11-18",
          "2021-11-24",
          "2022-04-29",
          "2022-05-12",
          "2022-08-22",
          "2022-09-14",
          "2022-10-05",
          "2022-11-16",
          "2023-01-05",
          "2023-01-10",
          "2023-01-30",
          "2023-03-15",
          "2023-04-17",
          "2023-05-11",
          "2023-05-18",
          "2023-05-29",
          "2023-09-28",
          "2023-10-27",
          "2023-11-05",
          "2023-11-06",
          "2023-11-06",
          "2023-11-08",
          "2023-11-13",
          "2023-11-13",
          "2023-12-06",
          "2023-12-06",
          "2023-12-14",
          "2023-12-14",
          "2024-02-15",
          "2024-03-04",
          "2024-03-14",
          "2024-04-15",
          "2024-05-03",
          "2024-05-13",
          "2024-06-13",
          "2024-06-20",
          "2024-07-18",
          "2024-08-06",
          "2024-08-13",
          "2024-09-24",
          "2024-10-04",
          "2024-10-22",
          "2024-10-22",
          "2024-10-22",
          "2024-12-03",
          "2025-01-20",
          "2025-02-17",
          "2025-02-24",
          "2025-02-27",
          "2025-04-05",
          "2025-04-05",
          "2025-04-05",
          "2025-05-11",
          "2025-07-09"
         ],
         "xaxis": "x",
         "y": {
          "bdata": "AAAAAPQGZEEAAAAgGPtUQQAAAMBoyHhBAAAAAIB2KEEAAAAA4MgwQQAAAAAppFtBAAAAwH4aqkEAAAAAkKtOQQAAAAAAF/FAAAAAqHglpEGamZmZR8slQQAAAADZT7NBAAAAAAC6w0AAAAAAAOUKQQAAAACATzJBAAAASMqOE0IAAACgu5uSQQAAAACArgdBAAAAAAD5BUEAAAAAdrDAQQAAAACj4fFBAAAAAFgIiEEAAADAA52SQQAAAIBFMI5BAAAAcDV9FEIAAAAAAGTZQAAAAADg/XxBAAAAAGi+hUEAAABa5kTbQQAAcP92SCdCAAAAoEH7j0EAAADAJhG3QQAAgCgIbg1CAACAWCKMDkIAAACAxfe8QQAAALHfSv9BAAAAwMyMQUEAACAI4L0hQgAAAADeOZpBAADAGE0lGUIAAABxDWv7QQAAAGjDn+ZBAABAvzCRG0IAAABga0HBQQAAACBAlthBAAAAYDGA5kEAAABgMYDmQQAAADv+peZBAABAHg5a9kEAAAAAWXyGQQAAAAtoX1RCAAAAvAUzH0IAAADafHJIQgAAAEDPIyhCAAAAIBe44EEAAICl+2XuQQAAALjrsNRBAAAAopQaXUI=",
          "dtype": "f8"
         },
         "yaxis": "y"
        }
       ],
       "layout": {
        "legend": {
         "title": {
          "text": "Domain"
         },
         "tracegroupgap": 0
        },
        "template": {
         "data": {
          "bar": [
           {
            "error_x": {
             "color": "#2a3f5f"
            },
            "error_y": {
             "color": "#2a3f5f"
            },
            "marker": {
             "line": {
              "color": "#E5ECF6",
              "width": 0.5
             },
             "pattern": {
              "fillmode": "overlay",
              "size": 10,
              "solidity": 0.2
             }
            },
            "type": "bar"
           }
          ],
          "barpolar": [
           {
            "marker": {
             "line": {
              "color": "#E5ECF6",
              "width": 0.5
             },
             "pattern": {
              "fillmode": "overlay",
              "size": 10,
              "solidity": 0.2
             }
            },
            "type": "barpolar"
           }
          ],
          "carpet": [
           {
            "aaxis": {
             "endlinecolor": "#2a3f5f",
             "gridcolor": "white",
             "linecolor": "white",
             "minorgridcolor": "white",
             "startlinecolor": "#2a3f5f"
            },
            "baxis": {
             "endlinecolor": "#2a3f5f",
             "gridcolor": "white",
             "linecolor": "white",
             "minorgridcolor": "white",
             "startlinecolor": "#2a3f5f"
            },
            "type": "carpet"
           }
          ],
          "choropleth": [
           {
            "colorbar": {
             "outlinewidth": 0,
             "ticks": ""
            },
            "type": "choropleth"
           }
          ],
          "contour": [
           {
            "colorbar": {
             "outlinewidth": 0,
             "ticks": ""
            },
            "colorscale": [
             [
              0,
              "#0d0887"
             ],
             [
              0.1111111111111111,
              "#46039f"
             ],
             [
              0.2222222222222222,
              "#7201a8"
             ],
             [
              0.3333333333333333,
              "#9c179e"
             ],
             [
              0.4444444444444444,
              "#bd3786"
             ],
             [
              0.5555555555555556,
              "#d8576b"
             ],
             [
              0.6666666666666666,
              "#ed7953"
             ],
             [
              0.7777777777777778,
              "#fb9f3a"
             ],
             [
              0.8888888888888888,
              "#fdca26"
             ],
             [
              1,
              "#f0f921"
             ]
            ],
            "type": "contour"
           }
          ],
          "contourcarpet": [
           {
            "colorbar": {
             "outlinewidth": 0,
             "ticks": ""
            },
            "type": "contourcarpet"
           }
          ],
          "heatmap": [
           {
            "colorbar": {
             "outlinewidth": 0,
             "ticks": ""
            },
            "colorscale": [
             [
              0,
              "#0d0887"
             ],
             [
              0.1111111111111111,
              "#46039f"
             ],
             [
              0.2222222222222222,
              "#7201a8"
             ],
             [
              0.3333333333333333,
              "#9c179e"
             ],
             [
              0.4444444444444444,
              "#bd3786"
             ],
             [
              0.5555555555555556,
              "#d8576b"
             ],
             [
              0.6666666666666666,
              "#ed7953"
             ],
             [
              0.7777777777777778,
              "#fb9f3a"
             ],
             [
              0.8888888888888888,
              "#fdca26"
             ],
             [
              1,
              "#f0f921"
             ]
            ],
            "type": "heatmap"
           }
          ],
          "histogram": [
           {
            "marker": {
             "pattern": {
              "fillmode": "overlay",
              "size": 10,
              "solidity": 0.2
             }
            },
            "type": "histogram"
           }
          ],
          "histogram2d": [
           {
            "colorbar": {
             "outlinewidth": 0,
             "ticks": ""
            },
            "colorscale": [
             [
              0,
              "#0d0887"
             ],
             [
              0.1111111111111111,
              "#46039f"
             ],
             [
              0.2222222222222222,
              "#7201a8"
             ],
             [
              0.3333333333333333,
              "#9c179e"
             ],
             [
              0.4444444444444444,
              "#bd3786"
             ],
             [
              0.5555555555555556,
              "#d8576b"
             ],
             [
              0.6666666666666666,
              "#ed7953"
             ],
             [
              0.7777777777777778,
              "#fb9f3a"
             ],
             [
              0.8888888888888888,
              "#fdca26"
             ],
             [
              1,
              "#f0f921"
             ]
            ],
            "type": "histogram2d"
           }
          ],
          "histogram2dcontour": [
           {
            "colorbar": {
             "outlinewidth": 0,
             "ticks": ""
            },
            "colorscale": [
             [
              0,
              "#0d0887"
             ],
             [
              0.1111111111111111,
              "#46039f"
             ],
             [
              0.2222222222222222,
              "#7201a8"
             ],
             [
              0.3333333333333333,
              "#9c179e"
             ],
             [
              0.4444444444444444,
              "#bd3786"
             ],
             [
              0.5555555555555556,
              "#d8576b"
             ],
             [
              0.6666666666666666,
              "#ed7953"
             ],
             [
              0.7777777777777778,
              "#fb9f3a"
             ],
             [
              0.8888888888888888,
              "#fdca26"
             ],
             [
              1,
              "#f0f921"
             ]
            ],
            "type": "histogram2dcontour"
           }
          ],
          "mesh3d": [
           {
            "colorbar": {
             "outlinewidth": 0,
             "ticks": ""
            },
            "type": "mesh3d"
           }
          ],
          "parcoords": [
           {
            "line": {
             "colorbar": {
              "outlinewidth": 0,
              "ticks": ""
             }
            },
            "type": "parcoords"
           }
          ],
          "pie": [
           {
            "automargin": true,
            "type": "pie"
           }
          ],
          "scatter": [
           {
            "fillpattern": {
             "fillmode": "overlay",
             "size": 10,
             "solidity": 0.2
            },
            "type": "scatter"
           }
          ],
          "scatter3d": [
           {
            "line": {
             "colorbar": {
              "outlinewidth": 0,
              "ticks": ""
             }
            },
            "marker": {
             "colorbar": {
              "outlinewidth": 0,
              "ticks": ""
             }
            },
            "type": "scatter3d"
           }
          ],
          "scattercarpet": [
           {
            "marker": {
             "colorbar": {
              "outlinewidth": 0,
              "ticks": ""
             }
            },
            "type": "scattercarpet"
           }
          ],
          "scattergeo": [
           {
            "marker": {
             "colorbar": {
              "outlinewidth": 0,
              "ticks": ""
             }
            },
            "type": "scattergeo"
           }
          ],
          "scattergl": [
           {
            "marker": {
             "colorbar": {
              "outlinewidth": 0,
              "ticks": ""
             }
            },
            "type": "scattergl"
           }
          ],
          "scattermap": [
           {
            "marker": {
             "colorbar": {
              "outlinewidth": 0,
              "ticks": ""
             }
            },
            "type": "scattermap"
           }
          ],
          "scattermapbox": [
           {
            "marker": {
             "colorbar": {
              "outlinewidth": 0,
              "ticks": ""
             }
            },
            "type": "scattermapbox"
           }
          ],
          "scatterpolar": [
           {
            "marker": {
             "colorbar": {
              "outlinewidth": 0,
              "ticks": ""
             }
            },
            "type": "scatterpolar"
           }
          ],
          "scatterpolargl": [
           {
            "marker": {
             "colorbar": {
              "outlinewidth": 0,
              "ticks": ""
             }
            },
            "type": "scatterpolargl"
           }
          ],
          "scatterternary": [
           {
            "marker": {
             "colorbar": {
              "outlinewidth": 0,
              "ticks": ""
             }
            },
            "type": "scatterternary"
           }
          ],
          "surface": [
           {
            "colorbar": {
             "outlinewidth": 0,
             "ticks": ""
            },
            "colorscale": [
             [
              0,
              "#0d0887"
             ],
             [
              0.1111111111111111,
              "#46039f"
             ],
             [
              0.2222222222222222,
              "#7201a8"
             ],
             [
              0.3333333333333333,
              "#9c179e"
             ],
             [
              0.4444444444444444,
              "#bd3786"
             ],
             [
              0.5555555555555556,
              "#d8576b"
             ],
             [
              0.6666666666666666,
              "#ed7953"
             ],
             [
              0.7777777777777778,
              "#fb9f3a"
             ],
             [
              0.8888888888888888,
              "#fdca26"
             ],
             [
              1,
              "#f0f921"
             ]
            ],
            "type": "surface"
           }
          ],
          "table": [
           {
            "cells": {
             "fill": {
              "color": "#EBF0F8"
             },
             "line": {
              "color": "white"
             }
            },
            "header": {
             "fill": {
              "color": "#C8D4E3"
             },
             "line": {
              "color": "white"
             }
            },
            "type": "table"
           }
          ]
         },
         "layout": {
          "annotationdefaults": {
           "arrowcolor": "#2a3f5f",
           "arrowhead": 0,
           "arrowwidth": 1
          },
          "autotypenumbers": "strict",
          "coloraxis": {
           "colorbar": {
            "outlinewidth": 0,
            "ticks": ""
           }
          },
          "colorscale": {
           "diverging": [
            [
             0,
             "#8e0152"
            ],
            [
             0.1,
             "#c51b7d"
            ],
            [
             0.2,
             "#de77ae"
            ],
            [
             0.3,
             "#f1b6da"
            ],
            [
             0.4,
             "#fde0ef"
            ],
            [
             0.5,
             "#f7f7f7"
            ],
            [
             0.6,
             "#e6f5d0"
            ],
            [
             0.7,
             "#b8e186"
            ],
            [
             0.8,
             "#7fbc41"
            ],
            [
             0.9,
             "#4d9221"
            ],
            [
             1,
             "#276419"
            ]
           ],
           "sequential": [
            [
             0,
             "#0d0887"
            ],
            [
             0.1111111111111111,
             "#46039f"
            ],
            [
             0.2222222222222222,
             "#7201a8"
            ],
            [
             0.3333333333333333,
             "#9c179e"
            ],
            [
             0.4444444444444444,
             "#bd3786"
            ],
            [
             0.5555555555555556,
             "#d8576b"
            ],
            [
             0.6666666666666666,
             "#ed7953"
            ],
            [
             0.7777777777777778,
             "#fb9f3a"
            ],
            [
             0.8888888888888888,
             "#fdca26"
            ],
            [
             1,
             "#f0f921"
            ]
           ],
           "sequentialminus": [
            [
             0,
             "#0d0887"
            ],
            [
             0.1111111111111111,
             "#46039f"
            ],
            [
             0.2222222222222222,
             "#7201a8"
            ],
            [
             0.3333333333333333,
             "#9c179e"
            ],
            [
             0.4444444444444444,
             "#bd3786"
            ],
            [
             0.5555555555555556,
             "#d8576b"
            ],
            [
             0.6666666666666666,
             "#ed7953"
            ],
            [
             0.7777777777777778,
             "#fb9f3a"
            ],
            [
             0.8888888888888888,
             "#fdca26"
            ],
            [
             1,
             "#f0f921"
            ]
           ]
          },
          "colorway": [
           "#636efa",
           "#EF553B",
           "#00cc96",
           "#ab63fa",
           "#FFA15A",
           "#19d3f3",
           "#FF6692",
           "#B6E880",
           "#FF97FF",
           "#FECB52"
          ],
          "font": {
           "color": "#2a3f5f"
          },
          "geo": {
           "bgcolor": "white",
           "lakecolor": "white",
           "landcolor": "#E5ECF6",
           "showlakes": true,
           "showland": true,
           "subunitcolor": "white"
          },
          "hoverlabel": {
           "align": "left"
          },
          "hovermode": "closest",
          "mapbox": {
           "style": "light"
          },
          "paper_bgcolor": "white",
          "plot_bgcolor": "#E5ECF6",
          "polar": {
           "angularaxis": {
            "gridcolor": "white",
            "linecolor": "white",
            "ticks": ""
           },
           "bgcolor": "#E5ECF6",
           "radialaxis": {
            "gridcolor": "white",
            "linecolor": "white",
            "ticks": ""
           }
          },
          "scene": {
           "xaxis": {
            "backgroundcolor": "#E5ECF6",
            "gridcolor": "white",
            "gridwidth": 2,
            "linecolor": "white",
            "showbackground": true,
            "ticks": "",
            "zerolinecolor": "white"
           },
           "yaxis": {
            "backgroundcolor": "#E5ECF6",
            "gridcolor": "white",
            "gridwidth": 2,
            "linecolor": "white",
            "showbackground": true,
            "ticks": "",
            "zerolinecolor": "white"
           },
           "zaxis": {
            "backgroundcolor": "#E5ECF6",
            "gridcolor": "white",
            "gridwidth": 2,
            "linecolor": "white",
            "showbackground": true,
            "ticks": "",
            "zerolinecolor": "white"
           }
          },
          "shapedefaults": {
           "line": {
            "color": "#2a3f5f"
           }
          },
          "ternary": {
           "aaxis": {
            "gridcolor": "white",
            "linecolor": "white",
            "ticks": ""
           },
           "baxis": {
            "gridcolor": "white",
            "linecolor": "white",
            "ticks": ""
           },
           "bgcolor": "#E5ECF6",
           "caxis": {
            "gridcolor": "white",
            "linecolor": "white",
            "ticks": ""
           }
          },
          "title": {
           "x": 0.05
          },
          "xaxis": {
           "automargin": true,
           "gridcolor": "white",
           "linecolor": "white",
           "ticks": "",
           "title": {
            "standoff": 15
           },
           "zerolinecolor": "white",
           "zerolinewidth": 2
          },
          "yaxis": {
           "automargin": true,
           "gridcolor": "white",
           "linecolor": "white",
           "ticks": "",
           "title": {
            "standoff": 15
           },
           "zerolinecolor": "white",
           "zerolinewidth": 2
          }
         }
        },
        "title": {
         "text": "Computation used to train notable artificial intelligence systems"
        },
        "xaxis": {
         "anchor": "y",
         "domain": [
          0,
          1
         ],
         "title": {
          "text": "Day"
         }
        },
        "yaxis": {
         "anchor": "x",
         "domain": [
          0,
          1
         ],
         "title": {
          "text": "Training computation (petaFLOP)"
         },
         "type": "log"
        }
       }
      }
     },
     "metadata": {},
     "output_type": "display_data"
    }
   ],
   "source": [
    "# Load\n",
    "fig = px.scatter(rawDF, x=\"Day\", y=\"Training computation (petaFLOP)\", color=\"Domain\", log_y=True, hover_name=\"Entity\", title=\"Computation used to train notable artificial intelligence systems\")\n",
    "fig.update_traces(marker={'size': 12})"
   ]
  },
  {
   "cell_type": "code",
   "execution_count": 10,
   "id": "768d920f",
   "metadata": {},
   "outputs": [
    {
     "data": {
      "application/vnd.microsoft.datawrangler.viewer.v0+json": {
       "columns": [
        {
         "name": "index",
         "rawType": "object",
         "type": "string"
        },
        {
         "name": "Code",
         "rawType": "float64",
         "type": "float"
        },
        {
         "name": "Training computation (petaFLOP)",
         "rawType": "float64",
         "type": "float"
        }
       ],
       "ref": "1c8e91e1-05f5-431b-86a6-f417066b4285",
       "rows": [
        [
         "count",
         "0.0",
         "503.0"
        ],
        [
         "mean",
         null,
         "3507945485.3838787"
        ],
        [
         "std",
         null,
         "29158323795.589825"
        ],
        [
         "min",
         null,
         "4e-14"
        ],
        [
         "25%",
         null,
         "499.69345"
        ],
        [
         "50%",
         null,
         "623700.0"
        ],
        [
         "75%",
         null,
         "84300000.0"
        ],
        [
         "max",
         null,
         "500000000000.0"
        ]
       ],
       "shape": {
        "columns": 2,
        "rows": 8
       }
      },
      "text/html": [
       "<div>\n",
       "<style scoped>\n",
       "    .dataframe tbody tr th:only-of-type {\n",
       "        vertical-align: middle;\n",
       "    }\n",
       "\n",
       "    .dataframe tbody tr th {\n",
       "        vertical-align: top;\n",
       "    }\n",
       "\n",
       "    .dataframe thead th {\n",
       "        text-align: right;\n",
       "    }\n",
       "</style>\n",
       "<table border=\"1\" class=\"dataframe\">\n",
       "  <thead>\n",
       "    <tr style=\"text-align: right;\">\n",
       "      <th></th>\n",
       "      <th>Code</th>\n",
       "      <th>Training computation (petaFLOP)</th>\n",
       "    </tr>\n",
       "  </thead>\n",
       "  <tbody>\n",
       "    <tr>\n",
       "      <th>count</th>\n",
       "      <td>0.0</td>\n",
       "      <td>5.030000e+02</td>\n",
       "    </tr>\n",
       "    <tr>\n",
       "      <th>mean</th>\n",
       "      <td>NaN</td>\n",
       "      <td>3.507945e+09</td>\n",
       "    </tr>\n",
       "    <tr>\n",
       "      <th>std</th>\n",
       "      <td>NaN</td>\n",
       "      <td>2.915832e+10</td>\n",
       "    </tr>\n",
       "    <tr>\n",
       "      <th>min</th>\n",
       "      <td>NaN</td>\n",
       "      <td>4.000000e-14</td>\n",
       "    </tr>\n",
       "    <tr>\n",
       "      <th>25%</th>\n",
       "      <td>NaN</td>\n",
       "      <td>4.996934e+02</td>\n",
       "    </tr>\n",
       "    <tr>\n",
       "      <th>50%</th>\n",
       "      <td>NaN</td>\n",
       "      <td>6.237000e+05</td>\n",
       "    </tr>\n",
       "    <tr>\n",
       "      <th>75%</th>\n",
       "      <td>NaN</td>\n",
       "      <td>8.430000e+07</td>\n",
       "    </tr>\n",
       "    <tr>\n",
       "      <th>max</th>\n",
       "      <td>NaN</td>\n",
       "      <td>5.000000e+11</td>\n",
       "    </tr>\n",
       "  </tbody>\n",
       "</table>\n",
       "</div>"
      ],
      "text/plain": [
       "       Code  Training computation (petaFLOP)\n",
       "count   0.0                     5.030000e+02\n",
       "mean    NaN                     3.507945e+09\n",
       "std     NaN                     2.915832e+10\n",
       "min     NaN                     4.000000e-14\n",
       "25%     NaN                     4.996934e+02\n",
       "50%     NaN                     6.237000e+05\n",
       "75%     NaN                     8.430000e+07\n",
       "max     NaN                     5.000000e+11"
      ]
     },
     "execution_count": 10,
     "metadata": {},
     "output_type": "execute_result"
    }
   ],
   "source": [
    "rawDF.describe()"
   ]
  }
 ],
 "metadata": {
  "kernelspec": {
   "display_name": "Python 3",
   "language": "python",
   "name": "python3"
  },
  "language_info": {
   "codemirror_mode": {
    "name": "ipython",
    "version": 3
   },
   "file_extension": ".py",
   "mimetype": "text/x-python",
   "name": "python",
   "nbconvert_exporter": "python",
   "pygments_lexer": "ipython3",
   "version": "3.13.7"
  }
 },
 "nbformat": 4,
 "nbformat_minor": 5
}
