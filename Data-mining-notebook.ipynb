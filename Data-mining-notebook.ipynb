{
 "cells": [
  {
   "cell_type": "markdown",
   "id": "48504596",
   "metadata": {},
   "source": [
    "Data Mining in Python workbook\n",
    "Week 1"
   ]
  },
  {
   "cell_type": "code",
   "execution_count": 16,
   "id": "1e42fee4",
   "metadata": {},
   "outputs": [
    {
     "data": {
      "application/vnd.microsoft.datawrangler.viewer.v0+json": {
       "columns": [
        {
         "name": "index",
         "rawType": "int64",
         "type": "integer"
        },
        {
         "name": "Entity",
         "rawType": "object",
         "type": "string"
        },
        {
         "name": "Code",
         "rawType": "float64",
         "type": "float"
        },
        {
         "name": "year",
         "rawType": "int64",
         "type": "integer"
        },
        {
         "name": "Day",
         "rawType": "object",
         "type": "string"
        },
        {
         "name": "Training_computation_petaflop",
         "rawType": "float64",
         "type": "float"
        },
        {
         "name": "Domain",
         "rawType": "object",
         "type": "string"
        }
       ],
       "ref": "98894e52-9e81-4fd0-ae3e-9aad17a37509",
       "rows": [
        [
         "216",
         "Theseus",
         null,
         "1950",
         "1950-07-02",
         "4e-14",
         "Other"
        ],
        [
         "195",
         "SNARC",
         null,
         "1952",
         "1952-01-08",
         null,
         "Other"
        ],
        [
         "198",
         "Self Organizing System",
         null,
         "1955",
         "1955-03-01",
         null,
         "Vision"
        ],
        [
         "167",
         "Perceptron Mark I",
         null,
         "1957",
         "1957-01-01",
         "6.95e-10",
         "Vision"
        ],
        [
         "197",
         "Samuel Neural Checkers",
         null,
         "1959",
         "1959-07-01",
         "4.28e-07",
         "Games"
        ]
       ],
       "shape": {
        "columns": 6,
        "rows": 5
       }
      },
      "text/html": [
       "<div>\n",
       "<style scoped>\n",
       "    .dataframe tbody tr th:only-of-type {\n",
       "        vertical-align: middle;\n",
       "    }\n",
       "\n",
       "    .dataframe tbody tr th {\n",
       "        vertical-align: top;\n",
       "    }\n",
       "\n",
       "    .dataframe thead th {\n",
       "        text-align: right;\n",
       "    }\n",
       "</style>\n",
       "<table border=\"1\" class=\"dataframe\">\n",
       "  <thead>\n",
       "    <tr style=\"text-align: right;\">\n",
       "      <th></th>\n",
       "      <th>Entity</th>\n",
       "      <th>Code</th>\n",
       "      <th>year</th>\n",
       "      <th>Day</th>\n",
       "      <th>Training_computation_petaflop</th>\n",
       "      <th>Domain</th>\n",
       "    </tr>\n",
       "  </thead>\n",
       "  <tbody>\n",
       "    <tr>\n",
       "      <th>216</th>\n",
       "      <td>Theseus</td>\n",
       "      <td>NaN</td>\n",
       "      <td>1950</td>\n",
       "      <td>1950-07-02</td>\n",
       "      <td>4.000000e-14</td>\n",
       "      <td>Other</td>\n",
       "    </tr>\n",
       "    <tr>\n",
       "      <th>195</th>\n",
       "      <td>SNARC</td>\n",
       "      <td>NaN</td>\n",
       "      <td>1952</td>\n",
       "      <td>1952-01-08</td>\n",
       "      <td>NaN</td>\n",
       "      <td>Other</td>\n",
       "    </tr>\n",
       "    <tr>\n",
       "      <th>198</th>\n",
       "      <td>Self Organizing System</td>\n",
       "      <td>NaN</td>\n",
       "      <td>1955</td>\n",
       "      <td>1955-03-01</td>\n",
       "      <td>NaN</td>\n",
       "      <td>Vision</td>\n",
       "    </tr>\n",
       "    <tr>\n",
       "      <th>167</th>\n",
       "      <td>Perceptron Mark I</td>\n",
       "      <td>NaN</td>\n",
       "      <td>1957</td>\n",
       "      <td>1957-01-01</td>\n",
       "      <td>6.950000e-10</td>\n",
       "      <td>Vision</td>\n",
       "    </tr>\n",
       "    <tr>\n",
       "      <th>197</th>\n",
       "      <td>Samuel Neural Checkers</td>\n",
       "      <td>NaN</td>\n",
       "      <td>1959</td>\n",
       "      <td>1959-07-01</td>\n",
       "      <td>4.280000e-07</td>\n",
       "      <td>Games</td>\n",
       "    </tr>\n",
       "  </tbody>\n",
       "</table>\n",
       "</div>"
      ],
      "text/plain": [
       "                     Entity  Code  year         Day  \\\n",
       "216                 Theseus   NaN  1950  1950-07-02   \n",
       "195                   SNARC   NaN  1952  1952-01-08   \n",
       "198  Self Organizing System   NaN  1955  1955-03-01   \n",
       "167       Perceptron Mark I   NaN  1957  1957-01-01   \n",
       "197  Samuel Neural Checkers   NaN  1959  1959-07-01   \n",
       "\n",
       "     Training_computation_petaflop  Domain  \n",
       "216                   4.000000e-14   Other  \n",
       "195                            NaN   Other  \n",
       "198                            NaN  Vision  \n",
       "167                   6.950000e-10  Vision  \n",
       "197                   4.280000e-07   Games  "
      ]
     },
     "execution_count": 16,
     "metadata": {},
     "output_type": "execute_result"
    }
   ],
   "source": [
    "#%pip install plotly\n",
    "import pandas as pd\n",
    "import plotly.express as px\n",
    "\n",
    "# Extract\n",
    "url = \"https://raw.githubusercontent.com/businessdatasolutions/courses/main/datamining-n/datasets/ai.csv\"\n",
    "rawDF = pd.read_csv(url)\n",
    "\n",
    "# Transform\n",
    "rawDF = rawDF.sort_values(by=['year', 'Domain'])\n",
    "rawDF.head()"
   ]
  },
  {
   "cell_type": "code",
   "execution_count": 17,
   "id": "33a47955",
   "metadata": {},
   "outputs": [
    {
     "data": {
      "application/vnd.plotly.v1+json": {
       "config": {
        "plotlyServerURL": "https://plot.ly"
       },
       "data": [
        {
         "hovertemplate": "<b>%{hovertext}</b><br><br>Domain=Other<br>year=%{x}<br>Training_computation_petaflop=%{y}<extra></extra>",
         "hovertext": [
          "Theseus",
          "SNARC",
          "Pandemonium (morse)",
          "LMS",
          "MADALINE I",
          "Punish/Reward",
          "Cognitron",
          "TD(0)",
          "Kohonen network",
          "Hopfield network",
          "Back-propagation",
          "Innervator",
          "Q-learning",
          "Time-delay neural networks",
          "MADALINE III",
          "Random Decision Forests",
          "Support Vector Machines",
          "LSTM",
          "LSTM with forget gates",
          "SACHS",
          "Semantic Hashing",
          "Deep Boltzmann Machines",
          "Network in Network",
          "TransE",
          "NTM",
          "BatchNorm",
          "PointNet",
          "PNASNet-5",
          "PointNet++",
          "AlphaFold",
          "AlphaFold2"
         ],
         "legendgroup": "Other",
         "marker": {
          "color": "#636efa",
          "size": 12,
          "symbol": "circle"
         },
         "mode": "markers",
         "name": "Other",
         "orientation": "v",
         "showlegend": true,
         "type": "scatter",
         "x": {
          "bdata": "ngegB6cHqAeqB7IHtwe5B70HvgfCB8UHxQfFB8YHywfLB80HzwfVB9gH2QfdB90H3gffB+AH4QfhB+QH5Ac=",
          "dtype": "i2"
         },
         "xaxis": "x",
         "y": {
          "bdata": "myuhhpuEJj0AAAAAAAD4f3aDDfT1IaQ+AAAAAAAA+H8AAAAAAAD4fwAAAAAAAPh/AAAAAAAA+H8AAAAAAAD4fwAAAAAAAPh/AAAAAAAA+H/gn+WIm6SAPitppCkrG4A+AAAAAAAA+H8AAAAAAAD4fwAAAAAAAPh/AAAAAAAA+H8AAAAAAAD4fxsv3SQGgZU/AAAAAAAA+H8AAAAAAAD4fwAAAAAAAPh/AAAAAAAA+H8AAAAAAAD4fwAAAAAA8JRAAAAAAAAA+H8AAAAAAAD4fwAAAAAAAPh/AAAAAMAv8EAAAAAAAAD4fwAAAAAAavhAAAAAAAAA+H8=",
          "dtype": "f8"
         },
         "yaxis": "y"
        },
        {
         "hovertemplate": "<b>%{hovertext}</b><br><br>Domain=Vision<br>year=%{x}<br>Training_computation_petaflop=%{y}<extra></extra>",
         "hovertext": [
          "Self Organizing System",
          "Perceptron Mark I",
          "Pattern recognition and reading by machine",
          "ADALINE",
          "Naive Bayes",
          "Neocognitron",
          "Zip CNN",
          "System 11",
          "LeNet-5",
          "Decision tree (classification)",
          "CNN Best Practices",
          "Unsupervised Scale-Invariant Learning",
          "DImensionality Reduction",
          "Deep Belief Nets",
          "DrLIM",
          "FAST",
          "6-layer MLP (MNIST)",
          "Deconvolutional Network",
          "Feedforward NN",
          "ReLU (LFW)",
          "ReLU (NORB)",
          "Domain Adaptation",
          "AlexNet",
          "Dropout (CIFAR)",
          "Dropout (ImageNet)",
          "Dropout (MNIST)",
          "MCDNN (MNIST)",
          "Image Classification with the Fisher Vector: Theory and Practice",
          "Image generation",
          "Maxout Networks ",
          "Mitosis",
          "R-CNN (T-net)",
          "Visualizing CNNs",
          "ADAM (CIFAR-10)",
          "DeepLab",
          "LRCN",
          "SPPNet",
          "VGG16",
          "VGG19",
          "Fast R-CNN",
          "Faster R-CNN",
          "GoogLeNet / InceptionV1",
          "Inception v3",
          "MSRA (C, PReLU)",
          "ResNet-110 (CIFAR-10)",
          "ResNet-152 (ImageNet)",
          "YOLO",
          "DenseNet-264",
          "Inception-ResNet-V2",
          "Inceptionv4",
          "MS-CNN",
          "NASv3 (CIFAR-10)",
          "R-FCN",
          "RefineNet",
          "ResNeXt-50",
          "SqueezeNet",
          "Stacked hourglass network",
          "Wide Residual Network",
          "Xception",
          "YOLOv2",
          "CapsNet (MNIST)",
          "CapsNet (MultiMNIST)",
          "DeepLabV3",
          "JFT",
          "Mask R-CNN",
          "MobileNet",
          "NASNet-A",
          "PNAS-net",
          "RetinaNet-R101",
          "RetinaNet-R50",
          "SENet (ImageNet)",
          "ShuffleNet v1",
          "AmoebaNet-A (F=190)",
          "AmoebaNet-A (F=448)",
          "DeepLabV3+",
          "ESRGAN",
          "MobileNetV2",
          "Refined Part Pooling",
          "ShuffleNet v2",
          "YOLOv3",
          "Decoupled weight decay regularization",
          "EfficientNet-L2",
          "MnasNet-A1 + SSDLite",
          "MnasNet-A3",
          "ObjectNet",
          "ResNet-50 Billion-scale",
          "ViT-H/14",
          "Meta Pseudo Labels",
          "Transformer local-attention (NesT-B)",
          "data2vec (vision)"
         ],
         "legendgroup": "Vision",
         "marker": {
          "color": "#EF553B",
          "size": 12,
          "symbol": "circle"
         },
         "mode": "markers",
         "name": "Vision",
         "orientation": "v",
         "showlegend": true,
         "type": "scatter",
         "x": {
          "bdata": "owelB6cHqAe2B7wHxQfMB84H0QfTB9MH1gfWB9YH1gfaB9oH2gfaB9oH2wfcB9wH3AfcB9wH3QfdB90H3QfdB90H3gfeB94H3gfeB94H3wffB98H3wffB98H3wffB+AH4AfgB+AH4AfgB+AH4AfgB+AH4AfgB+AH4QfhB+EH4QfhB+EH4QfhB+EH4QfhB+EH4gfiB+IH4gfiB+IH4gfiB+MH4wfjB+MH4wfjB+QH5QflB+YH",
          "dtype": "i2"
         },
         "xaxis": "x",
         "y": {
          "bdata": "AAAAAAAA+H8609neSOEHPgAAAAAAAPh/qNGoXDTFpT0AAAAAAAD4fzkuhTUFmo4+lPAppQzBBj/AVbAjlBKwPjCeQUP/BGc/VOOlm8QgsD8AAAAAAAD4fwAAAAAAAPh/AAAAAAAA+H8AAAAAAAD4fwAAAAAAAPh/AAAAAAAA+H/4U+Olm8TAPwAAAAAAAPh/ZmZmZmZm1j8AAAAAAAD4fwAAAAAAAPh/AAAAAAAA+H8AAAAAAGB9QAAAAAAAAPh/AAAAAAAA+H8pXI/C9SgYQNejcD0K1w1AkQ96Nqs+tz9mZmZmZmbePwAAAAAAAPh/AAAAAAAgYUAAAAAAAAD4fwAAAAAAoIBAAAAAAABATkAAAAAAAAD4fwAAAAAAAPh/AAAAAADet0AAAAAAABHCQAAAAAAAAPh/AAAAAAAA+H8AAAAAAAD4fwAAAAAAYJhAAAAAAAAA+H8AAAAAAHDXQAAAAAAAAPh/AAAAAACix0AAAAAAAAD4fwAAAAAAAPh/AAAAAAAA+H8AAAAAAAD4fwAAAAAAAPh/AAAAAODIQEEAAAAAAMBOQAAAAAAAAPh/AAAAAAAA+H8AAAAAAAD4fwAAAAAAAPh/AAAAAAAA+H8AAAAAAErlQAAAAAAAAPh/AAAAAAAA+H8AAAAAAAD4fwAAAAAAAPh/AAAAAGA8HUEAAAAAAAD4fwAAAAAAAPh/AAAAAAAA+H8AAAAAAAD4fwAAAAAAAPh/AAAAAAAA+H8AAAAAAAD4fwAAAAAAAPh/AAAAAAAA+H8AAAAAoH8XQQAAAAAAAPh/AAAAAAAA+H8AAAAAAAD4fwAAAAAAAPh/AAAAAAAA+H8AAAAAgNroQAAAAAAATKNAAAAAAAAA+H8AAAAAYOM2QQAAAABg4zZBAAAAAADy0kAAAAAAAAD4fwAAAAAAamhBAAAAALpFqUEAAAAAAInXQAAAAAAAAPh/",
          "dtype": "f8"
         },
         "yaxis": "y"
        },
        {
         "hovertemplate": "<b>%{hovertext}</b><br><br>Domain=Games<br>year=%{x}<br>Training_computation_petaflop=%{y}<extra></extra>",
         "hovertext": [
          "Samuel Neural Checkers",
          "BOXES",
          "GLEE",
          "ASE+ACE",
          "TD-Gammon",
          "DQN",
          "SmooCT",
          "Advantage Learning",
          "AlphaGo Fan",
          "DQN-2015",
          "A3C FF hs",
          "AlphaGo Lee",
          "AlphaGo Master",
          "AlphaGo Zero",
          "AlphaZero",
          "Libratus",
          "NoisyNet-Dueling",
          "AlphaStar",
          "MuZero",
          "OpenAI Five",
          "OpenAI Five Rerun",
          "CURL",
          "Player of Games",
          "Rational DQN Average"
         ],
         "legendgroup": "Games",
         "marker": {
          "color": "#00cc96",
          "size": 12,
          "symbol": "circle"
         },
         "mode": "markers",
         "name": "Games",
         "orientation": "v",
         "showlegend": true,
         "type": "scatter",
         "x": {
          "bdata": "pwewB7AHvwfIB90H3gffB98H3wfgB+AH4QfhB+EH4QfhB+MH4wfjB+MH5AflB+UH",
          "dtype": "i2"
         },
         "xaxis": "x",
         "y": {
          "bdata": "we4g6Pu4nD4AAAAAAAD4fwAAAAAAAPh/AAAAAAAA+H/CFyZTBaOSP2ZmZmZmZgJAAAAAAAAA+H8AAAAAAAD4fwAAAACAMRdBAAAAAAAA+H8AAAAAAAD4fwAAAADg/TxBAAAAAKPhoUEAAABAP1O0QQAAAAD7f4FBAAAAADCMMUEAAAAAAAD4fwAAAACNFKhBAAAAAABw50AAAAAAtvKPQQAAAACoy2hBAAAAAAAA+H8AAAAAAAD4fwAAAAAAAPh/",
          "dtype": "f8"
         },
         "yaxis": "y"
        },
        {
         "hovertemplate": "<b>%{hovertext}</b><br><br>Domain=Speech<br>year=%{x}<br>Training_computation_petaflop=%{y}<extra></extra>",
         "hovertext": [
          "NetTalk",
          "Fuzzy NN",
          "BRNN",
          "BiLSTM for Speech",
          "CTC-Trained LSTM",
          "KN5 LM + RNN 400/10 (WSJ)",
          "RNN 500/10 + RT09 LM (NIST RT05)",
          "Dropout (TIMIT)",
          "DBLSTM",
          "PreTrans-3L-250H",
          "DeepSpeech2 (English)",
          "wave2vec 2.0 LARGE",
          "Whisper",
          "data2vec (speech)"
         ],
         "legendgroup": "Speech",
         "marker": {
          "color": "#ab63fa",
          "size": 12,
          "symbol": "circle"
         },
         "mode": "markers",
         "name": "Speech",
         "orientation": "v",
         "showlegend": true,
         "type": "scatter",
         "x": {
          "bdata": "wwfIB80H1QfWB9oH2gfcB90H3QffB+QH5gfmBw==",
          "dtype": "i2"
         },
         "xaxis": "x",
         "y": {
          "bdata": "/p6zYD1JFT/WoKFbBTMqPgAAAAAAAPh/PZtVn6utmD8AAAAAAAD4fzMzMzMzs05ASOF6FK5HC0AAAAAAAAD4fwAAAAAAAPh/AAAAAAAA+H8AAAAAAGTZQAAAAADg/TxBAAAAAEUshkEAAAAAAAD4fw==",
          "dtype": "f8"
         },
         "yaxis": "y"
        },
        {
         "hovertemplate": "<b>%{hovertext}</b><br><br>Domain=Driving<br>year=%{x}<br>Training_computation_petaflop=%{y}<extra></extra>",
         "hovertext": [
          "ALVINN",
          "Stanley (DARPA Grand Challenge 2)",
          "Boss (DARPA Urban Challenge)"
         ],
         "legendgroup": "Driving",
         "marker": {
          "color": "#FFA15A",
          "size": 12,
          "symbol": "circle"
         },
         "mode": "markers",
         "name": "Driving",
         "orientation": "v",
         "showlegend": true,
         "type": "scatter",
         "x": {
          "bdata": "xQfWB9gH",
          "dtype": "i2"
         },
         "xaxis": "x",
         "y": {
          "bdata": "/p6zYD1JFT8AAAAAAAD4fwAAAAAAAPh/",
          "dtype": "f8"
         },
         "yaxis": "y"
        },
        {
         "hovertemplate": "<b>%{hovertext}</b><br><br>Domain=Language<br>year=%{x}<br>Training_computation_petaflop=%{y}<extra></extra>",
         "hovertext": [
          "IBM-5",
          "HMM Word Alignment",
          "IBM Model 4",
          "Thumbs Up?",
          "LDA",
          "NPLM",
          "Phrase-based translation",
          "Hiero",
          "Word Representations",
          "NLP from scratch",
          "MV-RNN",
          "Word2Vec (large)",
          "Word2Vec (small)",
          "GRUs",
          "GloVe (32B)",
          "GloVe (6B)",
          "RNNsearch-50*",
          "Seq2Seq LSTM",
          "BPE",
          "Constituency-Tree LSTM",
          "DMN",
          "GNMT",
          "Named Entity Recognition model",
          "Part-of-sentence tagging model",
          "Transformer",
          "BERT-Large",
          "ELMo",
          "GPT",
          "ULM-FiT",
          "ALBERT",
          "BART-large",
          "GPT-2",
          "RoBERTa Large",
          "T5-11B",
          "T5-3B",
          "XLNet",
          "ALBERT-xxlarge",
          "GPT-3 175B (davinci)",
          "Codex",
          "ConSERT",
          "FLAN",
          "Generative BST",
          "HuBERT",
          "PLUG",
          "XGLM",
          "XLMR-XXL",
          "AlexaTM 20B",
          "AlphaCode",
          "Chinchilla",
          "GPT-NeoX-20B",
          "InstructGPT",
          "LaMDA",
          "Minerva (540B)",
          "NLLB",
          "PaLM (540B)",
          "Sparse all-MLP",
          "UL2",
          "data2vec (language)",
          "LLaMA",
          "PaLM 2"
         ],
         "legendgroup": "Language",
         "marker": {
          "color": "#19d3f3",
          "size": 12,
          "symbol": "circle"
         },
         "mode": "markers",
         "name": "Language",
         "orientation": "v",
         "showlegend": true,
         "type": "scatter",
         "x": {
          "bdata": "yQfMB88H0gfTB9MH0wfVB9oH2wfcB90H3QfeB94H3gfeB94H3wffB+AH4AfgB+AH4QfiB+IH4gfiB+MH4wfjB+MH4wfjB+MH5AfkB+UH5QflB+UH5QflB+UH5QfmB+YH5gfmB+YH5gfmB+YH5gfmB+YH5gfnB+cH",
          "dtype": "i2"
         },
         "xaxis": "x",
         "y": {
          "bdata": "AAAAAAAA+H8AAAAAAAD4fwAAAAAAAPh/AAAAAAAA+H8AAAAAAAD4f83MzMzMzPQ/AAAAAAAA+H8AAAAAAAD4fwAAAAAAAPh/AAAAAAAA+H8AAAAAAAD4fzMzMzMzc0NAAAAAAAAA+H8AAAAAAAD4fwAAAAAAAPh/AAAAAAAA+H8AAAAAAGCYQAAAAAAAhLxAAAAAAAAA+H8AAAAAAAD4fwAAAAAAAPh/AAAAAEhSWkGamZmZmTlYQAAAAAAAIGJAAAAAAAD8vEAAAAAAIGURQQAAAAAAAPh/AAAAAAAw0UAAAAAAAAD4fwAAAAAAAPh/AAAAAAAA+H8AAAAAULw2QQAAAAAAAPh/AAAAANlPg0EAAAAAINZjQQAAAAAAAPh/AAAAAPBgQ0EAAACAQreyQQAAAAAAAPh/AAAAAAAACEAAAAAAAAD4fwAAAAAAAPh/AAAAACgiVUEAAAAAiCqBQQAAAAAAAPh/AAAAAAAA+H8AAAAAllGoQQAAAEDPI7hBAAAAAIgqwUEAAAAAejiWQQAAAAAAAPh/AAAAwN4otUEAAACgImrkQQAAAAB2sHBBAAAAkJfZ4kEAAAAAADHVQAAAAAAAAPh/AAAAAAAA+H8AAADAKmTAQQAAAMD538VB",
          "dtype": "f8"
         },
         "yaxis": "y"
        },
        {
         "hovertemplate": "<b>%{hovertext}</b><br><br>Domain=Recommendation<br>year=%{x}<br>Training_computation_petaflop=%{y}<extra></extra>",
         "hovertext": [
          "GroupLens",
          "BigChaos 2008",
          "NeuMF (Pinterest)"
         ],
         "legendgroup": "Recommendation",
         "marker": {
          "color": "#FF6692",
          "size": 12,
          "symbol": "circle"
         },
         "mode": "markers",
         "name": "Recommendation",
         "orientation": "v",
         "showlegend": true,
         "type": "scatter",
         "x": {
          "bdata": "ygfYB+EH",
          "dtype": "i2"
         },
         "xaxis": "x",
         "y": {
          "bdata": "AAAAAAAA+H8AAAAAAAD4fwAAAAAAAPh/",
          "dtype": "f8"
         },
         "yaxis": "y"
        },
        {
         "hovertemplate": "<b>%{hovertext}</b><br><br>Domain=Drawing<br>year=%{x}<br>Training_computation_petaflop=%{y}<extra></extra>",
         "hovertext": [
          "GANs",
          "BPL",
          "BigGAN-deep 512x512",
          "Rotation",
          "MoCo",
          "SimCLR",
          "DALL-E",
          "Denoising Diffusion Probabilistic Models (LSUN Bedroom)",
          "DALL·E 2",
          "Parti",
          "Stable Diffusion (LDM-KL-8-G)"
         ],
         "legendgroup": "Drawing",
         "marker": {
          "color": "#B6E880",
          "size": 12,
          "symbol": "circle"
         },
         "mode": "markers",
         "name": "Drawing",
         "orientation": "v",
         "showlegend": true,
         "type": "scatter",
         "x": {
          "bdata": "3gffB+IH4gfjB+QH5QflB+YH5gfmBw==",
          "dtype": "i2"
         },
         "xaxis": "x",
         "y": {
          "bdata": "AAAAAAAwgEAAAAAAAAD4fwAAAABg40ZBAAAAAAAA+H8AAAAAAAD4fwAAAAAAAPh/AAAAAE5phkEAAAAAAACZQAAAAAAAAPh/AAAAAHuat0EAAAAAhNeHQQ==",
          "dtype": "f8"
         },
         "yaxis": "y"
        },
        {
         "hovertemplate": "<b>%{hovertext}</b><br><br>Domain=Video<br>year=%{x}<br>Training_computation_petaflop=%{y}<extra></extra>",
         "hovertext": [
          "Multiresolution CNN"
         ],
         "legendgroup": "Video",
         "marker": {
          "color": "#FF97FF",
          "size": 12,
          "symbol": "circle"
         },
         "mode": "markers",
         "name": "Video",
         "orientation": "v",
         "showlegend": true,
         "type": "scatter",
         "x": {
          "bdata": "3gc=",
          "dtype": "i2"
         },
         "xaxis": "x",
         "y": {
          "bdata": "AAAAAAAA+H8=",
          "dtype": "f8"
         },
         "yaxis": "y"
        },
        {
         "hovertemplate": "<b>%{hovertext}</b><br><br>Domain=VIsion<br>year=%{x}<br>Training_computation_petaflop=%{y}<extra></extra>",
         "hovertext": [
          "DSN"
         ],
         "legendgroup": "VIsion",
         "marker": {
          "color": "#FECB52",
          "size": 12,
          "symbol": "circle"
         },
         "mode": "markers",
         "name": "VIsion",
         "orientation": "v",
         "showlegend": true,
         "type": "scatter",
         "x": {
          "bdata": "3wc=",
          "dtype": "i2"
         },
         "xaxis": "x",
         "y": {
          "bdata": "AAAAAAAA+H8=",
          "dtype": "f8"
         },
         "yaxis": "y"
        },
        {
         "hovertemplate": "<b>%{hovertext}</b><br><br>Domain=Multimodal<br>year=%{x}<br>Training_computation_petaflop=%{y}<extra></extra>",
         "hovertext": [
          "M6-T",
          "NÜWA",
          "Flamingo",
          "Gato",
          "MetaLM",
          "GPT-4"
         ],
         "legendgroup": "Multimodal",
         "marker": {
          "color": "#636efa",
          "size": 12,
          "symbol": "circle"
         },
         "mode": "markers",
         "name": "Multimodal",
         "orientation": "v",
         "showlegend": true,
         "type": "scatter",
         "x": {
          "bdata": "5QflB+YH5gfmB+cH",
          "dtype": "i2"
         },
         "xaxis": "x",
         "y": {
          "bdata": "AAAAABj7VEEAAAAAkHZSQQAAAAAAAPh/AAAAAIDAVEEAAAAAAAD4fwAAAEjKjhNC",
          "dtype": "f8"
         },
         "yaxis": "y"
        },
        {
         "hovertemplate": "<b>%{hovertext}</b><br><br>Domain=Search<br>year=%{x}<br>Training_computation_petaflop=%{y}<extra></extra>",
         "hovertext": [
          "MEB"
         ],
         "legendgroup": "Search",
         "marker": {
          "color": "#EF553B",
          "size": 12,
          "symbol": "circle"
         },
         "mode": "markers",
         "name": "Search",
         "orientation": "v",
         "showlegend": true,
         "type": "scatter",
         "x": {
          "bdata": "5Qc=",
          "dtype": "i2"
         },
         "xaxis": "x",
         "y": {
          "bdata": "AAAAAAAA+H8=",
          "dtype": "f8"
         },
         "yaxis": "y"
        },
        {
         "hovertemplate": "<b>%{hovertext}</b><br><br>Domain=Text-to-Video<br>year=%{x}<br>Training_computation_petaflop=%{y}<extra></extra>",
         "hovertext": [
          "Make-A-Video"
         ],
         "legendgroup": "Text-to-Video",
         "marker": {
          "color": "#00cc96",
          "size": 12,
          "symbol": "circle"
         },
         "mode": "markers",
         "name": "Text-to-Video",
         "orientation": "v",
         "showlegend": true,
         "type": "scatter",
         "x": {
          "bdata": "5gc=",
          "dtype": "i2"
         },
         "xaxis": "x",
         "y": {
          "bdata": "AAAAAAAA+H8=",
          "dtype": "f8"
         },
         "yaxis": "y"
        }
       ],
       "layout": {
        "legend": {
         "title": {
          "text": "Domain"
         },
         "tracegroupgap": 0
        },
        "template": {
         "data": {
          "bar": [
           {
            "error_x": {
             "color": "#2a3f5f"
            },
            "error_y": {
             "color": "#2a3f5f"
            },
            "marker": {
             "line": {
              "color": "#E5ECF6",
              "width": 0.5
             },
             "pattern": {
              "fillmode": "overlay",
              "size": 10,
              "solidity": 0.2
             }
            },
            "type": "bar"
           }
          ],
          "barpolar": [
           {
            "marker": {
             "line": {
              "color": "#E5ECF6",
              "width": 0.5
             },
             "pattern": {
              "fillmode": "overlay",
              "size": 10,
              "solidity": 0.2
             }
            },
            "type": "barpolar"
           }
          ],
          "carpet": [
           {
            "aaxis": {
             "endlinecolor": "#2a3f5f",
             "gridcolor": "white",
             "linecolor": "white",
             "minorgridcolor": "white",
             "startlinecolor": "#2a3f5f"
            },
            "baxis": {
             "endlinecolor": "#2a3f5f",
             "gridcolor": "white",
             "linecolor": "white",
             "minorgridcolor": "white",
             "startlinecolor": "#2a3f5f"
            },
            "type": "carpet"
           }
          ],
          "choropleth": [
           {
            "colorbar": {
             "outlinewidth": 0,
             "ticks": ""
            },
            "type": "choropleth"
           }
          ],
          "contour": [
           {
            "colorbar": {
             "outlinewidth": 0,
             "ticks": ""
            },
            "colorscale": [
             [
              0,
              "#0d0887"
             ],
             [
              0.1111111111111111,
              "#46039f"
             ],
             [
              0.2222222222222222,
              "#7201a8"
             ],
             [
              0.3333333333333333,
              "#9c179e"
             ],
             [
              0.4444444444444444,
              "#bd3786"
             ],
             [
              0.5555555555555556,
              "#d8576b"
             ],
             [
              0.6666666666666666,
              "#ed7953"
             ],
             [
              0.7777777777777778,
              "#fb9f3a"
             ],
             [
              0.8888888888888888,
              "#fdca26"
             ],
             [
              1,
              "#f0f921"
             ]
            ],
            "type": "contour"
           }
          ],
          "contourcarpet": [
           {
            "colorbar": {
             "outlinewidth": 0,
             "ticks": ""
            },
            "type": "contourcarpet"
           }
          ],
          "heatmap": [
           {
            "colorbar": {
             "outlinewidth": 0,
             "ticks": ""
            },
            "colorscale": [
             [
              0,
              "#0d0887"
             ],
             [
              0.1111111111111111,
              "#46039f"
             ],
             [
              0.2222222222222222,
              "#7201a8"
             ],
             [
              0.3333333333333333,
              "#9c179e"
             ],
             [
              0.4444444444444444,
              "#bd3786"
             ],
             [
              0.5555555555555556,
              "#d8576b"
             ],
             [
              0.6666666666666666,
              "#ed7953"
             ],
             [
              0.7777777777777778,
              "#fb9f3a"
             ],
             [
              0.8888888888888888,
              "#fdca26"
             ],
             [
              1,
              "#f0f921"
             ]
            ],
            "type": "heatmap"
           }
          ],
          "histogram": [
           {
            "marker": {
             "pattern": {
              "fillmode": "overlay",
              "size": 10,
              "solidity": 0.2
             }
            },
            "type": "histogram"
           }
          ],
          "histogram2d": [
           {
            "colorbar": {
             "outlinewidth": 0,
             "ticks": ""
            },
            "colorscale": [
             [
              0,
              "#0d0887"
             ],
             [
              0.1111111111111111,
              "#46039f"
             ],
             [
              0.2222222222222222,
              "#7201a8"
             ],
             [
              0.3333333333333333,
              "#9c179e"
             ],
             [
              0.4444444444444444,
              "#bd3786"
             ],
             [
              0.5555555555555556,
              "#d8576b"
             ],
             [
              0.6666666666666666,
              "#ed7953"
             ],
             [
              0.7777777777777778,
              "#fb9f3a"
             ],
             [
              0.8888888888888888,
              "#fdca26"
             ],
             [
              1,
              "#f0f921"
             ]
            ],
            "type": "histogram2d"
           }
          ],
          "histogram2dcontour": [
           {
            "colorbar": {
             "outlinewidth": 0,
             "ticks": ""
            },
            "colorscale": [
             [
              0,
              "#0d0887"
             ],
             [
              0.1111111111111111,
              "#46039f"
             ],
             [
              0.2222222222222222,
              "#7201a8"
             ],
             [
              0.3333333333333333,
              "#9c179e"
             ],
             [
              0.4444444444444444,
              "#bd3786"
             ],
             [
              0.5555555555555556,
              "#d8576b"
             ],
             [
              0.6666666666666666,
              "#ed7953"
             ],
             [
              0.7777777777777778,
              "#fb9f3a"
             ],
             [
              0.8888888888888888,
              "#fdca26"
             ],
             [
              1,
              "#f0f921"
             ]
            ],
            "type": "histogram2dcontour"
           }
          ],
          "mesh3d": [
           {
            "colorbar": {
             "outlinewidth": 0,
             "ticks": ""
            },
            "type": "mesh3d"
           }
          ],
          "parcoords": [
           {
            "line": {
             "colorbar": {
              "outlinewidth": 0,
              "ticks": ""
             }
            },
            "type": "parcoords"
           }
          ],
          "pie": [
           {
            "automargin": true,
            "type": "pie"
           }
          ],
          "scatter": [
           {
            "fillpattern": {
             "fillmode": "overlay",
             "size": 10,
             "solidity": 0.2
            },
            "type": "scatter"
           }
          ],
          "scatter3d": [
           {
            "line": {
             "colorbar": {
              "outlinewidth": 0,
              "ticks": ""
             }
            },
            "marker": {
             "colorbar": {
              "outlinewidth": 0,
              "ticks": ""
             }
            },
            "type": "scatter3d"
           }
          ],
          "scattercarpet": [
           {
            "marker": {
             "colorbar": {
              "outlinewidth": 0,
              "ticks": ""
             }
            },
            "type": "scattercarpet"
           }
          ],
          "scattergeo": [
           {
            "marker": {
             "colorbar": {
              "outlinewidth": 0,
              "ticks": ""
             }
            },
            "type": "scattergeo"
           }
          ],
          "scattergl": [
           {
            "marker": {
             "colorbar": {
              "outlinewidth": 0,
              "ticks": ""
             }
            },
            "type": "scattergl"
           }
          ],
          "scattermap": [
           {
            "marker": {
             "colorbar": {
              "outlinewidth": 0,
              "ticks": ""
             }
            },
            "type": "scattermap"
           }
          ],
          "scattermapbox": [
           {
            "marker": {
             "colorbar": {
              "outlinewidth": 0,
              "ticks": ""
             }
            },
            "type": "scattermapbox"
           }
          ],
          "scatterpolar": [
           {
            "marker": {
             "colorbar": {
              "outlinewidth": 0,
              "ticks": ""
             }
            },
            "type": "scatterpolar"
           }
          ],
          "scatterpolargl": [
           {
            "marker": {
             "colorbar": {
              "outlinewidth": 0,
              "ticks": ""
             }
            },
            "type": "scatterpolargl"
           }
          ],
          "scatterternary": [
           {
            "marker": {
             "colorbar": {
              "outlinewidth": 0,
              "ticks": ""
             }
            },
            "type": "scatterternary"
           }
          ],
          "surface": [
           {
            "colorbar": {
             "outlinewidth": 0,
             "ticks": ""
            },
            "colorscale": [
             [
              0,
              "#0d0887"
             ],
             [
              0.1111111111111111,
              "#46039f"
             ],
             [
              0.2222222222222222,
              "#7201a8"
             ],
             [
              0.3333333333333333,
              "#9c179e"
             ],
             [
              0.4444444444444444,
              "#bd3786"
             ],
             [
              0.5555555555555556,
              "#d8576b"
             ],
             [
              0.6666666666666666,
              "#ed7953"
             ],
             [
              0.7777777777777778,
              "#fb9f3a"
             ],
             [
              0.8888888888888888,
              "#fdca26"
             ],
             [
              1,
              "#f0f921"
             ]
            ],
            "type": "surface"
           }
          ],
          "table": [
           {
            "cells": {
             "fill": {
              "color": "#EBF0F8"
             },
             "line": {
              "color": "white"
             }
            },
            "header": {
             "fill": {
              "color": "#C8D4E3"
             },
             "line": {
              "color": "white"
             }
            },
            "type": "table"
           }
          ]
         },
         "layout": {
          "annotationdefaults": {
           "arrowcolor": "#2a3f5f",
           "arrowhead": 0,
           "arrowwidth": 1
          },
          "autotypenumbers": "strict",
          "coloraxis": {
           "colorbar": {
            "outlinewidth": 0,
            "ticks": ""
           }
          },
          "colorscale": {
           "diverging": [
            [
             0,
             "#8e0152"
            ],
            [
             0.1,
             "#c51b7d"
            ],
            [
             0.2,
             "#de77ae"
            ],
            [
             0.3,
             "#f1b6da"
            ],
            [
             0.4,
             "#fde0ef"
            ],
            [
             0.5,
             "#f7f7f7"
            ],
            [
             0.6,
             "#e6f5d0"
            ],
            [
             0.7,
             "#b8e186"
            ],
            [
             0.8,
             "#7fbc41"
            ],
            [
             0.9,
             "#4d9221"
            ],
            [
             1,
             "#276419"
            ]
           ],
           "sequential": [
            [
             0,
             "#0d0887"
            ],
            [
             0.1111111111111111,
             "#46039f"
            ],
            [
             0.2222222222222222,
             "#7201a8"
            ],
            [
             0.3333333333333333,
             "#9c179e"
            ],
            [
             0.4444444444444444,
             "#bd3786"
            ],
            [
             0.5555555555555556,
             "#d8576b"
            ],
            [
             0.6666666666666666,
             "#ed7953"
            ],
            [
             0.7777777777777778,
             "#fb9f3a"
            ],
            [
             0.8888888888888888,
             "#fdca26"
            ],
            [
             1,
             "#f0f921"
            ]
           ],
           "sequentialminus": [
            [
             0,
             "#0d0887"
            ],
            [
             0.1111111111111111,
             "#46039f"
            ],
            [
             0.2222222222222222,
             "#7201a8"
            ],
            [
             0.3333333333333333,
             "#9c179e"
            ],
            [
             0.4444444444444444,
             "#bd3786"
            ],
            [
             0.5555555555555556,
             "#d8576b"
            ],
            [
             0.6666666666666666,
             "#ed7953"
            ],
            [
             0.7777777777777778,
             "#fb9f3a"
            ],
            [
             0.8888888888888888,
             "#fdca26"
            ],
            [
             1,
             "#f0f921"
            ]
           ]
          },
          "colorway": [
           "#636efa",
           "#EF553B",
           "#00cc96",
           "#ab63fa",
           "#FFA15A",
           "#19d3f3",
           "#FF6692",
           "#B6E880",
           "#FF97FF",
           "#FECB52"
          ],
          "font": {
           "color": "#2a3f5f"
          },
          "geo": {
           "bgcolor": "white",
           "lakecolor": "white",
           "landcolor": "#E5ECF6",
           "showlakes": true,
           "showland": true,
           "subunitcolor": "white"
          },
          "hoverlabel": {
           "align": "left"
          },
          "hovermode": "closest",
          "mapbox": {
           "style": "light"
          },
          "paper_bgcolor": "white",
          "plot_bgcolor": "#E5ECF6",
          "polar": {
           "angularaxis": {
            "gridcolor": "white",
            "linecolor": "white",
            "ticks": ""
           },
           "bgcolor": "#E5ECF6",
           "radialaxis": {
            "gridcolor": "white",
            "linecolor": "white",
            "ticks": ""
           }
          },
          "scene": {
           "xaxis": {
            "backgroundcolor": "#E5ECF6",
            "gridcolor": "white",
            "gridwidth": 2,
            "linecolor": "white",
            "showbackground": true,
            "ticks": "",
            "zerolinecolor": "white"
           },
           "yaxis": {
            "backgroundcolor": "#E5ECF6",
            "gridcolor": "white",
            "gridwidth": 2,
            "linecolor": "white",
            "showbackground": true,
            "ticks": "",
            "zerolinecolor": "white"
           },
           "zaxis": {
            "backgroundcolor": "#E5ECF6",
            "gridcolor": "white",
            "gridwidth": 2,
            "linecolor": "white",
            "showbackground": true,
            "ticks": "",
            "zerolinecolor": "white"
           }
          },
          "shapedefaults": {
           "line": {
            "color": "#2a3f5f"
           }
          },
          "ternary": {
           "aaxis": {
            "gridcolor": "white",
            "linecolor": "white",
            "ticks": ""
           },
           "baxis": {
            "gridcolor": "white",
            "linecolor": "white",
            "ticks": ""
           },
           "bgcolor": "#E5ECF6",
           "caxis": {
            "gridcolor": "white",
            "linecolor": "white",
            "ticks": ""
           }
          },
          "title": {
           "x": 0.05
          },
          "xaxis": {
           "automargin": true,
           "gridcolor": "white",
           "linecolor": "white",
           "ticks": "",
           "title": {
            "standoff": 15
           },
           "zerolinecolor": "white",
           "zerolinewidth": 2
          },
          "yaxis": {
           "automargin": true,
           "gridcolor": "white",
           "linecolor": "white",
           "ticks": "",
           "title": {
            "standoff": 15
           },
           "zerolinecolor": "white",
           "zerolinewidth": 2
          }
         }
        },
        "title": {
         "text": "Computation used to train notable artificial intelligence systems"
        },
        "xaxis": {
         "anchor": "y",
         "domain": [
          0,
          1
         ],
         "title": {
          "text": "year"
         }
        },
        "yaxis": {
         "anchor": "x",
         "domain": [
          0,
          1
         ],
         "title": {
          "text": "Training_computation_petaflop"
         },
         "type": "log"
        }
       }
      }
     },
     "metadata": {},
     "output_type": "display_data"
    }
   ],
   "source": [
    "# Load\n",
    "fig = px.scatter(rawDF, x=\"year\", y=\"Training_computation_petaflop\", color=\"Domain\", log_y=True, hover_name=\"Entity\", title=\"Computation used to train notable artificial intelligence systems\")\n",
    "fig.update_traces(marker={'size': 12})"
   ]
  },
  {
   "cell_type": "code",
   "execution_count": 18,
   "id": "768d920f",
   "metadata": {},
   "outputs": [
    {
     "data": {
      "application/vnd.microsoft.datawrangler.viewer.v0+json": {
       "columns": [
        {
         "name": "index",
         "rawType": "object",
         "type": "string"
        },
        {
         "name": "Code",
         "rawType": "float64",
         "type": "float"
        },
        {
         "name": "year",
         "rawType": "float64",
         "type": "float"
        },
        {
         "name": "Training_computation_petaflop",
         "rawType": "float64",
         "type": "float"
        }
       ],
       "ref": "d0e6a84c-3579-43e0-a713-521794e422e7",
       "rows": [
        [
         "count",
         "0.0",
         "246.0",
         "104.0"
        ],
        [
         "mean",
         null,
         "2009.939024390244",
         "300259840.88611656"
        ],
        [
         "std",
         null,
         "15.43731040413739",
         "2084483108.7066283"
        ],
        [
         "min",
         null,
         "1950.0",
         "4e-14"
        ],
        [
         "25%",
         null,
         "2010.0",
         "3.65"
        ],
        [
         "50%",
         null,
         "2015.5",
         "24050.0"
        ],
        [
         "75%",
         null,
         "2019.0",
         "11000000.0"
        ],
        [
         "max",
         null,
         "2023.0",
         "21000000000.0"
        ]
       ],
       "shape": {
        "columns": 3,
        "rows": 8
       }
      },
      "text/html": [
       "<div>\n",
       "<style scoped>\n",
       "    .dataframe tbody tr th:only-of-type {\n",
       "        vertical-align: middle;\n",
       "    }\n",
       "\n",
       "    .dataframe tbody tr th {\n",
       "        vertical-align: top;\n",
       "    }\n",
       "\n",
       "    .dataframe thead th {\n",
       "        text-align: right;\n",
       "    }\n",
       "</style>\n",
       "<table border=\"1\" class=\"dataframe\">\n",
       "  <thead>\n",
       "    <tr style=\"text-align: right;\">\n",
       "      <th></th>\n",
       "      <th>Code</th>\n",
       "      <th>year</th>\n",
       "      <th>Training_computation_petaflop</th>\n",
       "    </tr>\n",
       "  </thead>\n",
       "  <tbody>\n",
       "    <tr>\n",
       "      <th>count</th>\n",
       "      <td>0.0</td>\n",
       "      <td>246.000000</td>\n",
       "      <td>1.040000e+02</td>\n",
       "    </tr>\n",
       "    <tr>\n",
       "      <th>mean</th>\n",
       "      <td>NaN</td>\n",
       "      <td>2009.939024</td>\n",
       "      <td>3.002598e+08</td>\n",
       "    </tr>\n",
       "    <tr>\n",
       "      <th>std</th>\n",
       "      <td>NaN</td>\n",
       "      <td>15.437310</td>\n",
       "      <td>2.084483e+09</td>\n",
       "    </tr>\n",
       "    <tr>\n",
       "      <th>min</th>\n",
       "      <td>NaN</td>\n",
       "      <td>1950.000000</td>\n",
       "      <td>4.000000e-14</td>\n",
       "    </tr>\n",
       "    <tr>\n",
       "      <th>25%</th>\n",
       "      <td>NaN</td>\n",
       "      <td>2010.000000</td>\n",
       "      <td>3.650000e+00</td>\n",
       "    </tr>\n",
       "    <tr>\n",
       "      <th>50%</th>\n",
       "      <td>NaN</td>\n",
       "      <td>2015.500000</td>\n",
       "      <td>2.405000e+04</td>\n",
       "    </tr>\n",
       "    <tr>\n",
       "      <th>75%</th>\n",
       "      <td>NaN</td>\n",
       "      <td>2019.000000</td>\n",
       "      <td>1.100000e+07</td>\n",
       "    </tr>\n",
       "    <tr>\n",
       "      <th>max</th>\n",
       "      <td>NaN</td>\n",
       "      <td>2023.000000</td>\n",
       "      <td>2.100000e+10</td>\n",
       "    </tr>\n",
       "  </tbody>\n",
       "</table>\n",
       "</div>"
      ],
      "text/plain": [
       "       Code         year  Training_computation_petaflop\n",
       "count   0.0   246.000000                   1.040000e+02\n",
       "mean    NaN  2009.939024                   3.002598e+08\n",
       "std     NaN    15.437310                   2.084483e+09\n",
       "min     NaN  1950.000000                   4.000000e-14\n",
       "25%     NaN  2010.000000                   3.650000e+00\n",
       "50%     NaN  2015.500000                   2.405000e+04\n",
       "75%     NaN  2019.000000                   1.100000e+07\n",
       "max     NaN  2023.000000                   2.100000e+10"
      ]
     },
     "execution_count": 18,
     "metadata": {},
     "output_type": "execute_result"
    }
   ],
   "source": [
    "rawDF.describe()"
   ]
  }
 ],
 "metadata": {
  "kernelspec": {
   "display_name": "Python 3",
   "language": "python",
   "name": "python3"
  },
  "language_info": {
   "codemirror_mode": {
    "name": "ipython",
    "version": 3
   },
   "file_extension": ".py",
   "mimetype": "text/x-python",
   "name": "python",
   "nbconvert_exporter": "python",
   "pygments_lexer": "ipython3",
   "version": "3.13.7"
  }
 },
 "nbformat": 4,
 "nbformat_minor": 5
}
