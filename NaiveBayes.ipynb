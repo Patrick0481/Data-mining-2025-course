{
 "cells": [
  {
   "cell_type": "markdown",
   "id": "3fa950d3",
   "metadata": {},
   "source": [
    "4  Probabilistic Learning with Naive Bayes Classification"
   ]
  },
  {
   "cell_type": "code",
   "execution_count": 4,
   "id": "75a8056a",
   "metadata": {},
   "outputs": [
    {
     "data": {
      "application/vnd.microsoft.datawrangler.viewer.v0+json": {
       "columns": [
        {
         "name": "index",
         "rawType": "int64",
         "type": "integer"
        },
        {
         "name": "type",
         "rawType": "object",
         "type": "string"
        },
        {
         "name": "text",
         "rawType": "object",
         "type": "string"
        }
       ],
       "ref": "fa88c279-a542-40ef-af89-007dfa894a0b",
       "rows": [
        [
         "0",
         "ham",
         "Go until jurong point, crazy.. Available only in bugis n great world la e buffet... Cine there got amore wat..."
        ],
        [
         "1",
         "ham",
         "Ok lar... Joking wif u oni..."
        ],
        [
         "2",
         "spam",
         "Free entry in 2 a wkly comp to win FA Cup final tkts 21st May 2005. Text FA to 87121 to receive entry question(std txt rate)T&C's apply 08452810075over18's"
        ],
        [
         "3",
         "ham",
         "U dun say so early hor... U c already then say..."
        ],
        [
         "4",
         "ham",
         "Nah I don't think he goes to usf, he lives around here though"
        ]
       ],
       "shape": {
        "columns": 2,
        "rows": 5
       }
      },
      "text/html": [
       "<div>\n",
       "<style scoped>\n",
       "    .dataframe tbody tr th:only-of-type {\n",
       "        vertical-align: middle;\n",
       "    }\n",
       "\n",
       "    .dataframe tbody tr th {\n",
       "        vertical-align: top;\n",
       "    }\n",
       "\n",
       "    .dataframe thead th {\n",
       "        text-align: right;\n",
       "    }\n",
       "</style>\n",
       "<table border=\"1\" class=\"dataframe\">\n",
       "  <thead>\n",
       "    <tr style=\"text-align: right;\">\n",
       "      <th></th>\n",
       "      <th>type</th>\n",
       "      <th>text</th>\n",
       "    </tr>\n",
       "  </thead>\n",
       "  <tbody>\n",
       "    <tr>\n",
       "      <th>0</th>\n",
       "      <td>ham</td>\n",
       "      <td>Go until jurong point, crazy.. Available only ...</td>\n",
       "    </tr>\n",
       "    <tr>\n",
       "      <th>1</th>\n",
       "      <td>ham</td>\n",
       "      <td>Ok lar... Joking wif u oni...</td>\n",
       "    </tr>\n",
       "    <tr>\n",
       "      <th>2</th>\n",
       "      <td>spam</td>\n",
       "      <td>Free entry in 2 a wkly comp to win FA Cup fina...</td>\n",
       "    </tr>\n",
       "    <tr>\n",
       "      <th>3</th>\n",
       "      <td>ham</td>\n",
       "      <td>U dun say so early hor... U c already then say...</td>\n",
       "    </tr>\n",
       "    <tr>\n",
       "      <th>4</th>\n",
       "      <td>ham</td>\n",
       "      <td>Nah I don't think he goes to usf, he lives aro...</td>\n",
       "    </tr>\n",
       "  </tbody>\n",
       "</table>\n",
       "</div>"
      ],
      "text/plain": [
       "   type                                               text\n",
       "0   ham  Go until jurong point, crazy.. Available only ...\n",
       "1   ham                      Ok lar... Joking wif u oni...\n",
       "2  spam  Free entry in 2 a wkly comp to win FA Cup fina...\n",
       "3   ham  U dun say so early hor... U c already then say...\n",
       "4   ham  Nah I don't think he goes to usf, he lives aro..."
      ]
     },
     "execution_count": 4,
     "metadata": {},
     "output_type": "execute_result"
    }
   ],
   "source": [
    "import pandas as pd\n",
    "from pandas.api.types import CategoricalDtype\n",
    "\n",
    "url = \"https://raw.githubusercontent.com/businessdatasolutions/courses/main/datamining-n/datasets/smsspam.csv\"\n",
    "rawDF = pd.read_csv(url)\n",
    "rawDF.head()\n"
   ]
  },
  {
   "cell_type": "code",
   "execution_count": 5,
   "id": "84d454b8",
   "metadata": {},
   "outputs": [
    {
     "data": {
      "application/vnd.microsoft.datawrangler.viewer.v0+json": {
       "columns": [
        {
         "name": "index",
         "rawType": "int64",
         "type": "integer"
        },
        {
         "name": "type",
         "rawType": "category",
         "type": "unknown"
        }
       ],
       "ref": "8e8be17a-d259-4bf3-a9d3-a5316914d92c",
       "rows": [
        [
         "0",
         "ham"
        ],
        [
         "1",
         "ham"
        ],
        [
         "2",
         "spam"
        ],
        [
         "3",
         "ham"
        ],
        [
         "4",
         "ham"
        ],
        [
         "5",
         "spam"
        ],
        [
         "6",
         "ham"
        ],
        [
         "7",
         "ham"
        ],
        [
         "8",
         "spam"
        ],
        [
         "9",
         "spam"
        ],
        [
         "10",
         "ham"
        ],
        [
         "11",
         "spam"
        ],
        [
         "12",
         "spam"
        ],
        [
         "13",
         "ham"
        ],
        [
         "14",
         "ham"
        ],
        [
         "15",
         "spam"
        ],
        [
         "16",
         "ham"
        ],
        [
         "17",
         "ham"
        ],
        [
         "18",
         "ham"
        ],
        [
         "19",
         "spam"
        ],
        [
         "20",
         "ham"
        ],
        [
         "21",
         "ham"
        ],
        [
         "22",
         "ham"
        ],
        [
         "23",
         "ham"
        ],
        [
         "24",
         "ham"
        ],
        [
         "25",
         "ham"
        ],
        [
         "26",
         "ham"
        ],
        [
         "27",
         "ham"
        ],
        [
         "28",
         "ham"
        ],
        [
         "29",
         "ham"
        ],
        [
         "30",
         "ham"
        ],
        [
         "31",
         "ham"
        ],
        [
         "32",
         "ham"
        ],
        [
         "33",
         "ham"
        ],
        [
         "34",
         "spam"
        ],
        [
         "35",
         "ham"
        ],
        [
         "36",
         "ham"
        ],
        [
         "37",
         "ham"
        ],
        [
         "38",
         "ham"
        ],
        [
         "39",
         "ham"
        ],
        [
         "40",
         "ham"
        ],
        [
         "41",
         "ham"
        ],
        [
         "42",
         "spam"
        ],
        [
         "43",
         "ham"
        ],
        [
         "44",
         "ham"
        ],
        [
         "45",
         "ham"
        ],
        [
         "46",
         "ham"
        ],
        [
         "47",
         "ham"
        ],
        [
         "48",
         "ham"
        ],
        [
         "49",
         "ham"
        ]
       ],
       "shape": {
        "columns": 1,
        "rows": 5572
       }
      },
      "text/plain": [
       "0        ham\n",
       "1        ham\n",
       "2       spam\n",
       "3        ham\n",
       "4        ham\n",
       "        ... \n",
       "5567    spam\n",
       "5568     ham\n",
       "5569     ham\n",
       "5570     ham\n",
       "5571     ham\n",
       "Name: type, Length: 5572, dtype: category\n",
       "Categories (2, object): ['ham', 'spam']"
      ]
     },
     "execution_count": 5,
     "metadata": {},
     "output_type": "execute_result"
    }
   ],
   "source": [
    "# Define categorical type for 'type' column\n",
    "catType = CategoricalDtype(categories=[\"ham\", \"spam\"], ordered=False) \n",
    "rawDF.type = rawDF.type.astype(catType)\n",
    "rawDF.type"
   ]
  },
  {
   "cell_type": "code",
   "execution_count": 6,
   "id": "bd388a87",
   "metadata": {},
   "outputs": [
    {
     "data": {
      "application/vnd.microsoft.datawrangler.viewer.v0+json": {
       "columns": [
        {
         "name": "type",
         "rawType": "category",
         "type": "unknown"
        },
        {
         "name": "count",
         "rawType": "int64",
         "type": "integer"
        }
       ],
       "ref": "e3ff3cdf-75fd-4833-bbc6-b35d524c2621",
       "rows": [
        [
         "ham",
         "4825"
        ],
        [
         "spam",
         "747"
        ]
       ],
       "shape": {
        "columns": 1,
        "rows": 2
       }
      },
      "text/plain": [
       "type\n",
       "ham     4825\n",
       "spam     747\n",
       "Name: count, dtype: int64"
      ]
     },
     "execution_count": 6,
     "metadata": {},
     "output_type": "execute_result"
    }
   ],
   "source": [
    "#To see how the types of sms messages are distributed you can compare the counts for each category.\n",
    "rawDF.type.value_counts()"
   ]
  },
  {
   "cell_type": "code",
   "execution_count": 7,
   "id": "f1d8e9a9",
   "metadata": {},
   "outputs": [
    {
     "data": {
      "application/vnd.microsoft.datawrangler.viewer.v0+json": {
       "columns": [
        {
         "name": "type",
         "rawType": "category",
         "type": "unknown"
        },
        {
         "name": "proportion",
         "rawType": "float64",
         "type": "float"
        }
       ],
       "ref": "6c87e040-925c-4d96-82b5-2630de5fb5da",
       "rows": [
        [
         "ham",
         "0.8659368269921034"
        ],
        [
         "spam",
         "0.13406317300789664"
        ]
       ],
       "shape": {
        "columns": 1,
        "rows": 2
       }
      },
      "text/plain": [
       "type\n",
       "ham     0.865937\n",
       "spam    0.134063\n",
       "Name: proportion, dtype: float64"
      ]
     },
     "execution_count": 7,
     "metadata": {},
     "output_type": "execute_result"
    }
   ],
   "source": [
    "#Often you’ll prefer the relative counts.\n",
    "rawDF.type.value_counts(normalize=True)"
   ]
  },
  {
   "cell_type": "code",
   "execution_count": 8,
   "id": "ebd7651d",
   "metadata": {},
   "outputs": [
    {
     "data": {
      "image/png": "[encoded data removed]",
      "text/plain": [
       "<Figure size 640x480 with 2 Axes>"
      ]
     },
     "metadata": {},
     "output_type": "display_data"
    }
   ],
   "source": [
    "#%pip install wordcloud matplotlib\n",
    "\n",
    "from wordcloud import WordCloud\n",
    "import matplotlib.pyplot as plt\n",
    "import matplotlib.colors as colors\n",
    "\n",
    "#You can also visually inspect the data by creating wordclouds for each sms type.\n",
    "# Generate a word cloud image]\n",
    "hamText = ' '.join([Text for Text in rawDF[rawDF['type']=='ham']['text']])\n",
    "spamText = ' '.join([Text for Text in rawDF[rawDF['type']=='spam']['text']])\n",
    "# Make sure the cell where rawDF is defined has been run before this cell.\n",
    "colorListHam=['#e9f6fb','#92d2ed','#2195c5']\n",
    "colorListSpam=['#f9ebeb','#d57676','#b03636']\n",
    "colormapHam=colors.ListedColormap(colorListHam)\n",
    "colormapSpam=colors.ListedColormap(colorListSpam)\n",
    "wordcloudHam = WordCloud(background_color='white', colormap=colormapHam).generate(hamText)\n",
    "wordcloudSpam = WordCloud(background_color='white', colormap=colormapSpam).generate(spamText)\n",
    "\n",
    "# Display the generated image:\n",
    "# the matplotlib way:\n",
    "fig, (wc1, wc2) = plt.subplots(1, 2)\n",
    "fig.suptitle('Wordclouds for ham and spam')\n",
    "wc1.imshow(wordcloudHam)\n",
    "wc2.imshow(wordcloudSpam)\n",
    "plt.show()"
   ]
  },
  {
   "cell_type": "code",
   "execution_count": 9,
   "id": "db7b14f6",
   "metadata": {},
   "outputs": [
    {
     "data": {
      "application/vnd.microsoft.datawrangler.viewer.v0+json": {
       "columns": [
        {
         "name": "index",
         "rawType": "int64",
         "type": "integer"
        },
        {
         "name": "000",
         "rawType": "float64",
         "type": "float"
        },
        {
         "name": "03",
         "rawType": "float64",
         "type": "float"
        },
        {
         "name": "04",
         "rawType": "float64",
         "type": "float"
        },
        {
         "name": "0800",
         "rawType": "float64",
         "type": "float"
        },
        {
         "name": "08000839402",
         "rawType": "float64",
         "type": "float"
        },
        {
         "name": "08000930705",
         "rawType": "float64",
         "type": "float"
        },
        {
         "name": "10",
         "rawType": "float64",
         "type": "float"
        },
        {
         "name": "100",
         "rawType": "float64",
         "type": "float"
        },
        {
         "name": "1000",
         "rawType": "float64",
         "type": "float"
        },
        {
         "name": "10p",
         "rawType": "float64",
         "type": "float"
        },
        {
         "name": "11",
         "rawType": "float64",
         "type": "float"
        },
        {
         "name": "12",
         "rawType": "float64",
         "type": "float"
        },
        {
         "name": "12hrs",
         "rawType": "float64",
         "type": "float"
        },
        {
         "name": "150",
         "rawType": "float64",
         "type": "float"
        },
        {
         "name": "150p",
         "rawType": "float64",
         "type": "float"
        },
        {
         "name": "150ppm",
         "rawType": "float64",
         "type": "float"
        },
        {
         "name": "16",
         "rawType": "float64",
         "type": "float"
        },
        {
         "name": "18",
         "rawType": "float64",
         "type": "float"
        },
        {
         "name": "1st",
         "rawType": "float64",
         "type": "float"
        },
        {
         "name": "20",
         "rawType": "float64",
         "type": "float"
        },
        {
         "name": "200",
         "rawType": "float64",
         "type": "float"
        },
        {
         "name": "2000",
         "rawType": "float64",
         "type": "float"
        },
        {
         "name": "2003",
         "rawType": "float64",
         "type": "float"
        },
        {
         "name": "250",
         "rawType": "float64",
         "type": "float"
        },
        {
         "name": "2lands",
         "rawType": "float64",
         "type": "float"
        },
        {
         "name": "2nd",
         "rawType": "float64",
         "type": "float"
        },
        {
         "name": "30",
         "rawType": "float64",
         "type": "float"
        },
        {
         "name": "350",
         "rawType": "float64",
         "type": "float"
        },
        {
         "name": "50",
         "rawType": "float64",
         "type": "float"
        },
        {
         "name": "500",
         "rawType": "float64",
         "type": "float"
        },
        {
         "name": "5000",
         "rawType": "float64",
         "type": "float"
        },
        {
         "name": "750",
         "rawType": "float64",
         "type": "float"
        },
        {
         "name": "800",
         "rawType": "float64",
         "type": "float"
        },
        {
         "name": "8007",
         "rawType": "float64",
         "type": "float"
        },
        {
         "name": "86688",
         "rawType": "float64",
         "type": "float"
        },
        {
         "name": "87066",
         "rawType": "float64",
         "type": "float"
        },
        {
         "name": "900",
         "rawType": "float64",
         "type": "float"
        },
        {
         "name": "abiola",
         "rawType": "float64",
         "type": "float"
        },
        {
         "name": "able",
         "rawType": "float64",
         "type": "float"
        },
        {
         "name": "about",
         "rawType": "float64",
         "type": "float"
        },
        {
         "name": "abt",
         "rawType": "float64",
         "type": "float"
        },
        {
         "name": "ac",
         "rawType": "float64",
         "type": "float"
        },
        {
         "name": "account",
         "rawType": "float64",
         "type": "float"
        },
        {
         "name": "actually",
         "rawType": "float64",
         "type": "float"
        },
        {
         "name": "address",
         "rawType": "float64",
         "type": "float"
        },
        {
         "name": "admirer",
         "rawType": "float64",
         "type": "float"
        },
        {
         "name": "aft",
         "rawType": "float64",
         "type": "float"
        },
        {
         "name": "after",
         "rawType": "float64",
         "type": "float"
        },
        {
         "name": "afternoon",
         "rawType": "float64",
         "type": "float"
        },
        {
         "name": "again",
         "rawType": "float64",
         "type": "float"
        },
        {
         "name": "age",
         "rawType": "float64",
         "type": "float"
        },
        {
         "name": "ago",
         "rawType": "float64",
         "type": "float"
        },
        {
         "name": "ah",
         "rawType": "float64",
         "type": "float"
        },
        {
         "name": "aight",
         "rawType": "float64",
         "type": "float"
        },
        {
         "name": "all",
         "rawType": "float64",
         "type": "float"
        },
        {
         "name": "almost",
         "rawType": "float64",
         "type": "float"
        },
        {
         "name": "alone",
         "rawType": "float64",
         "type": "float"
        },
        {
         "name": "already",
         "rawType": "float64",
         "type": "float"
        },
        {
         "name": "alright",
         "rawType": "float64",
         "type": "float"
        },
        {
         "name": "also",
         "rawType": "float64",
         "type": "float"
        },
        {
         "name": "always",
         "rawType": "float64",
         "type": "float"
        },
        {
         "name": "am",
         "rawType": "float64",
         "type": "float"
        },
        {
         "name": "amp",
         "rawType": "float64",
         "type": "float"
        },
        {
         "name": "an",
         "rawType": "float64",
         "type": "float"
        },
        {
         "name": "and",
         "rawType": "float64",
         "type": "float"
        },
        {
         "name": "angry",
         "rawType": "float64",
         "type": "float"
        },
        {
         "name": "another",
         "rawType": "float64",
         "type": "float"
        },
        {
         "name": "ans",
         "rawType": "float64",
         "type": "float"
        },
        {
         "name": "answer",
         "rawType": "float64",
         "type": "float"
        },
        {
         "name": "any",
         "rawType": "float64",
         "type": "float"
        },
        {
         "name": "anyone",
         "rawType": "float64",
         "type": "float"
        },
        {
         "name": "anything",
         "rawType": "float64",
         "type": "float"
        },
        {
         "name": "anytime",
         "rawType": "float64",
         "type": "float"
        },
        {
         "name": "anyway",
         "rawType": "float64",
         "type": "float"
        },
        {
         "name": "apply",
         "rawType": "float64",
         "type": "float"
        },
        {
         "name": "ard",
         "rawType": "float64",
         "type": "float"
        },
        {
         "name": "are",
         "rawType": "float64",
         "type": "float"
        },
        {
         "name": "area",
         "rawType": "float64",
         "type": "float"
        },
        {
         "name": "around",
         "rawType": "float64",
         "type": "float"
        },
        {
         "name": "as",
         "rawType": "float64",
         "type": "float"
        },
        {
         "name": "asap",
         "rawType": "float64",
         "type": "float"
        },
        {
         "name": "ask",
         "rawType": "float64",
         "type": "float"
        },
        {
         "name": "askd",
         "rawType": "float64",
         "type": "float"
        },
        {
         "name": "asked",
         "rawType": "float64",
         "type": "float"
        },
        {
         "name": "asking",
         "rawType": "float64",
         "type": "float"
        },
        {
         "name": "ass",
         "rawType": "float64",
         "type": "float"
        },
        {
         "name": "at",
         "rawType": "float64",
         "type": "float"
        },
        {
         "name": "attempt",
         "rawType": "float64",
         "type": "float"
        },
        {
         "name": "auction",
         "rawType": "float64",
         "type": "float"
        },
        {
         "name": "available",
         "rawType": "float64",
         "type": "float"
        },
        {
         "name": "await",
         "rawType": "float64",
         "type": "float"
        },
        {
         "name": "award",
         "rawType": "float64",
         "type": "float"
        },
        {
         "name": "awarded",
         "rawType": "float64",
         "type": "float"
        },
        {
         "name": "away",
         "rawType": "float64",
         "type": "float"
        },
        {
         "name": "awesome",
         "rawType": "float64",
         "type": "float"
        },
        {
         "name": "b4",
         "rawType": "float64",
         "type": "float"
        },
        {
         "name": "babe",
         "rawType": "float64",
         "type": "float"
        },
        {
         "name": "baby",
         "rawType": "float64",
         "type": "float"
        },
        {
         "name": "back",
         "rawType": "float64",
         "type": "float"
        },
        {
         "name": "bad",
         "rawType": "float64",
         "type": "float"
        },
        {
         "name": "balance",
         "rawType": "float64",
         "type": "float"
        },
        {
         "name": "bank",
         "rawType": "float64",
         "type": "float"
        },
        {
         "name": "bath",
         "rawType": "float64",
         "type": "float"
        },
        {
         "name": "bcoz",
         "rawType": "float64",
         "type": "float"
        },
        {
         "name": "be",
         "rawType": "float64",
         "type": "float"
        },
        {
         "name": "beautiful",
         "rawType": "float64",
         "type": "float"
        },
        {
         "name": "because",
         "rawType": "float64",
         "type": "float"
        },
        {
         "name": "bed",
         "rawType": "float64",
         "type": "float"
        },
        {
         "name": "been",
         "rawType": "float64",
         "type": "float"
        },
        {
         "name": "before",
         "rawType": "float64",
         "type": "float"
        },
        {
         "name": "being",
         "rawType": "float64",
         "type": "float"
        },
        {
         "name": "believe",
         "rawType": "float64",
         "type": "float"
        },
        {
         "name": "best",
         "rawType": "float64",
         "type": "float"
        },
        {
         "name": "better",
         "rawType": "float64",
         "type": "float"
        },
        {
         "name": "between",
         "rawType": "float64",
         "type": "float"
        },
        {
         "name": "big",
         "rawType": "float64",
         "type": "float"
        },
        {
         "name": "birthday",
         "rawType": "float64",
         "type": "float"
        },
        {
         "name": "bit",
         "rawType": "float64",
         "type": "float"
        },
        {
         "name": "blood",
         "rawType": "float64",
         "type": "float"
        },
        {
         "name": "blue",
         "rawType": "float64",
         "type": "float"
        },
        {
         "name": "bonus",
         "rawType": "float64",
         "type": "float"
        },
        {
         "name": "book",
         "rawType": "float64",
         "type": "float"
        },
        {
         "name": "booked",
         "rawType": "float64",
         "type": "float"
        },
        {
         "name": "bored",
         "rawType": "float64",
         "type": "float"
        },
        {
         "name": "both",
         "rawType": "float64",
         "type": "float"
        },
        {
         "name": "bout",
         "rawType": "float64",
         "type": "float"
        },
        {
         "name": "box",
         "rawType": "float64",
         "type": "float"
        },
        {
         "name": "boy",
         "rawType": "float64",
         "type": "float"
        },
        {
         "name": "boytoy",
         "rawType": "float64",
         "type": "float"
        },
        {
         "name": "break",
         "rawType": "float64",
         "type": "float"
        },
        {
         "name": "bring",
         "rawType": "float64",
         "type": "float"
        },
        {
         "name": "brother",
         "rawType": "float64",
         "type": "float"
        },
        {
         "name": "bslvyl",
         "rawType": "float64",
         "type": "float"
        },
        {
         "name": "bt",
         "rawType": "float64",
         "type": "float"
        },
        {
         "name": "bus",
         "rawType": "float64",
         "type": "float"
        },
        {
         "name": "busy",
         "rawType": "float64",
         "type": "float"
        },
        {
         "name": "but",
         "rawType": "float64",
         "type": "float"
        },
        {
         "name": "buy",
         "rawType": "float64",
         "type": "float"
        },
        {
         "name": "by",
         "rawType": "float64",
         "type": "float"
        },
        {
         "name": "call",
         "rawType": "float64",
         "type": "float"
        },
        {
         "name": "call2optout",
         "rawType": "float64",
         "type": "float"
        },
        {
         "name": "called",
         "rawType": "float64",
         "type": "float"
        },
        {
         "name": "caller",
         "rawType": "float64",
         "type": "float"
        },
        {
         "name": "calling",
         "rawType": "float64",
         "type": "float"
        },
        {
         "name": "calls",
         "rawType": "float64",
         "type": "float"
        },
        {
         "name": "camcorder",
         "rawType": "float64",
         "type": "float"
        },
        {
         "name": "came",
         "rawType": "float64",
         "type": "float"
        },
        {
         "name": "camera",
         "rawType": "float64",
         "type": "float"
        },
        {
         "name": "can",
         "rawType": "float64",
         "type": "float"
        },
        {
         "name": "cant",
         "rawType": "float64",
         "type": "float"
        },
        {
         "name": "car",
         "rawType": "float64",
         "type": "float"
        },
        {
         "name": "card",
         "rawType": "float64",
         "type": "float"
        },
        {
         "name": "care",
         "rawType": "float64",
         "type": "float"
        },
        {
         "name": "carlos",
         "rawType": "float64",
         "type": "float"
        },
        {
         "name": "case",
         "rawType": "float64",
         "type": "float"
        },
        {
         "name": "cash",
         "rawType": "float64",
         "type": "float"
        },
        {
         "name": "cause",
         "rawType": "float64",
         "type": "float"
        },
        {
         "name": "chance",
         "rawType": "float64",
         "type": "float"
        },
        {
         "name": "change",
         "rawType": "float64",
         "type": "float"
        },
        {
         "name": "charge",
         "rawType": "float64",
         "type": "float"
        },
        {
         "name": "charged",
         "rawType": "float64",
         "type": "float"
        },
        {
         "name": "chat",
         "rawType": "float64",
         "type": "float"
        },
        {
         "name": "cheap",
         "rawType": "float64",
         "type": "float"
        },
        {
         "name": "check",
         "rawType": "float64",
         "type": "float"
        },
        {
         "name": "checking",
         "rawType": "float64",
         "type": "float"
        },
        {
         "name": "chennai",
         "rawType": "float64",
         "type": "float"
        },
        {
         "name": "chikku",
         "rawType": "float64",
         "type": "float"
        },
        {
         "name": "choose",
         "rawType": "float64",
         "type": "float"
        },
        {
         "name": "christmas",
         "rawType": "float64",
         "type": "float"
        },
        {
         "name": "claim",
         "rawType": "float64",
         "type": "float"
        },
        {
         "name": "class",
         "rawType": "float64",
         "type": "float"
        },
        {
         "name": "clean",
         "rawType": "float64",
         "type": "float"
        },
        {
         "name": "close",
         "rawType": "float64",
         "type": "float"
        },
        {
         "name": "club",
         "rawType": "float64",
         "type": "float"
        },
        {
         "name": "co",
         "rawType": "float64",
         "type": "float"
        },
        {
         "name": "code",
         "rawType": "float64",
         "type": "float"
        },
        {
         "name": "collect",
         "rawType": "float64",
         "type": "float"
        },
        {
         "name": "collection",
         "rawType": "float64",
         "type": "float"
        },
        {
         "name": "college",
         "rawType": "float64",
         "type": "float"
        },
        {
         "name": "colour",
         "rawType": "float64",
         "type": "float"
        },
        {
         "name": "com",
         "rawType": "float64",
         "type": "float"
        },
        {
         "name": "come",
         "rawType": "float64",
         "type": "float"
        },
        {
         "name": "comes",
         "rawType": "float64",
         "type": "float"
        },
        {
         "name": "comin",
         "rawType": "float64",
         "type": "float"
        },
        {
         "name": "coming",
         "rawType": "float64",
         "type": "float"
        },
        {
         "name": "comp",
         "rawType": "float64",
         "type": "float"
        },
        {
         "name": "company",
         "rawType": "float64",
         "type": "float"
        },
        {
         "name": "complimentary",
         "rawType": "float64",
         "type": "float"
        },
        {
         "name": "computer",
         "rawType": "float64",
         "type": "float"
        },
        {
         "name": "confirm",
         "rawType": "float64",
         "type": "float"
        },
        {
         "name": "congrats",
         "rawType": "float64",
         "type": "float"
        },
        {
         "name": "congratulations",
         "rawType": "float64",
         "type": "float"
        },
        {
         "name": "contact",
         "rawType": "float64",
         "type": "float"
        },
        {
         "name": "content",
         "rawType": "float64",
         "type": "float"
        },
        {
         "name": "cool",
         "rawType": "float64",
         "type": "float"
        },
        {
         "name": "correct",
         "rawType": "float64",
         "type": "float"
        },
        {
         "name": "cos",
         "rawType": "float64",
         "type": "float"
        },
        {
         "name": "cost",
         "rawType": "float64",
         "type": "float"
        },
        {
         "name": "could",
         "rawType": "float64",
         "type": "float"
        },
        {
         "name": "couple",
         "rawType": "float64",
         "type": "float"
        },
        {
         "name": "course",
         "rawType": "float64",
         "type": "float"
        },
        {
         "name": "coz",
         "rawType": "float64",
         "type": "float"
        },
        {
         "name": "crave",
         "rawType": "float64",
         "type": "float"
        },
        {
         "name": "crazy",
         "rawType": "float64",
         "type": "float"
        },
        {
         "name": "credit",
         "rawType": "float64",
         "type": "float"
        },
        {
         "name": "cs",
         "rawType": "float64",
         "type": "float"
        },
        {
         "name": "cum",
         "rawType": "float64",
         "type": "float"
        },
        {
         "name": "currently",
         "rawType": "float64",
         "type": "float"
        },
        {
         "name": "customer",
         "rawType": "float64",
         "type": "float"
        },
        {
         "name": "cut",
         "rawType": "float64",
         "type": "float"
        },
        {
         "name": "da",
         "rawType": "float64",
         "type": "float"
        },
        {
         "name": "dad",
         "rawType": "float64",
         "type": "float"
        },
        {
         "name": "darlin",
         "rawType": "float64",
         "type": "float"
        },
        {
         "name": "darren",
         "rawType": "float64",
         "type": "float"
        },
        {
         "name": "dat",
         "rawType": "float64",
         "type": "float"
        },
        {
         "name": "date",
         "rawType": "float64",
         "type": "float"
        },
        {
         "name": "dating",
         "rawType": "float64",
         "type": "float"
        },
        {
         "name": "day",
         "rawType": "float64",
         "type": "float"
        },
        {
         "name": "days",
         "rawType": "float64",
         "type": "float"
        },
        {
         "name": "de",
         "rawType": "float64",
         "type": "float"
        },
        {
         "name": "dear",
         "rawType": "float64",
         "type": "float"
        },
        {
         "name": "decided",
         "rawType": "float64",
         "type": "float"
        },
        {
         "name": "decimal",
         "rawType": "float64",
         "type": "float"
        },
        {
         "name": "delivery",
         "rawType": "float64",
         "type": "float"
        },
        {
         "name": "den",
         "rawType": "float64",
         "type": "float"
        },
        {
         "name": "details",
         "rawType": "float64",
         "type": "float"
        },
        {
         "name": "did",
         "rawType": "float64",
         "type": "float"
        },
        {
         "name": "didn",
         "rawType": "float64",
         "type": "float"
        },
        {
         "name": "didnt",
         "rawType": "float64",
         "type": "float"
        },
        {
         "name": "die",
         "rawType": "float64",
         "type": "float"
        },
        {
         "name": "different",
         "rawType": "float64",
         "type": "float"
        },
        {
         "name": "difficult",
         "rawType": "float64",
         "type": "float"
        },
        {
         "name": "dinner",
         "rawType": "float64",
         "type": "float"
        },
        {
         "name": "direct",
         "rawType": "float64",
         "type": "float"
        },
        {
         "name": "dis",
         "rawType": "float64",
         "type": "float"
        },
        {
         "name": "discount",
         "rawType": "float64",
         "type": "float"
        },
        {
         "name": "dnt",
         "rawType": "float64",
         "type": "float"
        },
        {
         "name": "do",
         "rawType": "float64",
         "type": "float"
        },
        {
         "name": "does",
         "rawType": "float64",
         "type": "float"
        },
        {
         "name": "doesn",
         "rawType": "float64",
         "type": "float"
        },
        {
         "name": "dogging",
         "rawType": "float64",
         "type": "float"
        },
        {
         "name": "doin",
         "rawType": "float64",
         "type": "float"
        },
        {
         "name": "doing",
         "rawType": "float64",
         "type": "float"
        },
        {
         "name": "don",
         "rawType": "float64",
         "type": "float"
        },
        {
         "name": "done",
         "rawType": "float64",
         "type": "float"
        },
        {
         "name": "dont",
         "rawType": "float64",
         "type": "float"
        },
        {
         "name": "double",
         "rawType": "float64",
         "type": "float"
        },
        {
         "name": "down",
         "rawType": "float64",
         "type": "float"
        },
        {
         "name": "download",
         "rawType": "float64",
         "type": "float"
        },
        {
         "name": "draw",
         "rawType": "float64",
         "type": "float"
        },
        {
         "name": "dream",
         "rawType": "float64",
         "type": "float"
        },
        {
         "name": "dreams",
         "rawType": "float64",
         "type": "float"
        },
        {
         "name": "drink",
         "rawType": "float64",
         "type": "float"
        },
        {
         "name": "drive",
         "rawType": "float64",
         "type": "float"
        },
        {
         "name": "driving",
         "rawType": "float64",
         "type": "float"
        },
        {
         "name": "drop",
         "rawType": "float64",
         "type": "float"
        },
        {
         "name": "dude",
         "rawType": "float64",
         "type": "float"
        },
        {
         "name": "dun",
         "rawType": "float64",
         "type": "float"
        },
        {
         "name": "dunno",
         "rawType": "float64",
         "type": "float"
        },
        {
         "name": "each",
         "rawType": "float64",
         "type": "float"
        },
        {
         "name": "earlier",
         "rawType": "float64",
         "type": "float"
        },
        {
         "name": "early",
         "rawType": "float64",
         "type": "float"
        },
        {
         "name": "easy",
         "rawType": "float64",
         "type": "float"
        },
        {
         "name": "eat",
         "rawType": "float64",
         "type": "float"
        },
        {
         "name": "eg",
         "rawType": "float64",
         "type": "float"
        },
        {
         "name": "eh",
         "rawType": "float64",
         "type": "float"
        },
        {
         "name": "either",
         "rawType": "float64",
         "type": "float"
        },
        {
         "name": "else",
         "rawType": "float64",
         "type": "float"
        },
        {
         "name": "email",
         "rawType": "float64",
         "type": "float"
        },
        {
         "name": "end",
         "rawType": "float64",
         "type": "float"
        },
        {
         "name": "ends",
         "rawType": "float64",
         "type": "float"
        },
        {
         "name": "energy",
         "rawType": "float64",
         "type": "float"
        },
        {
         "name": "england",
         "rawType": "float64",
         "type": "float"
        },
        {
         "name": "enjoy",
         "rawType": "float64",
         "type": "float"
        },
        {
         "name": "enough",
         "rawType": "float64",
         "type": "float"
        },
        {
         "name": "enter",
         "rawType": "float64",
         "type": "float"
        },
        {
         "name": "entered",
         "rawType": "float64",
         "type": "float"
        },
        {
         "name": "entry",
         "rawType": "float64",
         "type": "float"
        },
        {
         "name": "etc",
         "rawType": "float64",
         "type": "float"
        },
        {
         "name": "eve",
         "rawType": "float64",
         "type": "float"
        },
        {
         "name": "even",
         "rawType": "float64",
         "type": "float"
        },
        {
         "name": "evening",
         "rawType": "float64",
         "type": "float"
        },
        {
         "name": "ever",
         "rawType": "float64",
         "type": "float"
        },
        {
         "name": "every",
         "rawType": "float64",
         "type": "float"
        },
        {
         "name": "everyone",
         "rawType": "float64",
         "type": "float"
        },
        {
         "name": "everything",
         "rawType": "float64",
         "type": "float"
        },
        {
         "name": "ex",
         "rawType": "float64",
         "type": "float"
        },
        {
         "name": "exam",
         "rawType": "float64",
         "type": "float"
        },
        {
         "name": "expires",
         "rawType": "float64",
         "type": "float"
        },
        {
         "name": "extra",
         "rawType": "float64",
         "type": "float"
        },
        {
         "name": "face",
         "rawType": "float64",
         "type": "float"
        },
        {
         "name": "fact",
         "rawType": "float64",
         "type": "float"
        },
        {
         "name": "family",
         "rawType": "float64",
         "type": "float"
        },
        {
         "name": "fancy",
         "rawType": "float64",
         "type": "float"
        },
        {
         "name": "fantastic",
         "rawType": "float64",
         "type": "float"
        },
        {
         "name": "far",
         "rawType": "float64",
         "type": "float"
        },
        {
         "name": "fast",
         "rawType": "float64",
         "type": "float"
        },
        {
         "name": "father",
         "rawType": "float64",
         "type": "float"
        },
        {
         "name": "feel",
         "rawType": "float64",
         "type": "float"
        },
        {
         "name": "feeling",
         "rawType": "float64",
         "type": "float"
        },
        {
         "name": "feels",
         "rawType": "float64",
         "type": "float"
        },
        {
         "name": "felt",
         "rawType": "float64",
         "type": "float"
        },
        {
         "name": "few",
         "rawType": "float64",
         "type": "float"
        },
        {
         "name": "film",
         "rawType": "float64",
         "type": "float"
        },
        {
         "name": "final",
         "rawType": "float64",
         "type": "float"
        },
        {
         "name": "finally",
         "rawType": "float64",
         "type": "float"
        },
        {
         "name": "find",
         "rawType": "float64",
         "type": "float"
        },
        {
         "name": "fine",
         "rawType": "float64",
         "type": "float"
        },
        {
         "name": "finish",
         "rawType": "float64",
         "type": "float"
        },
        {
         "name": "finished",
         "rawType": "float64",
         "type": "float"
        },
        {
         "name": "first",
         "rawType": "float64",
         "type": "float"
        },
        {
         "name": "fone",
         "rawType": "float64",
         "type": "float"
        },
        {
         "name": "food",
         "rawType": "float64",
         "type": "float"
        },
        {
         "name": "for",
         "rawType": "float64",
         "type": "float"
        },
        {
         "name": "forget",
         "rawType": "float64",
         "type": "float"
        },
        {
         "name": "forgot",
         "rawType": "float64",
         "type": "float"
        },
        {
         "name": "found",
         "rawType": "float64",
         "type": "float"
        },
        {
         "name": "fr",
         "rawType": "float64",
         "type": "float"
        },
        {
         "name": "free",
         "rawType": "float64",
         "type": "float"
        },
        {
         "name": "freemsg",
         "rawType": "float64",
         "type": "float"
        },
        {
         "name": "fri",
         "rawType": "float64",
         "type": "float"
        },
        {
         "name": "friday",
         "rawType": "float64",
         "type": "float"
        },
        {
         "name": "friend",
         "rawType": "float64",
         "type": "float"
        },
        {
         "name": "friends",
         "rawType": "float64",
         "type": "float"
        },
        {
         "name": "friendship",
         "rawType": "float64",
         "type": "float"
        },
        {
         "name": "frm",
         "rawType": "float64",
         "type": "float"
        },
        {
         "name": "frnd",
         "rawType": "float64",
         "type": "float"
        },
        {
         "name": "frnds",
         "rawType": "float64",
         "type": "float"
        },
        {
         "name": "from",
         "rawType": "float64",
         "type": "float"
        },
        {
         "name": "fuck",
         "rawType": "float64",
         "type": "float"
        },
        {
         "name": "fucking",
         "rawType": "float64",
         "type": "float"
        },
        {
         "name": "full",
         "rawType": "float64",
         "type": "float"
        },
        {
         "name": "fun",
         "rawType": "float64",
         "type": "float"
        },
        {
         "name": "gal",
         "rawType": "float64",
         "type": "float"
        },
        {
         "name": "game",
         "rawType": "float64",
         "type": "float"
        },
        {
         "name": "games",
         "rawType": "float64",
         "type": "float"
        },
        {
         "name": "gas",
         "rawType": "float64",
         "type": "float"
        },
        {
         "name": "gd",
         "rawType": "float64",
         "type": "float"
        },
        {
         "name": "get",
         "rawType": "float64",
         "type": "float"
        },
        {
         "name": "gets",
         "rawType": "float64",
         "type": "float"
        },
        {
         "name": "getting",
         "rawType": "float64",
         "type": "float"
        },
        {
         "name": "gift",
         "rawType": "float64",
         "type": "float"
        },
        {
         "name": "girl",
         "rawType": "float64",
         "type": "float"
        },
        {
         "name": "girls",
         "rawType": "float64",
         "type": "float"
        },
        {
         "name": "give",
         "rawType": "float64",
         "type": "float"
        },
        {
         "name": "gn",
         "rawType": "float64",
         "type": "float"
        },
        {
         "name": "go",
         "rawType": "float64",
         "type": "float"
        },
        {
         "name": "god",
         "rawType": "float64",
         "type": "float"
        },
        {
         "name": "goes",
         "rawType": "float64",
         "type": "float"
        },
        {
         "name": "goin",
         "rawType": "float64",
         "type": "float"
        },
        {
         "name": "going",
         "rawType": "float64",
         "type": "float"
        },
        {
         "name": "gone",
         "rawType": "float64",
         "type": "float"
        },
        {
         "name": "gonna",
         "rawType": "float64",
         "type": "float"
        },
        {
         "name": "good",
         "rawType": "float64",
         "type": "float"
        },
        {
         "name": "goodmorning",
         "rawType": "float64",
         "type": "float"
        },
        {
         "name": "got",
         "rawType": "float64",
         "type": "float"
        },
        {
         "name": "gotta",
         "rawType": "float64",
         "type": "float"
        },
        {
         "name": "gr8",
         "rawType": "float64",
         "type": "float"
        },
        {
         "name": "great",
         "rawType": "float64",
         "type": "float"
        },
        {
         "name": "grins",
         "rawType": "float64",
         "type": "float"
        },
        {
         "name": "gt",
         "rawType": "float64",
         "type": "float"
        },
        {
         "name": "guaranteed",
         "rawType": "float64",
         "type": "float"
        },
        {
         "name": "gud",
         "rawType": "float64",
         "type": "float"
        },
        {
         "name": "guess",
         "rawType": "float64",
         "type": "float"
        },
        {
         "name": "guy",
         "rawType": "float64",
         "type": "float"
        },
        {
         "name": "guys",
         "rawType": "float64",
         "type": "float"
        },
        {
         "name": "gym",
         "rawType": "float64",
         "type": "float"
        },
        {
         "name": "ha",
         "rawType": "float64",
         "type": "float"
        },
        {
         "name": "had",
         "rawType": "float64",
         "type": "float"
        },
        {
         "name": "haf",
         "rawType": "float64",
         "type": "float"
        },
        {
         "name": "haha",
         "rawType": "float64",
         "type": "float"
        },
        {
         "name": "hair",
         "rawType": "float64",
         "type": "float"
        },
        {
         "name": "half",
         "rawType": "float64",
         "type": "float"
        },
        {
         "name": "hand",
         "rawType": "float64",
         "type": "float"
        },
        {
         "name": "happen",
         "rawType": "float64",
         "type": "float"
        },
        {
         "name": "happened",
         "rawType": "float64",
         "type": "float"
        },
        {
         "name": "happiness",
         "rawType": "float64",
         "type": "float"
        },
        {
         "name": "happy",
         "rawType": "float64",
         "type": "float"
        },
        {
         "name": "hard",
         "rawType": "float64",
         "type": "float"
        },
        {
         "name": "has",
         "rawType": "float64",
         "type": "float"
        },
        {
         "name": "hav",
         "rawType": "float64",
         "type": "float"
        },
        {
         "name": "have",
         "rawType": "float64",
         "type": "float"
        },
        {
         "name": "haven",
         "rawType": "float64",
         "type": "float"
        },
        {
         "name": "havent",
         "rawType": "float64",
         "type": "float"
        },
        {
         "name": "having",
         "rawType": "float64",
         "type": "float"
        },
        {
         "name": "he",
         "rawType": "float64",
         "type": "float"
        },
        {
         "name": "head",
         "rawType": "float64",
         "type": "float"
        },
        {
         "name": "hear",
         "rawType": "float64",
         "type": "float"
        },
        {
         "name": "heard",
         "rawType": "float64",
         "type": "float"
        },
        {
         "name": "heart",
         "rawType": "float64",
         "type": "float"
        },
        {
         "name": "hee",
         "rawType": "float64",
         "type": "float"
        },
        {
         "name": "hello",
         "rawType": "float64",
         "type": "float"
        },
        {
         "name": "help",
         "rawType": "float64",
         "type": "float"
        },
        {
         "name": "her",
         "rawType": "float64",
         "type": "float"
        },
        {
         "name": "here",
         "rawType": "float64",
         "type": "float"
        },
        {
         "name": "hey",
         "rawType": "float64",
         "type": "float"
        },
        {
         "name": "hg",
         "rawType": "float64",
         "type": "float"
        },
        {
         "name": "hi",
         "rawType": "float64",
         "type": "float"
        },
        {
         "name": "him",
         "rawType": "float64",
         "type": "float"
        },
        {
         "name": "his",
         "rawType": "float64",
         "type": "float"
        },
        {
         "name": "hit",
         "rawType": "float64",
         "type": "float"
        },
        {
         "name": "hmm",
         "rawType": "float64",
         "type": "float"
        },
        {
         "name": "hmmm",
         "rawType": "float64",
         "type": "float"
        },
        {
         "name": "hold",
         "rawType": "float64",
         "type": "float"
        },
        {
         "name": "holiday",
         "rawType": "float64",
         "type": "float"
        },
        {
         "name": "home",
         "rawType": "float64",
         "type": "float"
        },
        {
         "name": "hope",
         "rawType": "float64",
         "type": "float"
        },
        {
         "name": "hoping",
         "rawType": "float64",
         "type": "float"
        },
        {
         "name": "hot",
         "rawType": "float64",
         "type": "float"
        },
        {
         "name": "hour",
         "rawType": "float64",
         "type": "float"
        },
        {
         "name": "hours",
         "rawType": "float64",
         "type": "float"
        },
        {
         "name": "house",
         "rawType": "float64",
         "type": "float"
        },
        {
         "name": "how",
         "rawType": "float64",
         "type": "float"
        },
        {
         "name": "hows",
         "rawType": "float64",
         "type": "float"
        },
        {
         "name": "http",
         "rawType": "float64",
         "type": "float"
        },
        {
         "name": "huh",
         "rawType": "float64",
         "type": "float"
        },
        {
         "name": "hungry",
         "rawType": "float64",
         "type": "float"
        },
        {
         "name": "hurt",
         "rawType": "float64",
         "type": "float"
        },
        {
         "name": "hw",
         "rawType": "float64",
         "type": "float"
        },
        {
         "name": "id",
         "rawType": "float64",
         "type": "float"
        },
        {
         "name": "identifier",
         "rawType": "float64",
         "type": "float"
        },
        {
         "name": "if",
         "rawType": "float64",
         "type": "float"
        },
        {
         "name": "il",
         "rawType": "float64",
         "type": "float"
        },
        {
         "name": "ill",
         "rawType": "float64",
         "type": "float"
        },
        {
         "name": "im",
         "rawType": "float64",
         "type": "float"
        },
        {
         "name": "important",
         "rawType": "float64",
         "type": "float"
        },
        {
         "name": "in",
         "rawType": "float64",
         "type": "float"
        },
        {
         "name": "india",
         "rawType": "float64",
         "type": "float"
        },
        {
         "name": "info",
         "rawType": "float64",
         "type": "float"
        },
        {
         "name": "information",
         "rawType": "float64",
         "type": "float"
        },
        {
         "name": "into",
         "rawType": "float64",
         "type": "float"
        },
        {
         "name": "invited",
         "rawType": "float64",
         "type": "float"
        },
        {
         "name": "ipod",
         "rawType": "float64",
         "type": "float"
        },
        {
         "name": "is",
         "rawType": "float64",
         "type": "float"
        },
        {
         "name": "isn",
         "rawType": "float64",
         "type": "float"
        },
        {
         "name": "it",
         "rawType": "float64",
         "type": "float"
        },
        {
         "name": "its",
         "rawType": "float64",
         "type": "float"
        },
        {
         "name": "jay",
         "rawType": "float64",
         "type": "float"
        },
        {
         "name": "job",
         "rawType": "float64",
         "type": "float"
        },
        {
         "name": "john",
         "rawType": "float64",
         "type": "float"
        },
        {
         "name": "join",
         "rawType": "float64",
         "type": "float"
        },
        {
         "name": "joy",
         "rawType": "float64",
         "type": "float"
        },
        {
         "name": "jus",
         "rawType": "float64",
         "type": "float"
        },
        {
         "name": "just",
         "rawType": "float64",
         "type": "float"
        },
        {
         "name": "juz",
         "rawType": "float64",
         "type": "float"
        },
        {
         "name": "kate",
         "rawType": "float64",
         "type": "float"
        },
        {
         "name": "keep",
         "rawType": "float64",
         "type": "float"
        },
        {
         "name": "kind",
         "rawType": "float64",
         "type": "float"
        },
        {
         "name": "kiss",
         "rawType": "float64",
         "type": "float"
        },
        {
         "name": "knew",
         "rawType": "float64",
         "type": "float"
        },
        {
         "name": "know",
         "rawType": "float64",
         "type": "float"
        },
        {
         "name": "knows",
         "rawType": "float64",
         "type": "float"
        },
        {
         "name": "knw",
         "rawType": "float64",
         "type": "float"
        },
        {
         "name": "land",
         "rawType": "float64",
         "type": "float"
        },
        {
         "name": "landline",
         "rawType": "float64",
         "type": "float"
        },
        {
         "name": "laptop",
         "rawType": "float64",
         "type": "float"
        },
        {
         "name": "lar",
         "rawType": "float64",
         "type": "float"
        },
        {
         "name": "last",
         "rawType": "float64",
         "type": "float"
        },
        {
         "name": "late",
         "rawType": "float64",
         "type": "float"
        },
        {
         "name": "later",
         "rawType": "float64",
         "type": "float"
        },
        {
         "name": "latest",
         "rawType": "float64",
         "type": "float"
        },
        {
         "name": "laugh",
         "rawType": "float64",
         "type": "float"
        },
        {
         "name": "ldn",
         "rawType": "float64",
         "type": "float"
        },
        {
         "name": "least",
         "rawType": "float64",
         "type": "float"
        },
        {
         "name": "leave",
         "rawType": "float64",
         "type": "float"
        },
        {
         "name": "leaves",
         "rawType": "float64",
         "type": "float"
        },
        {
         "name": "leaving",
         "rawType": "float64",
         "type": "float"
        },
        {
         "name": "left",
         "rawType": "float64",
         "type": "float"
        },
        {
         "name": "leh",
         "rawType": "float64",
         "type": "float"
        },
        {
         "name": "lei",
         "rawType": "float64",
         "type": "float"
        },
        {
         "name": "lesson",
         "rawType": "float64",
         "type": "float"
        },
        {
         "name": "let",
         "rawType": "float64",
         "type": "float"
        },
        {
         "name": "lets",
         "rawType": "float64",
         "type": "float"
        },
        {
         "name": "liao",
         "rawType": "float64",
         "type": "float"
        },
        {
         "name": "life",
         "rawType": "float64",
         "type": "float"
        },
        {
         "name": "light",
         "rawType": "float64",
         "type": "float"
        },
        {
         "name": "like",
         "rawType": "float64",
         "type": "float"
        },
        {
         "name": "line",
         "rawType": "float64",
         "type": "float"
        },
        {
         "name": "link",
         "rawType": "float64",
         "type": "float"
        },
        {
         "name": "listen",
         "rawType": "float64",
         "type": "float"
        },
        {
         "name": "little",
         "rawType": "float64",
         "type": "float"
        },
        {
         "name": "live",
         "rawType": "float64",
         "type": "float"
        },
        {
         "name": "ll",
         "rawType": "float64",
         "type": "float"
        },
        {
         "name": "loads",
         "rawType": "float64",
         "type": "float"
        },
        {
         "name": "log",
         "rawType": "float64",
         "type": "float"
        },
        {
         "name": "lol",
         "rawType": "float64",
         "type": "float"
        },
        {
         "name": "long",
         "rawType": "float64",
         "type": "float"
        },
        {
         "name": "look",
         "rawType": "float64",
         "type": "float"
        },
        {
         "name": "looking",
         "rawType": "float64",
         "type": "float"
        },
        {
         "name": "lor",
         "rawType": "float64",
         "type": "float"
        },
        {
         "name": "lose",
         "rawType": "float64",
         "type": "float"
        },
        {
         "name": "lost",
         "rawType": "float64",
         "type": "float"
        },
        {
         "name": "lot",
         "rawType": "float64",
         "type": "float"
        },
        {
         "name": "lots",
         "rawType": "float64",
         "type": "float"
        },
        {
         "name": "lovable",
         "rawType": "float64",
         "type": "float"
        },
        {
         "name": "love",
         "rawType": "float64",
         "type": "float"
        },
        {
         "name": "loved",
         "rawType": "float64",
         "type": "float"
        },
        {
         "name": "lovely",
         "rawType": "float64",
         "type": "float"
        },
        {
         "name": "loving",
         "rawType": "float64",
         "type": "float"
        },
        {
         "name": "lt",
         "rawType": "float64",
         "type": "float"
        },
        {
         "name": "ltd",
         "rawType": "float64",
         "type": "float"
        },
        {
         "name": "luck",
         "rawType": "float64",
         "type": "float"
        },
        {
         "name": "lucky",
         "rawType": "float64",
         "type": "float"
        },
        {
         "name": "lunch",
         "rawType": "float64",
         "type": "float"
        },
        {
         "name": "luv",
         "rawType": "float64",
         "type": "float"
        },
        {
         "name": "made",
         "rawType": "float64",
         "type": "float"
        },
        {
         "name": "mah",
         "rawType": "float64",
         "type": "float"
        },
        {
         "name": "mail",
         "rawType": "float64",
         "type": "float"
        },
        {
         "name": "make",
         "rawType": "float64",
         "type": "float"
        },
        {
         "name": "makes",
         "rawType": "float64",
         "type": "float"
        },
        {
         "name": "making",
         "rawType": "float64",
         "type": "float"
        },
        {
         "name": "man",
         "rawType": "float64",
         "type": "float"
        },
        {
         "name": "many",
         "rawType": "float64",
         "type": "float"
        },
        {
         "name": "march",
         "rawType": "float64",
         "type": "float"
        },
        {
         "name": "match",
         "rawType": "float64",
         "type": "float"
        },
        {
         "name": "mate",
         "rawType": "float64",
         "type": "float"
        },
        {
         "name": "mates",
         "rawType": "float64",
         "type": "float"
        },
        {
         "name": "may",
         "rawType": "float64",
         "type": "float"
        },
        {
         "name": "mayb",
         "rawType": "float64",
         "type": "float"
        },
        {
         "name": "maybe",
         "rawType": "float64",
         "type": "float"
        },
        {
         "name": "me",
         "rawType": "float64",
         "type": "float"
        },
        {
         "name": "mean",
         "rawType": "float64",
         "type": "float"
        },
        {
         "name": "means",
         "rawType": "float64",
         "type": "float"
        },
        {
         "name": "meant",
         "rawType": "float64",
         "type": "float"
        },
        {
         "name": "meet",
         "rawType": "float64",
         "type": "float"
        },
        {
         "name": "meeting",
         "rawType": "float64",
         "type": "float"
        },
        {
         "name": "message",
         "rawType": "float64",
         "type": "float"
        },
        {
         "name": "messages",
         "rawType": "float64",
         "type": "float"
        },
        {
         "name": "met",
         "rawType": "float64",
         "type": "float"
        },
        {
         "name": "might",
         "rawType": "float64",
         "type": "float"
        },
        {
         "name": "min",
         "rawType": "float64",
         "type": "float"
        },
        {
         "name": "mind",
         "rawType": "float64",
         "type": "float"
        },
        {
         "name": "mine",
         "rawType": "float64",
         "type": "float"
        },
        {
         "name": "mins",
         "rawType": "float64",
         "type": "float"
        },
        {
         "name": "minute",
         "rawType": "float64",
         "type": "float"
        },
        {
         "name": "minutes",
         "rawType": "float64",
         "type": "float"
        },
        {
         "name": "miss",
         "rawType": "float64",
         "type": "float"
        },
        {
         "name": "missed",
         "rawType": "float64",
         "type": "float"
        },
        {
         "name": "missing",
         "rawType": "float64",
         "type": "float"
        },
        {
         "name": "mob",
         "rawType": "float64",
         "type": "float"
        },
        {
         "name": "mobile",
         "rawType": "float64",
         "type": "float"
        },
        {
         "name": "mobiles",
         "rawType": "float64",
         "type": "float"
        },
        {
         "name": "mobileupd8",
         "rawType": "float64",
         "type": "float"
        },
        {
         "name": "mom",
         "rawType": "float64",
         "type": "float"
        },
        {
         "name": "moment",
         "rawType": "float64",
         "type": "float"
        },
        {
         "name": "monday",
         "rawType": "float64",
         "type": "float"
        },
        {
         "name": "money",
         "rawType": "float64",
         "type": "float"
        },
        {
         "name": "month",
         "rawType": "float64",
         "type": "float"
        },
        {
         "name": "more",
         "rawType": "float64",
         "type": "float"
        },
        {
         "name": "morning",
         "rawType": "float64",
         "type": "float"
        },
        {
         "name": "most",
         "rawType": "float64",
         "type": "float"
        },
        {
         "name": "motorola",
         "rawType": "float64",
         "type": "float"
        },
        {
         "name": "move",
         "rawType": "float64",
         "type": "float"
        },
        {
         "name": "movie",
         "rawType": "float64",
         "type": "float"
        },
        {
         "name": "mr",
         "rawType": "float64",
         "type": "float"
        },
        {
         "name": "mrng",
         "rawType": "float64",
         "type": "float"
        },
        {
         "name": "msg",
         "rawType": "float64",
         "type": "float"
        },
        {
         "name": "msgs",
         "rawType": "float64",
         "type": "float"
        },
        {
         "name": "mu",
         "rawType": "float64",
         "type": "float"
        },
        {
         "name": "much",
         "rawType": "float64",
         "type": "float"
        },
        {
         "name": "mum",
         "rawType": "float64",
         "type": "float"
        },
        {
         "name": "music",
         "rawType": "float64",
         "type": "float"
        },
        {
         "name": "must",
         "rawType": "float64",
         "type": "float"
        },
        {
         "name": "muz",
         "rawType": "float64",
         "type": "float"
        },
        {
         "name": "my",
         "rawType": "float64",
         "type": "float"
        },
        {
         "name": "na",
         "rawType": "float64",
         "type": "float"
        },
        {
         "name": "name",
         "rawType": "float64",
         "type": "float"
        },
        {
         "name": "national",
         "rawType": "float64",
         "type": "float"
        },
        {
         "name": "need",
         "rawType": "float64",
         "type": "float"
        },
        {
         "name": "needs",
         "rawType": "float64",
         "type": "float"
        },
        {
         "name": "net",
         "rawType": "float64",
         "type": "float"
        },
        {
         "name": "network",
         "rawType": "float64",
         "type": "float"
        },
        {
         "name": "neva",
         "rawType": "float64",
         "type": "float"
        },
        {
         "name": "never",
         "rawType": "float64",
         "type": "float"
        },
        {
         "name": "new",
         "rawType": "float64",
         "type": "float"
        },
        {
         "name": "news",
         "rawType": "float64",
         "type": "float"
        },
        {
         "name": "next",
         "rawType": "float64",
         "type": "float"
        },
        {
         "name": "ni8",
         "rawType": "float64",
         "type": "float"
        },
        {
         "name": "nice",
         "rawType": "float64",
         "type": "float"
        },
        {
         "name": "night",
         "rawType": "float64",
         "type": "float"
        },
        {
         "name": "nite",
         "rawType": "float64",
         "type": "float"
        },
        {
         "name": "no",
         "rawType": "float64",
         "type": "float"
        },
        {
         "name": "nobody",
         "rawType": "float64",
         "type": "float"
        },
        {
         "name": "noe",
         "rawType": "float64",
         "type": "float"
        },
        {
         "name": "nokia",
         "rawType": "float64",
         "type": "float"
        },
        {
         "name": "nope",
         "rawType": "float64",
         "type": "float"
        },
        {
         "name": "normal",
         "rawType": "float64",
         "type": "float"
        },
        {
         "name": "not",
         "rawType": "float64",
         "type": "float"
        },
        {
         "name": "nothing",
         "rawType": "float64",
         "type": "float"
        },
        {
         "name": "now",
         "rawType": "float64",
         "type": "float"
        },
        {
         "name": "nt",
         "rawType": "float64",
         "type": "float"
        },
        {
         "name": "ntt",
         "rawType": "float64",
         "type": "float"
        },
        {
         "name": "number",
         "rawType": "float64",
         "type": "float"
        },
        {
         "name": "numbers",
         "rawType": "float64",
         "type": "float"
        },
        {
         "name": "nyt",
         "rawType": "float64",
         "type": "float"
        },
        {
         "name": "of",
         "rawType": "float64",
         "type": "float"
        },
        {
         "name": "off",
         "rawType": "float64",
         "type": "float"
        },
        {
         "name": "offer",
         "rawType": "float64",
         "type": "float"
        },
        {
         "name": "offers",
         "rawType": "float64",
         "type": "float"
        },
        {
         "name": "office",
         "rawType": "float64",
         "type": "float"
        },
        {
         "name": "oh",
         "rawType": "float64",
         "type": "float"
        },
        {
         "name": "ok",
         "rawType": "float64",
         "type": "float"
        },
        {
         "name": "okay",
         "rawType": "float64",
         "type": "float"
        },
        {
         "name": "okie",
         "rawType": "float64",
         "type": "float"
        },
        {
         "name": "old",
         "rawType": "float64",
         "type": "float"
        },
        {
         "name": "on",
         "rawType": "float64",
         "type": "float"
        },
        {
         "name": "once",
         "rawType": "float64",
         "type": "float"
        },
        {
         "name": "one",
         "rawType": "float64",
         "type": "float"
        },
        {
         "name": "online",
         "rawType": "float64",
         "type": "float"
        },
        {
         "name": "only",
         "rawType": "float64",
         "type": "float"
        },
        {
         "name": "oops",
         "rawType": "float64",
         "type": "float"
        },
        {
         "name": "open",
         "rawType": "float64",
         "type": "float"
        },
        {
         "name": "operator",
         "rawType": "float64",
         "type": "float"
        },
        {
         "name": "opt",
         "rawType": "float64",
         "type": "float"
        },
        {
         "name": "or",
         "rawType": "float64",
         "type": "float"
        },
        {
         "name": "orange",
         "rawType": "float64",
         "type": "float"
        },
        {
         "name": "orchard",
         "rawType": "float64",
         "type": "float"
        },
        {
         "name": "order",
         "rawType": "float64",
         "type": "float"
        },
        {
         "name": "oredi",
         "rawType": "float64",
         "type": "float"
        },
        {
         "name": "oso",
         "rawType": "float64",
         "type": "float"
        },
        {
         "name": "other",
         "rawType": "float64",
         "type": "float"
        },
        {
         "name": "our",
         "rawType": "float64",
         "type": "float"
        },
        {
         "name": "out",
         "rawType": "float64",
         "type": "float"
        },
        {
         "name": "outside",
         "rawType": "float64",
         "type": "float"
        },
        {
         "name": "over",
         "rawType": "float64",
         "type": "float"
        },
        {
         "name": "own",
         "rawType": "float64",
         "type": "float"
        },
        {
         "name": "pa",
         "rawType": "float64",
         "type": "float"
        },
        {
         "name": "pain",
         "rawType": "float64",
         "type": "float"
        },
        {
         "name": "paper",
         "rawType": "float64",
         "type": "float"
        },
        {
         "name": "parents",
         "rawType": "float64",
         "type": "float"
        },
        {
         "name": "park",
         "rawType": "float64",
         "type": "float"
        },
        {
         "name": "part",
         "rawType": "float64",
         "type": "float"
        },
        {
         "name": "party",
         "rawType": "float64",
         "type": "float"
        },
        {
         "name": "pass",
         "rawType": "float64",
         "type": "float"
        },
        {
         "name": "pay",
         "rawType": "float64",
         "type": "float"
        },
        {
         "name": "people",
         "rawType": "float64",
         "type": "float"
        },
        {
         "name": "per",
         "rawType": "float64",
         "type": "float"
        },
        {
         "name": "person",
         "rawType": "float64",
         "type": "float"
        },
        {
         "name": "pete",
         "rawType": "float64",
         "type": "float"
        },
        {
         "name": "phone",
         "rawType": "float64",
         "type": "float"
        },
        {
         "name": "phones",
         "rawType": "float64",
         "type": "float"
        },
        {
         "name": "pic",
         "rawType": "float64",
         "type": "float"
        },
        {
         "name": "pick",
         "rawType": "float64",
         "type": "float"
        },
        {
         "name": "picking",
         "rawType": "float64",
         "type": "float"
        },
        {
         "name": "pics",
         "rawType": "float64",
         "type": "float"
        },
        {
         "name": "place",
         "rawType": "float64",
         "type": "float"
        },
        {
         "name": "plan",
         "rawType": "float64",
         "type": "float"
        },
        {
         "name": "plans",
         "rawType": "float64",
         "type": "float"
        },
        {
         "name": "play",
         "rawType": "float64",
         "type": "float"
        },
        {
         "name": "player",
         "rawType": "float64",
         "type": "float"
        },
        {
         "name": "please",
         "rawType": "float64",
         "type": "float"
        },
        {
         "name": "pls",
         "rawType": "float64",
         "type": "float"
        },
        {
         "name": "plus",
         "rawType": "float64",
         "type": "float"
        },
        {
         "name": "plz",
         "rawType": "float64",
         "type": "float"
        },
        {
         "name": "pm",
         "rawType": "float64",
         "type": "float"
        },
        {
         "name": "po",
         "rawType": "float64",
         "type": "float"
        },
        {
         "name": "pobox",
         "rawType": "float64",
         "type": "float"
        },
        {
         "name": "point",
         "rawType": "float64",
         "type": "float"
        },
        {
         "name": "points",
         "rawType": "float64",
         "type": "float"
        },
        {
         "name": "police",
         "rawType": "float64",
         "type": "float"
        },
        {
         "name": "poly",
         "rawType": "float64",
         "type": "float"
        },
        {
         "name": "post",
         "rawType": "float64",
         "type": "float"
        },
        {
         "name": "pounds",
         "rawType": "float64",
         "type": "float"
        },
        {
         "name": "pray",
         "rawType": "float64",
         "type": "float"
        },
        {
         "name": "press",
         "rawType": "float64",
         "type": "float"
        },
        {
         "name": "pretty",
         "rawType": "float64",
         "type": "float"
        },
        {
         "name": "price",
         "rawType": "float64",
         "type": "float"
        },
        {
         "name": "princess",
         "rawType": "float64",
         "type": "float"
        },
        {
         "name": "private",
         "rawType": "float64",
         "type": "float"
        },
        {
         "name": "prize",
         "rawType": "float64",
         "type": "float"
        },
        {
         "name": "prob",
         "rawType": "float64",
         "type": "float"
        },
        {
         "name": "probably",
         "rawType": "float64",
         "type": "float"
        },
        {
         "name": "problem",
         "rawType": "float64",
         "type": "float"
        },
        {
         "name": "project",
         "rawType": "float64",
         "type": "float"
        },
        {
         "name": "pub",
         "rawType": "float64",
         "type": "float"
        },
        {
         "name": "put",
         "rawType": "float64",
         "type": "float"
        },
        {
         "name": "question",
         "rawType": "float64",
         "type": "float"
        },
        {
         "name": "questions",
         "rawType": "float64",
         "type": "float"
        },
        {
         "name": "quite",
         "rawType": "float64",
         "type": "float"
        },
        {
         "name": "quiz",
         "rawType": "float64",
         "type": "float"
        },
        {
         "name": "rate",
         "rawType": "float64",
         "type": "float"
        },
        {
         "name": "re",
         "rawType": "float64",
         "type": "float"
        },
        {
         "name": "reach",
         "rawType": "float64",
         "type": "float"
        },
        {
         "name": "reached",
         "rawType": "float64",
         "type": "float"
        },
        {
         "name": "read",
         "rawType": "float64",
         "type": "float"
        },
        {
         "name": "reading",
         "rawType": "float64",
         "type": "float"
        },
        {
         "name": "ready",
         "rawType": "float64",
         "type": "float"
        },
        {
         "name": "real",
         "rawType": "float64",
         "type": "float"
        },
        {
         "name": "really",
         "rawType": "float64",
         "type": "float"
        },
        {
         "name": "reason",
         "rawType": "float64",
         "type": "float"
        },
        {
         "name": "receive",
         "rawType": "float64",
         "type": "float"
        },
        {
         "name": "red",
         "rawType": "float64",
         "type": "float"
        },
        {
         "name": "redeemed",
         "rawType": "float64",
         "type": "float"
        },
        {
         "name": "remember",
         "rawType": "float64",
         "type": "float"
        },
        {
         "name": "remove",
         "rawType": "float64",
         "type": "float"
        },
        {
         "name": "rental",
         "rawType": "float64",
         "type": "float"
        },
        {
         "name": "reply",
         "rawType": "float64",
         "type": "float"
        },
        {
         "name": "rest",
         "rawType": "float64",
         "type": "float"
        },
        {
         "name": "reveal",
         "rawType": "float64",
         "type": "float"
        },
        {
         "name": "reward",
         "rawType": "float64",
         "type": "float"
        },
        {
         "name": "right",
         "rawType": "float64",
         "type": "float"
        },
        {
         "name": "ring",
         "rawType": "float64",
         "type": "float"
        },
        {
         "name": "ringtone",
         "rawType": "float64",
         "type": "float"
        },
        {
         "name": "ringtones",
         "rawType": "float64",
         "type": "float"
        },
        {
         "name": "rite",
         "rawType": "float64",
         "type": "float"
        },
        {
         "name": "rock",
         "rawType": "float64",
         "type": "float"
        },
        {
         "name": "room",
         "rawType": "float64",
         "type": "float"
        },
        {
         "name": "row",
         "rawType": "float64",
         "type": "float"
        },
        {
         "name": "rply",
         "rawType": "float64",
         "type": "float"
        },
        {
         "name": "rs",
         "rawType": "float64",
         "type": "float"
        },
        {
         "name": "run",
         "rawType": "float64",
         "type": "float"
        },
        {
         "name": "sad",
         "rawType": "float64",
         "type": "float"
        },
        {
         "name": "sae",
         "rawType": "float64",
         "type": "float"
        },
        {
         "name": "safe",
         "rawType": "float64",
         "type": "float"
        },
        {
         "name": "said",
         "rawType": "float64",
         "type": "float"
        },
        {
         "name": "same",
         "rawType": "float64",
         "type": "float"
        },
        {
         "name": "sat",
         "rawType": "float64",
         "type": "float"
        },
        {
         "name": "saturday",
         "rawType": "float64",
         "type": "float"
        },
        {
         "name": "savamob",
         "rawType": "float64",
         "type": "float"
        },
        {
         "name": "saw",
         "rawType": "float64",
         "type": "float"
        },
        {
         "name": "say",
         "rawType": "float64",
         "type": "float"
        },
        {
         "name": "saying",
         "rawType": "float64",
         "type": "float"
        },
        {
         "name": "says",
         "rawType": "float64",
         "type": "float"
        },
        {
         "name": "sch",
         "rawType": "float64",
         "type": "float"
        },
        {
         "name": "school",
         "rawType": "float64",
         "type": "float"
        },
        {
         "name": "sea",
         "rawType": "float64",
         "type": "float"
        },
        {
         "name": "search",
         "rawType": "float64",
         "type": "float"
        },
        {
         "name": "second",
         "rawType": "float64",
         "type": "float"
        },
        {
         "name": "secret",
         "rawType": "float64",
         "type": "float"
        },
        {
         "name": "see",
         "rawType": "float64",
         "type": "float"
        },
        {
         "name": "seeing",
         "rawType": "float64",
         "type": "float"
        },
        {
         "name": "seen",
         "rawType": "float64",
         "type": "float"
        },
        {
         "name": "selected",
         "rawType": "float64",
         "type": "float"
        },
        {
         "name": "semester",
         "rawType": "float64",
         "type": "float"
        },
        {
         "name": "send",
         "rawType": "float64",
         "type": "float"
        },
        {
         "name": "sending",
         "rawType": "float64",
         "type": "float"
        },
        {
         "name": "sent",
         "rawType": "float64",
         "type": "float"
        },
        {
         "name": "service",
         "rawType": "float64",
         "type": "float"
        },
        {
         "name": "services",
         "rawType": "float64",
         "type": "float"
        },
        {
         "name": "set",
         "rawType": "float64",
         "type": "float"
        },
        {
         "name": "sex",
         "rawType": "float64",
         "type": "float"
        },
        {
         "name": "sexy",
         "rawType": "float64",
         "type": "float"
        },
        {
         "name": "shall",
         "rawType": "float64",
         "type": "float"
        },
        {
         "name": "she",
         "rawType": "float64",
         "type": "float"
        },
        {
         "name": "shit",
         "rawType": "float64",
         "type": "float"
        },
        {
         "name": "shop",
         "rawType": "float64",
         "type": "float"
        },
        {
         "name": "shopping",
         "rawType": "float64",
         "type": "float"
        },
        {
         "name": "should",
         "rawType": "float64",
         "type": "float"
        },
        {
         "name": "show",
         "rawType": "float64",
         "type": "float"
        },
        {
         "name": "shower",
         "rawType": "float64",
         "type": "float"
        },
        {
         "name": "shows",
         "rawType": "float64",
         "type": "float"
        },
        {
         "name": "side",
         "rawType": "float64",
         "type": "float"
        },
        {
         "name": "simple",
         "rawType": "float64",
         "type": "float"
        },
        {
         "name": "since",
         "rawType": "float64",
         "type": "float"
        },
        {
         "name": "sir",
         "rawType": "float64",
         "type": "float"
        },
        {
         "name": "sis",
         "rawType": "float64",
         "type": "float"
        },
        {
         "name": "sister",
         "rawType": "float64",
         "type": "float"
        },
        {
         "name": "sleep",
         "rawType": "float64",
         "type": "float"
        },
        {
         "name": "sleeping",
         "rawType": "float64",
         "type": "float"
        },
        {
         "name": "slow",
         "rawType": "float64",
         "type": "float"
        },
        {
         "name": "slowly",
         "rawType": "float64",
         "type": "float"
        },
        {
         "name": "small",
         "rawType": "float64",
         "type": "float"
        },
        {
         "name": "smile",
         "rawType": "float64",
         "type": "float"
        },
        {
         "name": "smiling",
         "rawType": "float64",
         "type": "float"
        },
        {
         "name": "smoke",
         "rawType": "float64",
         "type": "float"
        },
        {
         "name": "sms",
         "rawType": "float64",
         "type": "float"
        },
        {
         "name": "smth",
         "rawType": "float64",
         "type": "float"
        },
        {
         "name": "snow",
         "rawType": "float64",
         "type": "float"
        },
        {
         "name": "so",
         "rawType": "float64",
         "type": "float"
        },
        {
         "name": "some",
         "rawType": "float64",
         "type": "float"
        },
        {
         "name": "somebody",
         "rawType": "float64",
         "type": "float"
        },
        {
         "name": "someone",
         "rawType": "float64",
         "type": "float"
        },
        {
         "name": "something",
         "rawType": "float64",
         "type": "float"
        },
        {
         "name": "somewhere",
         "rawType": "float64",
         "type": "float"
        },
        {
         "name": "song",
         "rawType": "float64",
         "type": "float"
        },
        {
         "name": "sony",
         "rawType": "float64",
         "type": "float"
        },
        {
         "name": "soon",
         "rawType": "float64",
         "type": "float"
        },
        {
         "name": "sorry",
         "rawType": "float64",
         "type": "float"
        },
        {
         "name": "sort",
         "rawType": "float64",
         "type": "float"
        },
        {
         "name": "sound",
         "rawType": "float64",
         "type": "float"
        },
        {
         "name": "sounds",
         "rawType": "float64",
         "type": "float"
        },
        {
         "name": "speak",
         "rawType": "float64",
         "type": "float"
        },
        {
         "name": "special",
         "rawType": "float64",
         "type": "float"
        },
        {
         "name": "st",
         "rawType": "float64",
         "type": "float"
        },
        {
         "name": "start",
         "rawType": "float64",
         "type": "float"
        },
        {
         "name": "started",
         "rawType": "float64",
         "type": "float"
        },
        {
         "name": "statement",
         "rawType": "float64",
         "type": "float"
        },
        {
         "name": "stay",
         "rawType": "float64",
         "type": "float"
        },
        {
         "name": "std",
         "rawType": "float64",
         "type": "float"
        },
        {
         "name": "still",
         "rawType": "float64",
         "type": "float"
        },
        {
         "name": "stop",
         "rawType": "float64",
         "type": "float"
        },
        {
         "name": "store",
         "rawType": "float64",
         "type": "float"
        },
        {
         "name": "story",
         "rawType": "float64",
         "type": "float"
        },
        {
         "name": "stuff",
         "rawType": "float64",
         "type": "float"
        },
        {
         "name": "stupid",
         "rawType": "float64",
         "type": "float"
        },
        {
         "name": "sub",
         "rawType": "float64",
         "type": "float"
        },
        {
         "name": "suite342",
         "rawType": "float64",
         "type": "float"
        },
        {
         "name": "sun",
         "rawType": "float64",
         "type": "float"
        },
        {
         "name": "sunday",
         "rawType": "float64",
         "type": "float"
        },
        {
         "name": "support",
         "rawType": "float64",
         "type": "float"
        },
        {
         "name": "supposed",
         "rawType": "float64",
         "type": "float"
        },
        {
         "name": "sure",
         "rawType": "float64",
         "type": "float"
        },
        {
         "name": "surprise",
         "rawType": "float64",
         "type": "float"
        },
        {
         "name": "sweet",
         "rawType": "float64",
         "type": "float"
        },
        {
         "name": "swing",
         "rawType": "float64",
         "type": "float"
        },
        {
         "name": "take",
         "rawType": "float64",
         "type": "float"
        },
        {
         "name": "takes",
         "rawType": "float64",
         "type": "float"
        },
        {
         "name": "taking",
         "rawType": "float64",
         "type": "float"
        },
        {
         "name": "talk",
         "rawType": "float64",
         "type": "float"
        },
        {
         "name": "talking",
         "rawType": "float64",
         "type": "float"
        },
        {
         "name": "tc",
         "rawType": "float64",
         "type": "float"
        },
        {
         "name": "tel",
         "rawType": "float64",
         "type": "float"
        },
        {
         "name": "tell",
         "rawType": "float64",
         "type": "float"
        },
        {
         "name": "telling",
         "rawType": "float64",
         "type": "float"
        },
        {
         "name": "ten",
         "rawType": "float64",
         "type": "float"
        },
        {
         "name": "terms",
         "rawType": "float64",
         "type": "float"
        },
        {
         "name": "test",
         "rawType": "float64",
         "type": "float"
        },
        {
         "name": "text",
         "rawType": "float64",
         "type": "float"
        },
        {
         "name": "texts",
         "rawType": "float64",
         "type": "float"
        },
        {
         "name": "th",
         "rawType": "float64",
         "type": "float"
        },
        {
         "name": "than",
         "rawType": "float64",
         "type": "float"
        },
        {
         "name": "thank",
         "rawType": "float64",
         "type": "float"
        },
        {
         "name": "thanks",
         "rawType": "float64",
         "type": "float"
        },
        {
         "name": "thanx",
         "rawType": "float64",
         "type": "float"
        },
        {
         "name": "that",
         "rawType": "float64",
         "type": "float"
        },
        {
         "name": "thats",
         "rawType": "float64",
         "type": "float"
        },
        {
         "name": "the",
         "rawType": "float64",
         "type": "float"
        },
        {
         "name": "their",
         "rawType": "float64",
         "type": "float"
        },
        {
         "name": "them",
         "rawType": "float64",
         "type": "float"
        },
        {
         "name": "then",
         "rawType": "float64",
         "type": "float"
        },
        {
         "name": "there",
         "rawType": "float64",
         "type": "float"
        },
        {
         "name": "these",
         "rawType": "float64",
         "type": "float"
        },
        {
         "name": "they",
         "rawType": "float64",
         "type": "float"
        },
        {
         "name": "thing",
         "rawType": "float64",
         "type": "float"
        },
        {
         "name": "things",
         "rawType": "float64",
         "type": "float"
        },
        {
         "name": "think",
         "rawType": "float64",
         "type": "float"
        },
        {
         "name": "thinking",
         "rawType": "float64",
         "type": "float"
        },
        {
         "name": "thinks",
         "rawType": "float64",
         "type": "float"
        },
        {
         "name": "this",
         "rawType": "float64",
         "type": "float"
        },
        {
         "name": "thk",
         "rawType": "float64",
         "type": "float"
        },
        {
         "name": "tho",
         "rawType": "float64",
         "type": "float"
        },
        {
         "name": "those",
         "rawType": "float64",
         "type": "float"
        },
        {
         "name": "though",
         "rawType": "float64",
         "type": "float"
        },
        {
         "name": "thought",
         "rawType": "float64",
         "type": "float"
        },
        {
         "name": "through",
         "rawType": "float64",
         "type": "float"
        },
        {
         "name": "til",
         "rawType": "float64",
         "type": "float"
        },
        {
         "name": "till",
         "rawType": "float64",
         "type": "float"
        },
        {
         "name": "time",
         "rawType": "float64",
         "type": "float"
        },
        {
         "name": "times",
         "rawType": "float64",
         "type": "float"
        },
        {
         "name": "tired",
         "rawType": "float64",
         "type": "float"
        },
        {
         "name": "tmr",
         "rawType": "float64",
         "type": "float"
        },
        {
         "name": "to",
         "rawType": "float64",
         "type": "float"
        },
        {
         "name": "today",
         "rawType": "float64",
         "type": "float"
        },
        {
         "name": "todays",
         "rawType": "float64",
         "type": "float"
        },
        {
         "name": "together",
         "rawType": "float64",
         "type": "float"
        },
        {
         "name": "told",
         "rawType": "float64",
         "type": "float"
        },
        {
         "name": "tomo",
         "rawType": "float64",
         "type": "float"
        },
        {
         "name": "tomorrow",
         "rawType": "float64",
         "type": "float"
        },
        {
         "name": "tone",
         "rawType": "float64",
         "type": "float"
        },
        {
         "name": "tones",
         "rawType": "float64",
         "type": "float"
        },
        {
         "name": "tonight",
         "rawType": "float64",
         "type": "float"
        },
        {
         "name": "tonite",
         "rawType": "float64",
         "type": "float"
        },
        {
         "name": "too",
         "rawType": "float64",
         "type": "float"
        },
        {
         "name": "took",
         "rawType": "float64",
         "type": "float"
        },
        {
         "name": "top",
         "rawType": "float64",
         "type": "float"
        },
        {
         "name": "tot",
         "rawType": "float64",
         "type": "float"
        },
        {
         "name": "touch",
         "rawType": "float64",
         "type": "float"
        },
        {
         "name": "town",
         "rawType": "float64",
         "type": "float"
        },
        {
         "name": "treat",
         "rawType": "float64",
         "type": "float"
        },
        {
         "name": "tried",
         "rawType": "float64",
         "type": "float"
        },
        {
         "name": "trip",
         "rawType": "float64",
         "type": "float"
        },
        {
         "name": "true",
         "rawType": "float64",
         "type": "float"
        },
        {
         "name": "truth",
         "rawType": "float64",
         "type": "float"
        },
        {
         "name": "try",
         "rawType": "float64",
         "type": "float"
        },
        {
         "name": "trying",
         "rawType": "float64",
         "type": "float"
        },
        {
         "name": "ts",
         "rawType": "float64",
         "type": "float"
        },
        {
         "name": "tv",
         "rawType": "float64",
         "type": "float"
        },
        {
         "name": "two",
         "rawType": "float64",
         "type": "float"
        },
        {
         "name": "txt",
         "rawType": "float64",
         "type": "float"
        },
        {
         "name": "txting",
         "rawType": "float64",
         "type": "float"
        },
        {
         "name": "txts",
         "rawType": "float64",
         "type": "float"
        },
        {
         "name": "type",
         "rawType": "float64",
         "type": "float"
        },
        {
         "name": "ugh",
         "rawType": "float64",
         "type": "float"
        },
        {
         "name": "uk",
         "rawType": "float64",
         "type": "float"
        },
        {
         "name": "un",
         "rawType": "float64",
         "type": "float"
        },
        {
         "name": "uncle",
         "rawType": "float64",
         "type": "float"
        },
        {
         "name": "understand",
         "rawType": "float64",
         "type": "float"
        },
        {
         "name": "unlimited",
         "rawType": "float64",
         "type": "float"
        },
        {
         "name": "unsubscribe",
         "rawType": "float64",
         "type": "float"
        },
        {
         "name": "until",
         "rawType": "float64",
         "type": "float"
        },
        {
         "name": "up",
         "rawType": "float64",
         "type": "float"
        },
        {
         "name": "update",
         "rawType": "float64",
         "type": "float"
        },
        {
         "name": "ur",
         "rawType": "float64",
         "type": "float"
        },
        {
         "name": "urgent",
         "rawType": "float64",
         "type": "float"
        },
        {
         "name": "us",
         "rawType": "float64",
         "type": "float"
        },
        {
         "name": "use",
         "rawType": "float64",
         "type": "float"
        },
        {
         "name": "used",
         "rawType": "float64",
         "type": "float"
        },
        {
         "name": "usf",
         "rawType": "float64",
         "type": "float"
        },
        {
         "name": "valid",
         "rawType": "float64",
         "type": "float"
        },
        {
         "name": "valued",
         "rawType": "float64",
         "type": "float"
        },
        {
         "name": "ve",
         "rawType": "float64",
         "type": "float"
        },
        {
         "name": "very",
         "rawType": "float64",
         "type": "float"
        },
        {
         "name": "via",
         "rawType": "float64",
         "type": "float"
        },
        {
         "name": "video",
         "rawType": "float64",
         "type": "float"
        },
        {
         "name": "visit",
         "rawType": "float64",
         "type": "float"
        },
        {
         "name": "voucher",
         "rawType": "float64",
         "type": "float"
        },
        {
         "name": "vouchers",
         "rawType": "float64",
         "type": "float"
        },
        {
         "name": "w1j6hl",
         "rawType": "float64",
         "type": "float"
        },
        {
         "name": "wait",
         "rawType": "float64",
         "type": "float"
        },
        {
         "name": "waiting",
         "rawType": "float64",
         "type": "float"
        },
        {
         "name": "wake",
         "rawType": "float64",
         "type": "float"
        },
        {
         "name": "walk",
         "rawType": "float64",
         "type": "float"
        },
        {
         "name": "wan",
         "rawType": "float64",
         "type": "float"
        },
        {
         "name": "wana",
         "rawType": "float64",
         "type": "float"
        },
        {
         "name": "wanna",
         "rawType": "float64",
         "type": "float"
        },
        {
         "name": "want",
         "rawType": "float64",
         "type": "float"
        },
        {
         "name": "wanted",
         "rawType": "float64",
         "type": "float"
        },
        {
         "name": "wants",
         "rawType": "float64",
         "type": "float"
        },
        {
         "name": "wap",
         "rawType": "float64",
         "type": "float"
        },
        {
         "name": "warm",
         "rawType": "float64",
         "type": "float"
        },
        {
         "name": "was",
         "rawType": "float64",
         "type": "float"
        },
        {
         "name": "wasn",
         "rawType": "float64",
         "type": "float"
        },
        {
         "name": "wat",
         "rawType": "float64",
         "type": "float"
        },
        {
         "name": "watch",
         "rawType": "float64",
         "type": "float"
        },
        {
         "name": "watching",
         "rawType": "float64",
         "type": "float"
        },
        {
         "name": "water",
         "rawType": "float64",
         "type": "float"
        },
        {
         "name": "way",
         "rawType": "float64",
         "type": "float"
        },
        {
         "name": "we",
         "rawType": "float64",
         "type": "float"
        },
        {
         "name": "week",
         "rawType": "float64",
         "type": "float"
        },
        {
         "name": "weekend",
         "rawType": "float64",
         "type": "float"
        },
        {
         "name": "weekly",
         "rawType": "float64",
         "type": "float"
        },
        {
         "name": "weeks",
         "rawType": "float64",
         "type": "float"
        },
        {
         "name": "welcome",
         "rawType": "float64",
         "type": "float"
        },
        {
         "name": "well",
         "rawType": "float64",
         "type": "float"
        },
        {
         "name": "wen",
         "rawType": "float64",
         "type": "float"
        },
        {
         "name": "went",
         "rawType": "float64",
         "type": "float"
        },
        {
         "name": "were",
         "rawType": "float64",
         "type": "float"
        },
        {
         "name": "what",
         "rawType": "float64",
         "type": "float"
        },
        {
         "name": "whatever",
         "rawType": "float64",
         "type": "float"
        },
        {
         "name": "whats",
         "rawType": "float64",
         "type": "float"
        },
        {
         "name": "when",
         "rawType": "float64",
         "type": "float"
        },
        {
         "name": "whenever",
         "rawType": "float64",
         "type": "float"
        },
        {
         "name": "where",
         "rawType": "float64",
         "type": "float"
        },
        {
         "name": "which",
         "rawType": "float64",
         "type": "float"
        },
        {
         "name": "while",
         "rawType": "float64",
         "type": "float"
        },
        {
         "name": "who",
         "rawType": "float64",
         "type": "float"
        },
        {
         "name": "whole",
         "rawType": "float64",
         "type": "float"
        },
        {
         "name": "why",
         "rawType": "float64",
         "type": "float"
        },
        {
         "name": "wid",
         "rawType": "float64",
         "type": "float"
        },
        {
         "name": "wif",
         "rawType": "float64",
         "type": "float"
        },
        {
         "name": "wife",
         "rawType": "float64",
         "type": "float"
        },
        {
         "name": "wil",
         "rawType": "float64",
         "type": "float"
        },
        {
         "name": "will",
         "rawType": "float64",
         "type": "float"
        },
        {
         "name": "win",
         "rawType": "float64",
         "type": "float"
        },
        {
         "name": "wine",
         "rawType": "float64",
         "type": "float"
        },
        {
         "name": "winner",
         "rawType": "float64",
         "type": "float"
        },
        {
         "name": "wish",
         "rawType": "float64",
         "type": "float"
        },
        {
         "name": "wit",
         "rawType": "float64",
         "type": "float"
        },
        {
         "name": "with",
         "rawType": "float64",
         "type": "float"
        },
        {
         "name": "within",
         "rawType": "float64",
         "type": "float"
        },
        {
         "name": "without",
         "rawType": "float64",
         "type": "float"
        },
        {
         "name": "wk",
         "rawType": "float64",
         "type": "float"
        },
        {
         "name": "wkly",
         "rawType": "float64",
         "type": "float"
        },
        {
         "name": "won",
         "rawType": "float64",
         "type": "float"
        },
        {
         "name": "wonder",
         "rawType": "float64",
         "type": "float"
        },
        {
         "name": "wonderful",
         "rawType": "float64",
         "type": "float"
        },
        {
         "name": "wont",
         "rawType": "float64",
         "type": "float"
        },
        {
         "name": "word",
         "rawType": "float64",
         "type": "float"
        },
        {
         "name": "words",
         "rawType": "float64",
         "type": "float"
        },
        {
         "name": "work",
         "rawType": "float64",
         "type": "float"
        },
        {
         "name": "working",
         "rawType": "float64",
         "type": "float"
        },
        {
         "name": "world",
         "rawType": "float64",
         "type": "float"
        },
        {
         "name": "worried",
         "rawType": "float64",
         "type": "float"
        },
        {
         "name": "worry",
         "rawType": "float64",
         "type": "float"
        },
        {
         "name": "worth",
         "rawType": "float64",
         "type": "float"
        },
        {
         "name": "wot",
         "rawType": "float64",
         "type": "float"
        },
        {
         "name": "would",
         "rawType": "float64",
         "type": "float"
        },
        {
         "name": "wow",
         "rawType": "float64",
         "type": "float"
        },
        {
         "name": "write",
         "rawType": "float64",
         "type": "float"
        },
        {
         "name": "wrong",
         "rawType": "float64",
         "type": "float"
        },
        {
         "name": "www",
         "rawType": "float64",
         "type": "float"
        },
        {
         "name": "xmas",
         "rawType": "float64",
         "type": "float"
        },
        {
         "name": "xx",
         "rawType": "float64",
         "type": "float"
        },
        {
         "name": "xxx",
         "rawType": "float64",
         "type": "float"
        },
        {
         "name": "ya",
         "rawType": "float64",
         "type": "float"
        },
        {
         "name": "yar",
         "rawType": "float64",
         "type": "float"
        },
        {
         "name": "yeah",
         "rawType": "float64",
         "type": "float"
        },
        {
         "name": "year",
         "rawType": "float64",
         "type": "float"
        },
        {
         "name": "years",
         "rawType": "float64",
         "type": "float"
        },
        {
         "name": "yep",
         "rawType": "float64",
         "type": "float"
        },
        {
         "name": "yes",
         "rawType": "float64",
         "type": "float"
        },
        {
         "name": "yesterday",
         "rawType": "float64",
         "type": "float"
        },
        {
         "name": "yet",
         "rawType": "float64",
         "type": "float"
        },
        {
         "name": "yo",
         "rawType": "float64",
         "type": "float"
        },
        {
         "name": "you",
         "rawType": "float64",
         "type": "float"
        },
        {
         "name": "your",
         "rawType": "float64",
         "type": "float"
        },
        {
         "name": "yours",
         "rawType": "float64",
         "type": "float"
        },
        {
         "name": "yourself",
         "rawType": "float64",
         "type": "float"
        },
        {
         "name": "yr",
         "rawType": "float64",
         "type": "float"
        },
        {
         "name": "yup",
         "rawType": "float64",
         "type": "float"
        }
       ],
       "ref": "29ac8795-555c-476f-8e15-d71f110a6b60",
       "rows": [
        [
         "0",
         "0.0",
         "0.0",
         "0.0",
         "0.0",
         "0.0",
         "0.0",
         "0.0",
         "0.0",
         "0.0",
         "0.0",
         "0.0",
         "0.0",
         "0.0",
         "0.0",
         "0.0",
         "0.0",
         "0.0",
         "0.0",
         "0.0",
         "0.0",
         "0.0",
         "0.0",
         "0.0",
         "0.0",
         "0.0",
         "0.0",
         "0.0",
         "0.0",
         "0.0",
         "0.0",
         "0.0",
         "0.0",
         "0.0",
         "0.0",
         "0.0",
         "0.0",
         "0.0",
         "0.0",
         "0.0",
         "0.0",
         "0.0",
         "0.0",
         "0.0",
         "0.0",
         "0.0",
         "0.0",
         "0.0",
         "0.0",
         "0.0",
         "0.0",
         "0.0",
         "0.0",
         "0.0",
         "0.0",
         "0.0",
         "0.0",
         "0.0",
         "0.0",
         "0.0",
         "0.0",
         "0.0",
         "0.0",
         "0.0",
         "0.0",
         "0.0",
         "0.0",
         "0.0",
         "0.0",
         "0.0",
         "0.0",
         "0.0",
         "0.0",
         "0.0",
         "0.0",
         "0.0",
         "0.0",
         "0.0",
         "0.0",
         "0.0",
         "0.0",
         "0.0",
         "0.0",
         "0.0",
         "0.0",
         "0.0",
         "0.0",
         "0.0",
         "0.0",
         "0.0",
         "0.3593422657169619",
         "0.0",
         "0.0",
         "0.0",
         "0.0",
         "0.0",
         "0.0",
         "0.0",
         "0.0",
         "0.0",
         "0.0",
         "0.0",
         "0.0",
         "0.0",
         "0.0",
         "0.0",
         "0.0",
         "0.0",
         "0.0",
         "0.0",
         "0.0",
         "0.0",
         "0.0",
         "0.0",
         "0.0",
         "0.0",
         "0.0",
         "0.0",
         "0.0",
         "0.0",
         "0.0",
         "0.0",
         "0.0",
         "0.0",
         "0.0",
         "0.0",
         "0.0",
         "0.0",
         "0.0",
         "0.0",
         "0.0",
         "0.0",
         "0.0",
         "0.0",
         "0.0",
         "0.0",
         "0.0",
         "0.0",
         "0.0",
         "0.0",
         "0.0",
         "0.0",
         "0.0",
         "0.0",
         "0.0",
         "0.0",
         "0.0",
         "0.0",
         "0.0",
         "0.0",
         "0.0",
         "0.0",
         "0.0",
         "0.0",
         "0.0",
         "0.0",
         "0.0",
         "0.0",
         "0.0",
         "0.0",
         "0.0",
         "0.0",
         "0.0",
         "0.0",
         "0.0",
         "0.0",
         "0.0",
         "0.0",
         "0.0",
         "0.0",
         "0.0",
         "0.0",
         "0.0",
         "0.0",
         "0.0",
         "0.0",
         "0.0",
         "0.0",
         "0.0",
         "0.0",
         "0.0",
         "0.0",
         "0.0",
         "0.0",
         "0.0",
         "0.0",
         "0.0",
         "0.0",
         "0.0",
         "0.0",
         "0.0",
         "0.0",
         "0.0",
         "0.0",
         "0.0",
         "0.0",
         "0.0",
         "0.0",
         "0.0",
         "0.0",
         "0.0",
         "0.0",
         "0.0",
         "0.0",
         "0.37205612637710794",
         "0.0",
         "0.0",
         "0.0",
         "0.0",
         "0.0",
         "0.0",
         "0.0",
         "0.0",
         "0.0",
         "0.0",
         "0.0",
         "0.0",
         "0.0",
         "0.0",
         "0.0",
         "0.0",
         "0.0",
         "0.0",
         "0.0",
         "0.0",
         "0.0",
         "0.0",
         "0.0",
         "0.0",
         "0.0",
         "0.0",
         "0.0",
         "0.0",
         "0.0",
         "0.0",
         "0.0",
         "0.0",
         "0.0",
         "0.0",
         "0.0",
         "0.0",
         "0.0",
         "0.0",
         "0.0",
         "0.0",
         "0.0",
         "0.0",
         "0.0",
         "0.0",
         "0.0",
         "0.0",
         "0.0",
         "0.0",
         "0.0",
         "0.0",
         "0.0",
         "0.0",
         "0.0",
         "0.0",
         "0.0",
         "0.0",
         "0.0",
         "0.0",
         "0.0",
         "0.0",
         "0.0",
         "0.0",
         "0.0",
         "0.0",
         "0.0",
         "0.0",
         "0.0",
         "0.0",
         "0.0",
         "0.0",
         "0.0",
         "0.0",
         "0.0",
         "0.0",
         "0.0",
         "0.0",
         "0.0",
         "0.0",
         "0.0",
         "0.0",
         "0.0",
         "0.0",
         "0.0",
         "0.0",
         "0.0",
         "0.0",
         "0.0",
         "0.0",
         "0.0",
         "0.0",
         "0.0",
         "0.0",
         "0.0",
         "0.0",
         "0.0",
         "0.0",
         "0.0",
         "0.0",
         "0.0",
         "0.0",
         "0.0",
         "0.0",
         "0.0",
         "0.0",
         "0.0",
         "0.0",
         "0.0",
         "0.0",
         "0.0",
         "0.0",
         "0.0",
         "0.0",
         "0.0",
         "0.0",
         "0.0",
         "0.0",
         "0.0",
         "0.0",
         "0.0",
         "0.0",
         "0.0",
         "0.0",
         "0.0",
         "0.0",
         "0.0",
         "0.0",
         "0.0",
         "0.0",
         "0.0",
         "0.0",
         "0.0",
         "0.0",
         "0.0",
         "0.0",
         "0.0",
         "0.0",
         "0.0",
         "0.0",
         "0.0",
         "0.0",
         "0.0",
         "0.0",
         "0.2180140549950605",
         "0.0",
         "0.0",
         "0.0",
         "0.0",
         "0.0",
         "0.0",
         "0.0",
         "0.0",
         "0.2254594402507964",
         "0.0",
         "0.0",
         "0.26538705954607905",
         "0.0",
         "0.0",
         "0.0",
         "0.0",
         "0.0",
         "0.0",
         "0.0",
         "0.0",
         "0.0",
         "0.0",
         "0.0",
         "0.0",
         "0.0",
         "0.0",
         "0.0",
         "0.0",
         "0.0",
         "0.0",
         "0.0",
         "0.0",
         "0.0",
         "0.0",
         "0.0",
         "0.0",
         "0.0",
         "0.0",
         "0.0",
         "0.0",
         "0.0",
         "0.0",
         "0.0",
         "0.0",
         "0.0",
         "0.0",
         "0.0",
         "0.0",
         "0.0",
         "0.0",
         "0.0",
         "0.0",
         "0.0",
         "0.0",
         "0.0",
         "0.0",
         "0.0",
         "0.0",
         "0.0",
         "0.0",
         "0.0",
         "0.0",
         "0.0",
         "0.0",
         "0.0",
         "0.0",
         "0.0",
         "0.0",
         "0.0",
         "0.0",
         "0.0",
         "0.0",
         "0.0",
         "0.0",
         "0.0",
         "0.0",
         "0.0",
         "0.0",
         "0.0",
         "0.15778010310073634",
         "0.0",
         "0.0",
         "0.0",
         "0.0",
         "0.0",
         "0.0",
         "0.0",
         "0.0",
         "0.0",
         "0.0",
         "0.0",
         "0.0",
         "0.0",
         "0.0",
         "0.0",
         "0.0",
         "0.0",
         "0.0",
         "0.0",
         "0.0",
         "0.0",
         "0.0",
         "0.0",
         "0.0",
         "0.0",
         "0.0",
         "0.0",
         "0.0",
         "0.0",
         "0.0",
         "0.0",
         "0.0",
         "0.0",
         "0.0",
         "0.0",
         "0.0",
         "0.0",
         "0.0",
         "0.0",
         "0.0",
         "0.0",
         "0.0",
         "0.0",
         "0.0",
         "0.0",
         "0.0",
         "0.0",
         "0.0",
         "0.0",
         "0.0",
         "0.0",
         "0.0",
         "0.0",
         "0.0",
         "0.0",
         "0.0",
         "0.0",
         "0.0",
         "0.0",
         "0.0",
         "0.0",
         "0.0",
         "0.0",
         "0.0",
         "0.0",
         "0.0",
         "0.0",
         "0.0",
         "0.0",
         "0.0",
         "0.0",
         "0.0",
         "0.0",
         "0.0",
         "0.0",
         "0.0",
         "0.0",
         "0.0",
         "0.0",
         "0.0",
         "0.0",
         "0.0",
         "0.0",
         "0.0",
         "0.0",
         "0.0",
         "0.0",
         "0.0",
         "0.0",
         "0.0",
         "0.0",
         "0.0",
         "0.0",
         "0.0",
         "0.0",
         "0.0",
         "0.0",
         "0.0",
         "0.0",
         "0.0",
         "0.0",
         "0.0",
         "0.0",
         "0.0",
         "0.0",
         "0.0",
         "0.0",
         "0.0",
         "0.0",
         "0.0",
         "0.0",
         "0.0",
         "0.0",
         "0.0",
         "0.0",
         "0.0",
         "0.0",
         "0.0",
         "0.0",
         "0.0",
         "0.0",
         "0.0",
         "0.0",
         "0.0",
         "0.0",
         "0.0",
         "0.0",
         "0.0",
         "0.0",
         "0.0",
         "0.0",
         "0.0",
         "0.0",
         "0.0",
         "0.0",
         "0.0",
         "0.0",
         "0.0",
         "0.0",
         "0.0",
         "0.0",
         "0.0",
         "0.0",
         "0.0",
         "0.0",
         "0.0",
         "0.0",
         "0.0",
         "0.0",
         "0.0",
         "0.0",
         "0.0",
         "0.0",
         "0.0",
         "0.0",
         "0.0",
         "0.0",
         "0.0",
         "0.0",
         "0.0",
         "0.0",
         "0.0",
         "0.0",
         "0.0",
         "0.0",
         "0.0",
         "0.0",
         "0.0",
         "0.0",
         "0.0",
         "0.0",
         "0.0",
         "0.0",
         "0.0",
         "0.0",
         "0.0",
         "0.0",
         "0.0",
         "0.0",
         "0.0",
         "0.0",
         "0.0",
         "0.2298623812270867",
         "0.0",
         "0.0",
         "0.0",
         "0.0",
         "0.0",
         "0.0",
         "0.0",
         "0.0",
         "0.0",
         "0.0",
         "0.0",
         "0.0",
         "0.0",
         "0.0",
         "0.0",
         "0.0",
         "0.0",
         "0.0",
         "0.0",
         "0.0",
         "0.0",
         "0.0",
         "0.0",
         "0.0",
         "0.0",
         "0.0",
         "0.0",
         "0.0",
         "0.0",
         "0.0",
         "0.0",
         "0.0",
         "0.0",
         "0.0",
         "0.0",
         "0.0",
         "0.0",
         "0.0",
         "0.0",
         "0.0",
         "0.0",
         "0.0",
         "0.0",
         "0.0",
         "0.0",
         "0.0",
         "0.0",
         "0.37576681756055375",
         "0.0",
         "0.0",
         "0.0",
         "0.0",
         "0.0",
         "0.0",
         "0.0",
         "0.0",
         "0.0",
         "0.0",
         "0.0",
         "0.0",
         "0.0",
         "0.0",
         "0.0",
         "0.0",
         "0.0",
         "0.0",
         "0.0",
         "0.0",
         "0.0",
         "0.0",
         "0.0",
         "0.0",
         "0.0",
         "0.0",
         "0.0",
         "0.0",
         "0.0",
         "0.0",
         "0.0",
         "0.0",
         "0.0",
         "0.0",
         "0.0",
         "0.0",
         "0.0",
         "0.0",
         "0.0",
         "0.0",
         "0.0",
         "0.0",
         "0.0",
         "0.0",
         "0.0",
         "0.0",
         "0.0",
         "0.0",
         "0.0",
         "0.0",
         "0.0",
         "0.0",
         "0.0",
         "0.0",
         "0.0",
         "0.0",
         "0.0",
         "0.0",
         "0.0",
         "0.0",
         "0.0",
         "0.0",
         "0.0",
         "0.0",
         "0.0",
         "0.0",
         "0.0",
         "0.0",
         "0.0",
         "0.0",
         "0.0",
         "0.0",
         "0.0",
         "0.0",
         "0.0",
         "0.0",
         "0.0",
         "0.0",
         "0.0",
         "0.0",
         "0.0",
         "0.0",
         "0.0",
         "0.0",
         "0.0",
         "0.0",
         "0.0",
         "0.0",
         "0.0",
         "0.0",
         "0.0",
         "0.0",
         "0.0",
         "0.0",
         "0.0",
         "0.0",
         "0.0",
         "0.0",
         "0.0",
         "0.0",
         "0.0",
         "0.0",
         "0.0",
         "0.0",
         "0.0",
         "0.0",
         "0.0",
         "0.0",
         "0.0",
         "0.0",
         "0.0",
         "0.0",
         "0.0",
         "0.0",
         "0.0",
         "0.0",
         "0.0",
         "0.0",
         "0.0",
         "0.0",
         "0.0",
         "0.0",
         "0.0",
         "0.0",
         "0.0",
         "0.0",
         "0.0",
         "0.0",
         "0.0",
         "0.0",
         "0.0",
         "0.0",
         "0.0",
         "0.0",
         "0.0",
         "0.0",
         "0.0",
         "0.0",
         "0.0",
         "0.0",
         "0.0",
         "0.0",
         "0.0",
         "0.0",
         "0.0",
         "0.0",
         "0.0",
         "0.0",
         "0.0",
         "0.0",
         "0.0",
         "0.0",
         "0.0",
         "0.0",
         "0.0",
         "0.0",
         "0.0",
         "0.0",
         "0.0",
         "0.0",
         "0.0",
         "0.0",
         "0.0",
         "0.0",
         "0.0",
         "0.0",
         "0.0",
         "0.0",
         "0.0",
         "0.0",
         "0.0",
         "0.0",
         "0.22910306946846853",
         "0.0",
         "0.0",
         "0.0",
         "0.0",
         "0.0",
         "0.0",
         "0.0",
         "0.0",
         "0.0",
         "0.0",
         "0.0",
         "0.0",
         "0.0",
         "0.0",
         "0.0",
         "0.0",
         "0.0",
         "0.0",
         "0.0",
         "0.0",
         "0.0",
         "0.0",
         "0.0",
         "0.0",
         "0.0",
         "0.0",
         "0.0",
         "0.0",
         "0.0",
         "0.0",
         "0.0",
         "0.0",
         "0.0",
         "0.0",
         "0.0",
         "0.0",
         "0.0",
         "0.0",
         "0.0",
         "0.0",
         "0.0",
         "0.0",
         "0.0",
         "0.0",
         "0.0",
         "0.0",
         "0.0",
         "0.0",
         "0.0",
         "0.0",
         "0.0",
         "0.0",
         "0.0",
         "0.0",
         "0.0",
         "0.0",
         "0.0",
         "0.0",
         "0.3384868047664703",
         "0.0",
         "0.0",
         "0.0",
         "0.0",
         "0.0",
         "0.0",
         "0.0",
         "0.0",
         "0.0",
         "0.0",
         "0.0",
         "0.0",
         "0.0",
         "0.0",
         "0.0",
         "0.0",
         "0.0",
         "0.0",
         "0.0",
         "0.0",
         "0.0",
         "0.0",
         "0.0",
         "0.0",
         "0.0",
         "0.0",
         "0.0",
         "0.0",
         "0.0",
         "0.0",
         "0.0",
         "0.0",
         "0.2684322325654418",
         "0.0",
         "0.0",
         "0.0",
         "0.0",
         "0.0",
         "0.0",
         "0.0",
         "0.0",
         "0.0",
         "0.0",
         "0.0",
         "0.0",
         "0.0",
         "0.0",
         "0.0",
         "0.0",
         "0.0",
         "0.0",
         "0.0",
         "0.0",
         "0.0",
         "0.0",
         "0.0",
         "0.0",
         "0.0",
         "0.0",
         "0.0",
         "0.0",
         "0.0",
         "0.0",
         "0.0",
         "0.0",
         "0.0",
         "0.0",
         "0.0",
         "0.0",
         "0.0",
         "0.0",
         "0.0",
         "0.0",
         "0.0",
         "0.0",
         "0.0",
         "0.0",
         "0.0",
         "0.0",
         "0.0",
         "0.0",
         "0.3249701875682565",
         "0.0",
         "0.0",
         "0.0",
         "0.0",
         "0.0",
         "0.0",
         "0.0",
         "0.0",
         "0.0",
         "0.0",
         "0.0",
         "0.0",
         "0.0",
         "0.0",
         "0.0",
         "0.0",
         "0.0",
         "0.0",
         "0.0",
         "0.0",
         "0.0",
         "0.0",
         "0.0",
         "0.0",
         "0.0",
         "0.0",
         "0.0",
         "0.0"
        ],
        [
         "1",
         "0.0",
         "0.0",
         "0.0",
         "0.0",
         "0.0",
         "0.0",
         "0.0",
         "0.0",
         "0.0",
         "0.0",
         "0.0",
         "0.0",
         "0.0",
         "0.0",
         "0.0",
         "0.0",
         "0.0",
         "0.0",
         "0.0",
         "0.0",
         "0.0",
         "0.0",
         "0.0",
         "0.0",
         "0.0",
         "0.0",
         "0.0",
         "0.0",
         "0.0",
         "0.0",
         "0.0",
         "0.0",
         "0.0",
         "0.0",
         "0.0",
         "0.0",
         "0.0",
         "0.0",
         "0.0",
         "0.0",
         "0.0",
         "0.0",
         "0.0",
         "0.0",
         "0.0",
         "0.0",
         "0.0",
         "0.0",
         "0.0",
         "0.0",
         "0.0",
         "0.0",
         "0.0",
         "0.0",
         "0.0",
         "0.0",
         "0.0",
         "0.0",
         "0.0",
         "0.0",
         "0.0",
         "0.0",
         "0.0",
         "0.0",
         "0.0",
         "0.0",
         "0.0",
         "0.0",
         "0.0",
         "0.0",
         "0.0",
         "0.0",
         "0.0",
         "0.0",
         "0.0",
         "0.0",
         "0.0",
         "0.0",
         "0.0",
         "0.0",
         "0.0",
         "0.0",
         "0.0",
         "0.0",
         "0.0",
         "0.0",
         "0.0",
         "0.0",
         "0.0",
         "0.0",
         "0.0",
         "0.0",
         "0.0",
         "0.0",
         "0.0",
         "0.0",
         "0.0",
         "0.0",
         "0.0",
         "0.0",
         "0.0",
         "0.0",
         "0.0",
         "0.0",
         "0.0",
         "0.0",
         "0.0",
         "0.0",
         "0.0",
         "0.0",
         "0.0",
         "0.0",
         "0.0",
         "0.0",
         "0.0",
         "0.0",
         "0.0",
         "0.0",
         "0.0",
         "0.0",
         "0.0",
         "0.0",
         "0.0",
         "0.0",
         "0.0",
         "0.0",
         "0.0",
         "0.0",
         "0.0",
         "0.0",
         "0.0",
         "0.0",
         "0.0",
         "0.0",
         "0.0",
         "0.0",
         "0.0",
         "0.0",
         "0.0",
         "0.0",
         "0.0",
         "0.0",
         "0.0",
         "0.0",
         "0.0",
         "0.0",
         "0.0",
         "0.0",
         "0.0",
         "0.0",
         "0.0",
         "0.0",
         "0.0",
         "0.0",
         "0.0",
         "0.0",
         "0.0",
         "0.0",
         "0.0",
         "0.0",
         "0.0",
         "0.0",
         "0.0",
         "0.0",
         "0.0",
         "0.0",
         "0.0",
         "0.0",
         "0.0",
         "0.0",
         "0.0",
         "0.0",
         "0.0",
         "0.0",
         "0.0",
         "0.0",
         "0.0",
         "0.0",
         "0.0",
         "0.0",
         "0.0",
         "0.0",
         "0.0",
         "0.0",
         "0.0",
         "0.0",
         "0.0",
         "0.0",
         "0.0",
         "0.0",
         "0.0",
         "0.0",
         "0.0",
         "0.0",
         "0.0",
         "0.0",
         "0.0",
         "0.0",
         "0.0",
         "0.0",
         "0.0",
         "0.0",
         "0.0",
         "0.0",
         "0.0",
         "0.0",
         "0.0",
         "0.0",
         "0.0",
         "0.0",
         "0.0",
         "0.0",
         "0.0",
         "0.0",
         "0.0",
         "0.0",
         "0.0",
         "0.0",
         "0.0",
         "0.0",
         "0.0",
         "0.0",
         "0.0",
         "0.0",
         "0.0",
         "0.0",
         "0.0",
         "0.0",
         "0.0",
         "0.0",
         "0.0",
         "0.0",
         "0.0",
         "0.0",
         "0.0",
         "0.0",
         "0.0",
         "0.0",
         "0.0",
         "0.0",
         "0.0",
         "0.0",
         "0.0",
         "0.0",
         "0.0",
         "0.0",
         "0.0",
         "0.0",
         "0.0",
         "0.0",
         "0.0",
         "0.0",
         "0.0",
         "0.0",
         "0.0",
         "0.0",
         "0.0",
         "0.0",
         "0.0",
         "0.0",
         "0.0",
         "0.0",
         "0.0",
         "0.0",
         "0.0",
         "0.0",
         "0.0",
         "0.0",
         "0.0",
         "0.0",
         "0.0",
         "0.0",
         "0.0",
         "0.0",
         "0.0",
         "0.0",
         "0.0",
         "0.0",
         "0.0",
         "0.0",
         "0.0",
         "0.0",
         "0.0",
         "0.0",
         "0.0",
         "0.0",
         "0.0",
         "0.0",
         "0.0",
         "0.0",
         "0.0",
         "0.0",
         "0.0",
         "0.0",
         "0.0",
         "0.0",
         "0.0",
         "0.0",
         "0.0",
         "0.0",
         "0.0",
         "0.0",
         "0.0",
         "0.0",
         "0.0",
         "0.0",
         "0.0",
         "0.0",
         "0.0",
         "0.0",
         "0.0",
         "0.0",
         "0.0",
         "0.0",
         "0.0",
         "0.0",
         "0.0",
         "0.0",
         "0.0",
         "0.0",
         "0.0",
         "0.0",
         "0.0",
         "0.0",
         "0.0",
         "0.0",
         "0.0",
         "0.0",
         "0.0",
         "0.0",
         "0.0",
         "0.0",
         "0.0",
         "0.0",
         "0.0",
         "0.0",
         "0.0",
         "0.0",
         "0.0",
         "0.0",
         "0.0",
         "0.0",
         "0.0",
         "0.0",
         "0.0",
         "0.0",
         "0.0",
         "0.0",
         "0.0",
         "0.0",
         "0.0",
         "0.0",
         "0.0",
         "0.0",
         "0.0",
         "0.0",
         "0.0",
         "0.0",
         "0.0",
         "0.0",
         "0.0",
         "0.0",
         "0.0",
         "0.0",
         "0.0",
         "0.0",
         "0.0",
         "0.0",
         "0.0",
         "0.0",
         "0.0",
         "0.0",
         "0.0",
         "0.0",
         "0.0",
         "0.0",
         "0.0",
         "0.0",
         "0.0",
         "0.0",
         "0.0",
         "0.0",
         "0.0",
         "0.0",
         "0.0",
         "0.0",
         "0.0",
         "0.0",
         "0.0",
         "0.0",
         "0.0",
         "0.0",
         "0.0",
         "0.0",
         "0.0",
         "0.0",
         "0.0",
         "0.0",
         "0.0",
         "0.0",
         "0.0",
         "0.0",
         "0.0",
         "0.0",
         "0.0",
         "0.0",
         "0.0",
         "0.0",
         "0.0",
         "0.0",
         "0.0",
         "0.0",
         "0.0",
         "0.0",
         "0.0",
         "0.0",
         "0.0",
         "0.0",
         "0.0",
         "0.0",
         "0.0",
         "0.0",
         "0.0",
         "0.0",
         "0.0",
         "0.0",
         "0.0",
         "0.0",
         "0.0",
         "0.0",
         "0.0",
         "0.0",
         "0.0",
         "0.0",
         "0.0",
         "0.0",
         "0.0",
         "0.0",
         "0.0",
         "0.0",
         "0.0",
         "0.0",
         "0.0",
         "0.0",
         "0.0",
         "0.0",
         "0.0",
         "0.0",
         "0.0",
         "0.0",
         "0.0",
         "0.0",
         "0.0",
         "0.0",
         "0.0",
         "0.0",
         "0.6248067249943752",
         "0.0",
         "0.0",
         "0.0",
         "0.0",
         "0.0",
         "0.0",
         "0.0",
         "0.0",
         "0.0",
         "0.0",
         "0.0",
         "0.0",
         "0.0",
         "0.0",
         "0.0",
         "0.0",
         "0.0",
         "0.0",
         "0.0",
         "0.0",
         "0.0",
         "0.0",
         "0.0",
         "0.0",
         "0.0",
         "0.0",
         "0.0",
         "0.0",
         "0.0",
         "0.0",
         "0.0",
         "0.0",
         "0.0",
         "0.0",
         "0.0",
         "0.0",
         "0.0",
         "0.0",
         "0.0",
         "0.0",
         "0.0",
         "0.0",
         "0.0",
         "0.0",
         "0.0",
         "0.0",
         "0.0",
         "0.0",
         "0.0",
         "0.0",
         "0.0",
         "0.0",
         "0.0",
         "0.0",
         "0.0",
         "0.0",
         "0.0",
         "0.0",
         "0.0",
         "0.0",
         "0.0",
         "0.0",
         "0.0",
         "0.0",
         "0.0",
         "0.0",
         "0.0",
         "0.0",
         "0.0",
         "0.0",
         "0.0",
         "0.0",
         "0.0",
         "0.0",
         "0.0",
         "0.0",
         "0.0",
         "0.0",
         "0.0",
         "0.0",
         "0.0",
         "0.0",
         "0.0",
         "0.0",
         "0.0",
         "0.0",
         "0.0",
         "0.0",
         "0.0",
         "0.0",
         "0.0",
         "0.0",
         "0.0",
         "0.0",
         "0.0",
         "0.0",
         "0.0",
         "0.0",
         "0.0",
         "0.0",
         "0.0",
         "0.0",
         "0.0",
         "0.0",
         "0.0",
         "0.0",
         "0.0",
         "0.0",
         "0.0",
         "0.0",
         "0.0",
         "0.0",
         "0.0",
         "0.0",
         "0.0",
         "0.0",
         "0.0",
         "0.0",
         "0.0",
         "0.0",
         "0.0",
         "0.0",
         "0.0",
         "0.0",
         "0.0",
         "0.0",
         "0.0",
         "0.0",
         "0.0",
         "0.0",
         "0.0",
         "0.0",
         "0.0",
         "0.0",
         "0.0",
         "0.0",
         "0.0",
         "0.0",
         "0.0",
         "0.0",
         "0.0",
         "0.0",
         "0.0",
         "0.0",
         "0.4164158171894947",
         "0.0",
         "0.0",
         "0.0",
         "0.0",
         "0.0",
         "0.0",
         "0.0",
         "0.0",
         "0.0",
         "0.0",
         "0.0",
         "0.0",
         "0.0",
         "0.0",
         "0.0",
         "0.0",
         "0.0",
         "0.0",
         "0.0",
         "0.0",
         "0.0",
         "0.0",
         "0.0",
         "0.0",
         "0.0",
         "0.0",
         "0.0",
         "0.0",
         "0.0",
         "0.0",
         "0.0",
         "0.0",
         "0.0",
         "0.0",
         "0.0",
         "0.0",
         "0.0",
         "0.0",
         "0.0",
         "0.0",
         "0.0",
         "0.0",
         "0.0",
         "0.0",
         "0.0",
         "0.0",
         "0.0",
         "0.0",
         "0.0",
         "0.0",
         "0.0",
         "0.0",
         "0.0",
         "0.0",
         "0.0",
         "0.0",
         "0.0",
         "0.0",
         "0.0",
         "0.0",
         "0.0",
         "0.0",
         "0.0",
         "0.0",
         "0.0",
         "0.0",
         "0.0",
         "0.0",
         "0.0",
         "0.0",
         "0.0",
         "0.0",
         "0.0",
         "0.0",
         "0.0",
         "0.0",
         "0.0",
         "0.0",
         "0.0",
         "0.0",
         "0.0",
         "0.0",
         "0.0",
         "0.0",
         "0.0",
         "0.0",
         "0.0",
         "0.0",
         "0.0",
         "0.0",
         "0.0",
         "0.0",
         "0.0",
         "0.0",
         "0.0",
         "0.0",
         "0.0",
         "0.0",
         "0.0",
         "0.0",
         "0.0",
         "0.0",
         "0.0",
         "0.0",
         "0.0",
         "0.0",
         "0.0",
         "0.0",
         "0.0",
         "0.0",
         "0.0",
         "0.0",
         "0.0",
         "0.0",
         "0.0",
         "0.0",
         "0.0",
         "0.0",
         "0.0",
         "0.0",
         "0.0",
         "0.0",
         "0.0",
         "0.0",
         "0.0",
         "0.0",
         "0.0",
         "0.0",
         "0.0",
         "0.0",
         "0.0",
         "0.0",
         "0.0",
         "0.0",
         "0.0",
         "0.0",
         "0.0",
         "0.0",
         "0.0",
         "0.0",
         "0.0",
         "0.0",
         "0.0",
         "0.0",
         "0.0",
         "0.0",
         "0.0",
         "0.0",
         "0.0",
         "0.0",
         "0.0",
         "0.0",
         "0.0",
         "0.0",
         "0.0",
         "0.0",
         "0.0",
         "0.0",
         "0.0",
         "0.0",
         "0.0",
         "0.0",
         "0.0",
         "0.0",
         "0.0",
         "0.0",
         "0.0",
         "0.0",
         "0.0",
         "0.0",
         "0.0",
         "0.0",
         "0.0",
         "0.0",
         "0.0",
         "0.0",
         "0.0",
         "0.0",
         "0.0",
         "0.0",
         "0.0",
         "0.0",
         "0.0",
         "0.0",
         "0.0",
         "0.0",
         "0.0",
         "0.0",
         "0.0",
         "0.0",
         "0.0",
         "0.0",
         "0.0",
         "0.0",
         "0.0",
         "0.0",
         "0.0",
         "0.0",
         "0.0",
         "0.0",
         "0.0",
         "0.0",
         "0.0",
         "0.0",
         "0.0",
         "0.0",
         "0.0",
         "0.0",
         "0.0",
         "0.0",
         "0.0",
         "0.0",
         "0.0",
         "0.0",
         "0.0",
         "0.0",
         "0.0",
         "0.0",
         "0.0",
         "0.0",
         "0.0",
         "0.0",
         "0.0",
         "0.0",
         "0.0",
         "0.0",
         "0.0",
         "0.0",
         "0.0",
         "0.0",
         "0.0",
         "0.0",
         "0.0",
         "0.0",
         "0.0",
         "0.0",
         "0.0",
         "0.0",
         "0.0",
         "0.0",
         "0.0",
         "0.0",
         "0.0",
         "0.0",
         "0.0",
         "0.0",
         "0.0",
         "0.0",
         "0.0",
         "0.0",
         "0.0",
         "0.0",
         "0.0",
         "0.0",
         "0.0",
         "0.0",
         "0.0",
         "0.0",
         "0.0",
         "0.0",
         "0.0",
         "0.0",
         "0.0",
         "0.0",
         "0.0",
         "0.0",
         "0.0",
         "0.0",
         "0.0",
         "0.0",
         "0.0",
         "0.0",
         "0.0",
         "0.0",
         "0.0",
         "0.0",
         "0.0",
         "0.0",
         "0.0",
         "0.0",
         "0.0",
         "0.0",
         "0.0",
         "0.0",
         "0.0",
         "0.0",
         "0.0",
         "0.0",
         "0.0",
         "0.0",
         "0.0",
         "0.0",
         "0.0",
         "0.0",
         "0.0",
         "0.0",
         "0.0",
         "0.0",
         "0.0",
         "0.0",
         "0.0",
         "0.0",
         "0.0",
         "0.0",
         "0.0",
         "0.0",
         "0.0",
         "0.0",
         "0.0",
         "0.0",
         "0.0",
         "0.0",
         "0.0",
         "0.0",
         "0.0",
         "0.0",
         "0.0",
         "0.0",
         "0.0",
         "0.0",
         "0.0",
         "0.0",
         "0.0",
         "0.0",
         "0.0",
         "0.0",
         "0.0",
         "0.0",
         "0.0",
         "0.0",
         "0.0",
         "0.0",
         "0.0",
         "0.0",
         "0.0",
         "0.0",
         "0.0",
         "0.0",
         "0.0",
         "0.0",
         "0.0",
         "0.0",
         "0.0",
         "0.0",
         "0.0",
         "0.0",
         "0.0",
         "0.6604653083972",
         "0.0",
         "0.0",
         "0.0",
         "0.0",
         "0.0",
         "0.0",
         "0.0",
         "0.0",
         "0.0",
         "0.0",
         "0.0",
         "0.0",
         "0.0",
         "0.0",
         "0.0",
         "0.0",
         "0.0",
         "0.0",
         "0.0",
         "0.0",
         "0.0",
         "0.0",
         "0.0",
         "0.0",
         "0.0",
         "0.0",
         "0.0",
         "0.0",
         "0.0",
         "0.0",
         "0.0",
         "0.0",
         "0.0",
         "0.0",
         "0.0",
         "0.0",
         "0.0",
         "0.0",
         "0.0",
         "0.0",
         "0.0",
         "0.0",
         "0.0",
         "0.0",
         "0.0",
         "0.0",
         "0.0",
         "0.0",
         "0.0",
         "0.0"
        ],
        [
         "2",
         "0.0",
         "0.0",
         "0.0",
         "0.0",
         "0.0",
         "0.0",
         "0.0",
         "0.0",
         "0.0",
         "0.0",
         "0.0",
         "0.0",
         "0.0",
         "0.0",
         "0.0",
         "0.0",
         "0.0",
         "0.0",
         "0.0",
         "0.0",
         "0.0",
         "0.0",
         "0.0",
         "0.0",
         "0.0",
         "0.0",
         "0.0",
         "0.0",
         "0.0",
         "0.0",
         "0.0",
         "0.0",
         "0.0",
         "0.0",
         "0.0",
         "0.0",
         "0.0",
         "0.0",
         "0.0",
         "0.0",
         "0.0",
         "0.0",
         "0.0",
         "0.0",
         "0.0",
         "0.0",
         "0.0",
         "0.0",
         "0.0",
         "0.0",
         "0.0",
         "0.0",
         "0.0",
         "0.0",
         "0.0",
         "0.0",
         "0.0",
         "0.0",
         "0.0",
         "0.0",
         "0.0",
         "0.0",
         "0.0",
         "0.0",
         "0.0",
         "0.0",
         "0.0",
         "0.0",
         "0.0",
         "0.0",
         "0.0",
         "0.0",
         "0.0",
         "0.0",
         "0.2333409520991566",
         "0.0",
         "0.0",
         "0.0",
         "0.0",
         "0.0",
         "0.0",
         "0.0",
         "0.0",
         "0.0",
         "0.0",
         "0.0",
         "0.0",
         "0.0",
         "0.0",
         "0.0",
         "0.0",
         "0.0",
         "0.0",
         "0.0",
         "0.0",
         "0.0",
         "0.0",
         "0.0",
         "0.0",
         "0.0",
         "0.0",
         "0.0",
         "0.0",
         "0.0",
         "0.0",
         "0.0",
         "0.0",
         "0.0",
         "0.0",
         "0.0",
         "0.0",
         "0.0",
         "0.0",
         "0.0",
         "0.0",
         "0.0",
         "0.0",
         "0.0",
         "0.0",
         "0.0",
         "0.0",
         "0.0",
         "0.0",
         "0.0",
         "0.0",
         "0.0",
         "0.0",
         "0.0",
         "0.0",
         "0.0",
         "0.0",
         "0.0",
         "0.0",
         "0.0",
         "0.0",
         "0.0",
         "0.0",
         "0.0",
         "0.0",
         "0.0",
         "0.0",
         "0.0",
         "0.0",
         "0.0",
         "0.0",
         "0.0",
         "0.0",
         "0.0",
         "0.0",
         "0.0",
         "0.0",
         "0.0",
         "0.0",
         "0.0",
         "0.0",
         "0.0",
         "0.0",
         "0.0",
         "0.0",
         "0.0",
         "0.0",
         "0.0",
         "0.0",
         "0.0",
         "0.0",
         "0.0",
         "0.0",
         "0.0",
         "0.0",
         "0.0",
         "0.0",
         "0.0",
         "0.0",
         "0.0",
         "0.0",
         "0.0",
         "0.0",
         "0.0",
         "0.0",
         "0.0",
         "0.0",
         "0.0",
         "0.0",
         "0.0",
         "0.0",
         "0.2688058323563355",
         "0.0",
         "0.0",
         "0.0",
         "0.0",
         "0.0",
         "0.0",
         "0.0",
         "0.0",
         "0.0",
         "0.0",
         "0.0",
         "0.0",
         "0.0",
         "0.0",
         "0.0",
         "0.0",
         "0.0",
         "0.0",
         "0.0",
         "0.0",
         "0.0",
         "0.0",
         "0.0",
         "0.0",
         "0.0",
         "0.0",
         "0.0",
         "0.0",
         "0.0",
         "0.0",
         "0.0",
         "0.0",
         "0.0",
         "0.0",
         "0.0",
         "0.0",
         "0.0",
         "0.0",
         "0.0",
         "0.0",
         "0.0",
         "0.0",
         "0.0",
         "0.0",
         "0.0",
         "0.0",
         "0.0",
         "0.0",
         "0.0",
         "0.0",
         "0.0",
         "0.0",
         "0.0",
         "0.0",
         "0.0",
         "0.0",
         "0.0",
         "0.0",
         "0.0",
         "0.0",
         "0.0",
         "0.0",
         "0.0",
         "0.0",
         "0.0",
         "0.0",
         "0.0",
         "0.0",
         "0.0",
         "0.0",
         "0.0",
         "0.0",
         "0.0",
         "0.0",
         "0.0",
         "0.0",
         "0.0",
         "0.0",
         "0.0",
         "0.0",
         "0.0",
         "0.0",
         "0.0",
         "0.0",
         "0.0",
         "0.0",
         "0.0",
         "0.0",
         "0.0",
         "0.0",
         "0.0",
         "0.49755441746844237",
         "0.0",
         "0.0",
         "0.0",
         "0.0",
         "0.0",
         "0.0",
         "0.0",
         "0.0",
         "0.0",
         "0.0",
         "0.0",
         "0.0",
         "0.0",
         "0.0",
         "0.0",
         "0.0",
         "0.0",
         "0.0",
         "0.0",
         "0.0",
         "0.0",
         "0.0",
         "0.0",
         "0.0",
         "0.0",
         "0.0",
         "0.2543584752993683",
         "0.0",
         "0.0",
         "0.0",
         "0.0",
         "0.0",
         "0.0",
         "0.0",
         "0.0",
         "0.0",
         "0.0",
         "0.0",
         "0.0",
         "0.0",
         "0.15942435811904646",
         "0.0",
         "0.0",
         "0.0",
         "0.0",
         "0.0",
         "0.0",
         "0.0",
         "0.0",
         "0.0",
         "0.0",
         "0.0",
         "0.0",
         "0.0",
         "0.0",
         "0.0",
         "0.0",
         "0.0",
         "0.0",
         "0.0",
         "0.0",
         "0.0",
         "0.0",
         "0.0",
         "0.0",
         "0.0",
         "0.0",
         "0.0",
         "0.0",
         "0.0",
         "0.0",
         "0.0",
         "0.0",
         "0.0",
         "0.0",
         "0.0",
         "0.0",
         "0.0",
         "0.0",
         "0.0",
         "0.0",
         "0.0",
         "0.0",
         "0.0",
         "0.0",
         "0.0",
         "0.0",
         "0.0",
         "0.0",
         "0.0",
         "0.0",
         "0.0",
         "0.0",
         "0.0",
         "0.0",
         "0.0",
         "0.0",
         "0.0",
         "0.0",
         "0.0",
         "0.0",
         "0.0",
         "0.0",
         "0.0",
         "0.0",
         "0.0",
         "0.0",
         "0.0",
         "0.0",
         "0.0",
         "0.0",
         "0.0",
         "0.0",
         "0.0",
         "0.0",
         "0.0",
         "0.0",
         "0.0",
         "0.0",
         "0.0",
         "0.0",
         "0.0",
         "0.0",
         "0.0",
         "0.0",
         "0.0",
         "0.0",
         "0.0",
         "0.0",
         "0.0",
         "0.0",
         "0.0",
         "0.0",
         "0.0",
         "0.0",
         "0.0",
         "0.0",
         "0.0",
         "0.0",
         "0.0",
         "0.0",
         "0.0",
         "0.0",
         "0.0",
         "0.0",
         "0.0",
         "0.0",
         "0.0",
         "0.11168379087610918",
         "0.0",
         "0.0",
         "0.0",
         "0.0",
         "0.0",
         "0.0",
         "0.0",
         "0.0",
         "0.0",
         "0.0",
         "0.0",
         "0.0",
         "0.0",
         "0.0",
         "0.0",
         "0.0",
         "0.0",
         "0.0",
         "0.0",
         "0.0",
         "0.0",
         "0.0",
         "0.0",
         "0.0",
         "0.0",
         "0.0",
         "0.0",
         "0.0",
         "0.0",
         "0.0",
         "0.0",
         "0.0",
         "0.0",
         "0.0",
         "0.0",
         "0.0",
         "0.0",
         "0.0",
         "0.0",
         "0.0",
         "0.0",
         "0.0",
         "0.0",
         "0.0",
         "0.0",
         "0.0",
         "0.0",
         "0.0",
         "0.0",
         "0.0",
         "0.0",
         "0.0",
         "0.0",
         "0.0",
         "0.0",
         "0.0",
         "0.0",
         "0.0",
         "0.0",
         "0.0",
         "0.0",
         "0.0",
         "0.0",
         "0.0",
         "0.0",
         "0.0",
         "0.0",
         "0.0",
         "0.0",
         "0.0",
         "0.0",
         "0.0",
         "0.0",
         "0.0",
         "0.0",
         "0.0",
         "0.0",
         "0.0",
         "0.0",
         "0.0",
         "0.0",
         "0.0",
         "0.0",
         "0.0",
         "0.0",
         "0.0",
         "0.0",
         "0.0",
         "0.0",
         "0.0",
         "0.21829120125272644",
         "0.0",
         "0.0",
         "0.0",
         "0.0",
         "0.0",
         "0.0",
         "0.0",
         "0.0",
         "0.0",
         "0.0",
         "0.0",
         "0.0",
         "0.0",
         "0.0",
         "0.0",
         "0.0",
         "0.0",
         "0.0",
         "0.0",
         "0.0",
         "0.0",
         "0.0",
         "0.0",
         "0.0",
         "0.0",
         "0.0",
         "0.0",
         "0.0",
         "0.0",
         "0.0",
         "0.0",
         "0.0",
         "0.0",
         "0.0",
         "0.0",
         "0.0",
         "0.0",
         "0.0",
         "0.0",
         "0.0",
         "0.0",
         "0.0",
         "0.0",
         "0.0",
         "0.0",
         "0.0",
         "0.0",
         "0.0",
         "0.0",
         "0.0",
         "0.0",
         "0.0",
         "0.0",
         "0.0",
         "0.0",
         "0.0",
         "0.0",
         "0.0",
         "0.0",
         "0.0",
         "0.0",
         "0.0",
         "0.0",
         "0.0",
         "0.0",
         "0.0",
         "0.0",
         "0.0",
         "0.0",
         "0.0",
         "0.0",
         "0.0",
         "0.0",
         "0.0",
         "0.0",
         "0.0",
         "0.0",
         "0.0",
         "0.0",
         "0.0",
         "0.0",
         "0.0",
         "0.0",
         "0.0",
         "0.0",
         "0.0",
         "0.0",
         "0.0",
         "0.0",
         "0.0",
         "0.0",
         "0.0",
         "0.0",
         "0.0",
         "0.0",
         "0.0",
         "0.0",
         "0.0",
         "0.0",
         "0.0",
         "0.0",
         "0.0",
         "0.0",
         "0.0",
         "0.0",
         "0.0",
         "0.0",
         "0.0",
         "0.0",
         "0.0",
         "0.0",
         "0.0",
         "0.0",
         "0.0",
         "0.0",
         "0.0",
         "0.0",
         "0.0",
         "0.0",
         "0.0",
         "0.0",
         "0.0",
         "0.0",
         "0.0",
         "0.0",
         "0.0",
         "0.0",
         "0.0",
         "0.0",
         "0.0",
         "0.0",
         "0.0",
         "0.0",
         "0.0",
         "0.0",
         "0.0",
         "0.0",
         "0.0",
         "0.0",
         "0.0",
         "0.0",
         "0.0",
         "0.0",
         "0.0",
         "0.0",
         "0.0",
         "0.0",
         "0.0",
         "0.0",
         "0.0",
         "0.0",
         "0.0",
         "0.0",
         "0.0",
         "0.0",
         "0.0",
         "0.0",
         "0.0",
         "0.24708490821019852",
         "0.0",
         "0.0",
         "0.0",
         "0.2333409520991566",
         "0.0",
         "0.0",
         "0.0",
         "0.0",
         "0.0",
         "0.0",
         "0.0",
         "0.0",
         "0.0",
         "0.2311008652440203",
         "0.0",
         "0.0",
         "0.0",
         "0.0",
         "0.0",
         "0.0",
         "0.0",
         "0.0",
         "0.0",
         "0.0",
         "0.0",
         "0.0",
         "0.0",
         "0.0",
         "0.0",
         "0.0",
         "0.0",
         "0.0",
         "0.0",
         "0.0",
         "0.0",
         "0.0",
         "0.0",
         "0.0",
         "0.0",
         "0.0",
         "0.0",
         "0.0",
         "0.0",
         "0.0",
         "0.0",
         "0.0",
         "0.0",
         "0.0",
         "0.0",
         "0.0",
         "0.0",
         "0.0",
         "0.0",
         "0.0",
         "0.0",
         "0.0",
         "0.0",
         "0.0",
         "0.0",
         "0.0",
         "0.0",
         "0.0",
         "0.0",
         "0.0",
         "0.0",
         "0.0",
         "0.0",
         "0.0",
         "0.0",
         "0.0",
         "0.0",
         "0.0",
         "0.0",
         "0.0",
         "0.0",
         "0.0",
         "0.0",
         "0.0",
         "0.0",
         "0.0",
         "0.0",
         "0.0",
         "0.0",
         "0.0",
         "0.0",
         "0.0",
         "0.0",
         "0.0",
         "0.0",
         "0.0",
         "0.0",
         "0.0",
         "0.0",
         "0.0",
         "0.0",
         "0.0",
         "0.0",
         "0.0",
         "0.0",
         "0.0",
         "0.0",
         "0.0",
         "0.0",
         "0.0",
         "0.0",
         "0.0",
         "0.0",
         "0.0",
         "0.0",
         "0.0",
         "0.0",
         "0.2718530977133451",
         "0.0",
         "0.0",
         "0.0",
         "0.0",
         "0.0",
         "0.0",
         "0.0",
         "0.0",
         "0.0",
         "0.0",
         "0.0",
         "0.0",
         "0.0",
         "0.0",
         "0.0",
         "0.0",
         "0.0",
         "0.0",
         "0.0",
         "0.0",
         "0.0",
         "0.0",
         "0.0",
         "0.0",
         "0.0",
         "0.0",
         "0.0",
         "0.0",
         "0.16982877016670994",
         "0.0",
         "0.0",
         "0.0",
         "0.0",
         "0.0",
         "0.0",
         "0.0",
         "0.0",
         "0.0",
         "0.0",
         "0.0",
         "0.0",
         "0.0",
         "0.0",
         "0.0",
         "0.0",
         "0.0",
         "0.0",
         "0.0",
         "0.0",
         "0.0",
         "0.0",
         "0.0",
         "0.0",
         "0.0",
         "0.0",
         "0.0",
         "0.0",
         "0.0",
         "0.0",
         "0.0",
         "0.0",
         "0.0",
         "0.2510990378207139",
         "0.0",
         "0.0",
         "0.0",
         "0.0",
         "0.0",
         "0.0",
         "0.0",
         "0.0",
         "0.0",
         "0.0",
         "0.0",
         "0.0",
         "0.0",
         "0.0",
         "0.0",
         "0.0",
         "0.0",
         "0.0",
         "0.0",
         "0.0",
         "0.0",
         "0.0",
         "0.0",
         "0.0",
         "0.0",
         "0.0",
         "0.17183882313052776",
         "0.0",
         "0.0",
         "0.0",
         "0.0",
         "0.0",
         "0.0",
         "0.0",
         "0.0",
         "0.0",
         "0.0",
         "0.0",
         "0.0",
         "0.0",
         "0.0",
         "0.0",
         "0.0",
         "0.0",
         "0.0",
         "0.0",
         "0.0",
         "0.0",
         "0.0",
         "0.0",
         "0.0",
         "0.0",
         "0.0",
         "0.0",
         "0.0",
         "0.0",
         "0.0",
         "0.0",
         "0.0",
         "0.0",
         "0.0",
         "0.0",
         "0.0",
         "0.0",
         "0.0",
         "0.0",
         "0.0",
         "0.0",
         "0.0",
         "0.0",
         "0.0",
         "0.0",
         "0.0",
         "0.0",
         "0.0",
         "0.0",
         "0.0",
         "0.0",
         "0.0",
         "0.0",
         "0.0",
         "0.0",
         "0.0",
         "0.0",
         "0.0",
         "0.0",
         "0.0",
         "0.0",
         "0.0",
         "0.0",
         "0.0",
         "0.0",
         "0.0",
         "0.0",
         "0.0",
         "0.0",
         "0.0",
         "0.0",
         "0.0",
         "0.0",
         "0.0",
         "0.20471241023017858",
         "0.0",
         "0.0",
         "0.0",
         "0.0",
         "0.0",
         "0.0",
         "0.0",
         "0.0",
         "0.26335791266371816",
         "0.0",
         "0.0",
         "0.0",
         "0.0",
         "0.0",
         "0.0",
         "0.0",
         "0.0",
         "0.0",
         "0.0",
         "0.0",
         "0.0",
         "0.0",
         "0.0",
         "0.0",
         "0.0",
         "0.0",
         "0.0",
         "0.0",
         "0.0",
         "0.0",
         "0.0",
         "0.0",
         "0.0",
         "0.0",
         "0.0",
         "0.0",
         "0.0",
         "0.0",
         "0.0",
         "0.0",
         "0.0",
         "0.0",
         "0.0",
         "0.0",
         "0.0",
         "0.0"
        ],
        [
         "3",
         "0.0",
         "0.0",
         "0.0",
         "0.0",
         "0.0",
         "0.0",
         "0.0",
         "0.0",
         "0.0",
         "0.0",
         "0.0",
         "0.0",
         "0.0",
         "0.0",
         "0.0",
         "0.0",
         "0.0",
         "0.0",
         "0.0",
         "0.0",
         "0.0",
         "0.0",
         "0.0",
         "0.0",
         "0.0",
         "0.0",
         "0.0",
         "0.0",
         "0.0",
         "0.0",
         "0.0",
         "0.0",
         "0.0",
         "0.0",
         "0.0",
         "0.0",
         "0.0",
         "0.0",
         "0.0",
         "0.0",
         "0.0",
         "0.0",
         "0.0",
         "0.0",
         "0.0",
         "0.0",
         "0.0",
         "0.0",
         "0.0",
         "0.0",
         "0.0",
         "0.0",
         "0.0",
         "0.0",
         "0.0",
         "0.0",
         "0.0",
         "0.3365002865351417",
         "0.0",
         "0.0",
         "0.0",
         "0.0",
         "0.0",
         "0.0",
         "0.0",
         "0.0",
         "0.0",
         "0.0",
         "0.0",
         "0.0",
         "0.0",
         "0.0",
         "0.0",
         "0.0",
         "0.0",
         "0.0",
         "0.0",
         "0.0",
         "0.0",
         "0.0",
         "0.0",
         "0.0",
         "0.0",
         "0.0",
         "0.0",
         "0.0",
         "0.0",
         "0.0",
         "0.0",
         "0.0",
         "0.0",
         "0.0",
         "0.0",
         "0.0",
         "0.0",
         "0.0",
         "0.0",
         "0.0",
         "0.0",
         "0.0",
         "0.0",
         "0.0",
         "0.0",
         "0.0",
         "0.0",
         "0.0",
         "0.0",
         "0.0",
         "0.0",
         "0.0",
         "0.0",
         "0.0",
         "0.0",
         "0.0",
         "0.0",
         "0.0",
         "0.0",
         "0.0",
         "0.0",
         "0.0",
         "0.0",
         "0.0",
         "0.0",
         "0.0",
         "0.0",
         "0.0",
         "0.0",
         "0.0",
         "0.0",
         "0.0",
         "0.0",
         "0.0",
         "0.0",
         "0.0",
         "0.0",
         "0.0",
         "0.0",
         "0.0",
         "0.0",
         "0.0",
         "0.0",
         "0.0",
         "0.0",
         "0.0",
         "0.0",
         "0.0",
         "0.0",
         "0.0",
         "0.0",
         "0.0",
         "0.0",
         "0.0",
         "0.0",
         "0.0",
         "0.0",
         "0.0",
         "0.0",
         "0.0",
         "0.0",
         "0.0",
         "0.0",
         "0.0",
         "0.0",
         "0.0",
         "0.0",
         "0.0",
         "0.0",
         "0.0",
         "0.0",
         "0.0",
         "0.0",
         "0.0",
         "0.0",
         "0.0",
         "0.0",
         "0.0",
         "0.0",
         "0.0",
         "0.0",
         "0.0",
         "0.0",
         "0.0",
         "0.0",
         "0.0",
         "0.0",
         "0.0",
         "0.0",
         "0.0",
         "0.0",
         "0.0",
         "0.0",
         "0.0",
         "0.0",
         "0.0",
         "0.0",
         "0.0",
         "0.0",
         "0.0",
         "0.0",
         "0.0",
         "0.0",
         "0.0",
         "0.0",
         "0.0",
         "0.0",
         "0.0",
         "0.0",
         "0.0",
         "0.0",
         "0.0",
         "0.0",
         "0.0",
         "0.0",
         "0.0",
         "0.0",
         "0.0",
         "0.0",
         "0.0",
         "0.0",
         "0.0",
         "0.0",
         "0.0",
         "0.0",
         "0.0",
         "0.0",
         "0.0",
         "0.0",
         "0.0",
         "0.0",
         "0.0",
         "0.0",
         "0.0",
         "0.0",
         "0.0",
         "0.0",
         "0.0",
         "0.0",
         "0.0",
         "0.0",
         "0.0",
         "0.0",
         "0.0",
         "0.0",
         "0.0",
         "0.0",
         "0.0",
         "0.0",
         "0.0",
         "0.0",
         "0.0",
         "0.0",
         "0.0",
         "0.0",
         "0.0",
         "0.0",
         "0.0",
         "0.0",
         "0.37251217751518606",
         "0.0",
         "0.0",
         "0.0",
         "0.40438447012859124",
         "0.0",
         "0.0",
         "0.0",
         "0.0",
         "0.0",
         "0.0",
         "0.0",
         "0.0",
         "0.0",
         "0.0",
         "0.0",
         "0.0",
         "0.0",
         "0.0",
         "0.0",
         "0.0",
         "0.0",
         "0.0",
         "0.0",
         "0.0",
         "0.0",
         "0.0",
         "0.0",
         "0.0",
         "0.0",
         "0.0",
         "0.0",
         "0.0",
         "0.0",
         "0.0",
         "0.0",
         "0.0",
         "0.0",
         "0.0",
         "0.0",
         "0.0",
         "0.0",
         "0.0",
         "0.0",
         "0.0",
         "0.0",
         "0.0",
         "0.0",
         "0.0",
         "0.0",
         "0.0",
         "0.0",
         "0.0",
         "0.0",
         "0.0",
         "0.0",
         "0.0",
         "0.0",
         "0.0",
         "0.0",
         "0.0",
         "0.0",
         "0.0",
         "0.0",
         "0.0",
         "0.0",
         "0.0",
         "0.0",
         "0.0",
         "0.0",
         "0.0",
         "0.0",
         "0.0",
         "0.0",
         "0.0",
         "0.0",
         "0.0",
         "0.0",
         "0.0",
         "0.0",
         "0.0",
         "0.0",
         "0.0",
         "0.0",
         "0.0",
         "0.0",
         "0.0",
         "0.0",
         "0.0",
         "0.0",
         "0.0",
         "0.0",
         "0.0",
         "0.0",
         "0.0",
         "0.0",
         "0.0",
         "0.0",
         "0.0",
         "0.0",
         "0.0",
         "0.0",
         "0.0",
         "0.0",
         "0.0",
         "0.0",
         "0.0",
         "0.0",
         "0.0",
         "0.0",
         "0.0",
         "0.0",
         "0.0",
         "0.0",
         "0.0",
         "0.0",
         "0.0",
         "0.0",
         "0.0",
         "0.0",
         "0.0",
         "0.0",
         "0.0",
         "0.0",
         "0.0",
         "0.0",
         "0.0",
         "0.0",
         "0.0",
         "0.0",
         "0.0",
         "0.0",
         "0.0",
         "0.0",
         "0.0",
         "0.0",
         "0.0",
         "0.0",
         "0.0",
         "0.0",
         "0.0",
         "0.0",
         "0.0",
         "0.0",
         "0.0",
         "0.0",
         "0.0",
         "0.0",
         "0.0",
         "0.0",
         "0.0",
         "0.0",
         "0.0",
         "0.0",
         "0.0",
         "0.0",
         "0.0",
         "0.0",
         "0.0",
         "0.0",
         "0.0",
         "0.0",
         "0.0",
         "0.0",
         "0.0",
         "0.0",
         "0.0",
         "0.0",
         "0.0",
         "0.0",
         "0.0",
         "0.0",
         "0.0",
         "0.0",
         "0.0",
         "0.0",
         "0.0",
         "0.0",
         "0.0",
         "0.0",
         "0.0",
         "0.0",
         "0.0",
         "0.0",
         "0.0",
         "0.0",
         "0.0",
         "0.0",
         "0.0",
         "0.0",
         "0.0",
         "0.0",
         "0.0",
         "0.0",
         "0.0",
         "0.0",
         "0.0",
         "0.0",
         "0.0",
         "0.0",
         "0.0",
         "0.0",
         "0.0",
         "0.0",
         "0.0",
         "0.0",
         "0.0",
         "0.0",
         "0.0",
         "0.0",
         "0.0",
         "0.0",
         "0.0",
         "0.0",
         "0.0",
         "0.0",
         "0.0",
         "0.0",
         "0.0",
         "0.0",
         "0.0",
         "0.0",
         "0.0",
         "0.0",
         "0.0",
         "0.0",
         "0.0",
         "0.0",
         "0.0",
         "0.0",
         "0.0",
         "0.0",
         "0.0",
         "0.0",
         "0.0",
         "0.0",
         "0.0",
         "0.0",
         "0.0",
         "0.0",
         "0.0",
         "0.0",
         "0.0",
         "0.0",
         "0.0",
         "0.0",
         "0.0",
         "0.0",
         "0.0",
         "0.0",
         "0.0",
         "0.0",
         "0.0",
         "0.0",
         "0.0",
         "0.0",
         "0.0",
         "0.0",
         "0.0",
         "0.0",
         "0.0",
         "0.0",
         "0.0",
         "0.0",
         "0.0",
         "0.0",
         "0.0",
         "0.0",
         "0.0",
         "0.0",
         "0.0",
         "0.0",
         "0.0",
         "0.0",
         "0.0",
         "0.0",
         "0.0",
         "0.0",
         "0.0",
         "0.0",
         "0.0",
         "0.0",
         "0.0",
         "0.0",
         "0.0",
         "0.0",
         "0.0",
         "0.0",
         "0.0",
         "0.0",
         "0.0",
         "0.0",
         "0.0",
         "0.0",
         "0.0",
         "0.0",
         "0.0",
         "0.0",
         "0.0",
         "0.0",
         "0.0",
         "0.0",
         "0.0",
         "0.0",
         "0.0",
         "0.0",
         "0.0",
         "0.0",
         "0.0",
         "0.0",
         "0.0",
         "0.0",
         "0.0",
         "0.0",
         "0.0",
         "0.0",
         "0.0",
         "0.0",
         "0.0",
         "0.0",
         "0.0",
         "0.0",
         "0.0",
         "0.0",
         "0.0",
         "0.0",
         "0.0",
         "0.0",
         "0.0",
         "0.0",
         "0.0",
         "0.0",
         "0.0",
         "0.0",
         "0.0",
         "0.0",
         "0.0",
         "0.0",
         "0.0",
         "0.0",
         "0.0",
         "0.0",
         "0.0",
         "0.0",
         "0.0",
         "0.0",
         "0.0",
         "0.0",
         "0.0",
         "0.0",
         "0.0",
         "0.0",
         "0.0",
         "0.0",
         "0.0",
         "0.0",
         "0.0",
         "0.0",
         "0.0",
         "0.0",
         "0.0",
         "0.0",
         "0.0",
         "0.0",
         "0.0",
         "0.0",
         "0.0",
         "0.0",
         "0.0",
         "0.0",
         "0.0",
         "0.0",
         "0.0",
         "0.0",
         "0.0",
         "0.0",
         "0.0",
         "0.0",
         "0.0",
         "0.0",
         "0.0",
         "0.0",
         "0.0",
         "0.0",
         "0.0",
         "0.0",
         "0.0",
         "0.0",
         "0.0",
         "0.0",
         "0.0",
         "0.0",
         "0.0",
         "0.0",
         "0.0",
         "0.0",
         "0.0",
         "0.0",
         "0.0",
         "0.0",
         "0.0",
         "0.0",
         "0.0",
         "0.0",
         "0.0",
         "0.0",
         "0.0",
         "0.0",
         "0.0",
         "0.0",
         "0.0",
         "0.0",
         "0.0",
         "0.0",
         "0.0",
         "0.0",
         "0.0",
         "0.0",
         "0.0",
         "0.0",
         "0.0",
         "0.0",
         "0.0",
         "0.0",
         "0.0",
         "0.0",
         "0.0",
         "0.0",
         "0.0",
         "0.0",
         "0.0",
         "0.0",
         "0.0",
         "0.0",
         "0.0",
         "0.0",
         "0.0",
         "0.0",
         "0.0",
         "0.0",
         "0.0",
         "0.0",
         "0.0",
         "0.0",
         "0.0",
         "0.0",
         "0.0",
         "0.0",
         "0.0",
         "0.0",
         "0.0",
         "0.0",
         "0.0",
         "0.0",
         "0.0",
         "0.0",
         "0.0",
         "0.0",
         "0.0",
         "0.0",
         "0.0",
         "0.0",
         "0.0",
         "0.6744675678108216",
         "0.0",
         "0.0",
         "0.0",
         "0.0",
         "0.0",
         "0.0",
         "0.0",
         "0.0",
         "0.0",
         "0.0",
         "0.0",
         "0.0",
         "0.0",
         "0.0",
         "0.0",
         "0.0",
         "0.0",
         "0.0",
         "0.0",
         "0.0",
         "0.0",
         "0.0",
         "0.0",
         "0.0",
         "0.0",
         "0.0",
         "0.0",
         "0.0",
         "0.0",
         "0.0",
         "0.0",
         "0.0",
         "0.0",
         "0.0",
         "0.0",
         "0.0",
         "0.0",
         "0.0",
         "0.0",
         "0.0",
         "0.0",
         "0.0",
         "0.0",
         "0.0",
         "0.0",
         "0.0",
         "0.0",
         "0.23337305129563735",
         "0.0",
         "0.0",
         "0.0",
         "0.0",
         "0.0",
         "0.0",
         "0.0",
         "0.0",
         "0.0",
         "0.0",
         "0.0",
         "0.0",
         "0.0",
         "0.0",
         "0.0",
         "0.0",
         "0.0",
         "0.0",
         "0.0",
         "0.0",
         "0.0",
         "0.0",
         "0.0",
         "0.0",
         "0.0",
         "0.0",
         "0.0",
         "0.0",
         "0.0",
         "0.0",
         "0.0",
         "0.0",
         "0.0",
         "0.0",
         "0.0",
         "0.0",
         "0.0",
         "0.0",
         "0.0",
         "0.0",
         "0.0",
         "0.0",
         "0.0",
         "0.0",
         "0.0",
         "0.0",
         "0.0",
         "0.0",
         "0.0",
         "0.0",
         "0.0",
         "0.0",
         "0.0",
         "0.0",
         "0.0",
         "0.0",
         "0.0",
         "0.0",
         "0.0",
         "0.0",
         "0.2740546551033194",
         "0.0",
         "0.0",
         "0.0",
         "0.0",
         "0.0",
         "0.0",
         "0.0",
         "0.0",
         "0.0",
         "0.0",
         "0.0",
         "0.0",
         "0.0",
         "0.0",
         "0.0",
         "0.0",
         "0.0",
         "0.0",
         "0.0",
         "0.0",
         "0.0",
         "0.0",
         "0.0",
         "0.0",
         "0.0",
         "0.0",
         "0.0",
         "0.0",
         "0.0",
         "0.0",
         "0.0",
         "0.0",
         "0.0",
         "0.0",
         "0.0",
         "0.0",
         "0.0",
         "0.0",
         "0.0",
         "0.0",
         "0.0",
         "0.0",
         "0.0",
         "0.0",
         "0.0",
         "0.0",
         "0.0",
         "0.0",
         "0.0",
         "0.0",
         "0.0",
         "0.0",
         "0.0",
         "0.0",
         "0.0",
         "0.0",
         "0.0",
         "0.0",
         "0.0",
         "0.0",
         "0.0",
         "0.0",
         "0.0",
         "0.0",
         "0.0",
         "0.0",
         "0.0",
         "0.0",
         "0.0",
         "0.0",
         "0.0",
         "0.0",
         "0.0",
         "0.0",
         "0.0",
         "0.0",
         "0.0",
         "0.0",
         "0.0",
         "0.0",
         "0.0",
         "0.0",
         "0.0",
         "0.0",
         "0.0",
         "0.0",
         "0.0",
         "0.0",
         "0.0",
         "0.0",
         "0.0",
         "0.0",
         "0.0",
         "0.0",
         "0.0",
         "0.0",
         "0.0",
         "0.0",
         "0.0",
         "0.0",
         "0.0",
         "0.0",
         "0.0",
         "0.0",
         "0.0",
         "0.0",
         "0.0",
         "0.0",
         "0.0",
         "0.0",
         "0.0",
         "0.0",
         "0.0",
         "0.0",
         "0.0",
         "0.0",
         "0.0",
         "0.0",
         "0.0",
         "0.0",
         "0.0",
         "0.0",
         "0.0",
         "0.0",
         "0.0",
         "0.0",
         "0.0",
         "0.0",
         "0.0",
         "0.0",
         "0.0",
         "0.0",
         "0.0",
         "0.0",
         "0.0",
         "0.0",
         "0.0",
         "0.0",
         "0.0",
         "0.0",
         "0.0",
         "0.0",
         "0.0",
         "0.0",
         "0.0",
         "0.0",
         "0.0",
         "0.0",
         "0.0",
         "0.0",
         "0.0",
         "0.0",
         "0.0",
         "0.0",
         "0.0",
         "0.0",
         "0.0",
         "0.0",
         "0.0",
         "0.0",
         "0.0",
         "0.0",
         "0.0",
         "0.0",
         "0.0",
         "0.0",
         "0.0",
         "0.0",
         "0.0",
         "0.0"
        ],
        [
         "4",
         "0.0",
         "0.0",
         "0.0",
         "0.0",
         "0.0",
         "0.0",
         "0.0",
         "0.0",
         "0.0",
         "0.0",
         "0.0",
         "0.0",
         "0.0",
         "0.0",
         "0.0",
         "0.0",
         "0.0",
         "0.0",
         "0.0",
         "0.0",
         "0.0",
         "0.0",
         "0.0",
         "0.0",
         "0.0",
         "0.0",
         "0.0",
         "0.0",
         "0.0",
         "0.0",
         "0.0",
         "0.0",
         "0.0",
         "0.0",
         "0.0",
         "0.0",
         "0.0",
         "0.0",
         "0.0",
         "0.0",
         "0.0",
         "0.0",
         "0.0",
         "0.0",
         "0.0",
         "0.0",
         "0.0",
         "0.0",
         "0.0",
         "0.0",
         "0.0",
         "0.0",
         "0.0",
         "0.0",
         "0.0",
         "0.0",
         "0.0",
         "0.0",
         "0.0",
         "0.0",
         "0.0",
         "0.0",
         "0.0",
         "0.0",
         "0.0",
         "0.0",
         "0.0",
         "0.0",
         "0.0",
         "0.0",
         "0.0",
         "0.0",
         "0.0",
         "0.0",
         "0.0",
         "0.0",
         "0.0",
         "0.0",
         "0.31380217157117624",
         "0.0",
         "0.0",
         "0.0",
         "0.0",
         "0.0",
         "0.0",
         "0.0",
         "0.0",
         "0.0",
         "0.0",
         "0.0",
         "0.0",
         "0.0",
         "0.0",
         "0.0",
         "0.0",
         "0.0",
         "0.0",
         "0.0",
         "0.0",
         "0.0",
         "0.0",
         "0.0",
         "0.0",
         "0.0",
         "0.0",
         "0.0",
         "0.0",
         "0.0",
         "0.0",
         "0.0",
         "0.0",
         "0.0",
         "0.0",
         "0.0",
         "0.0",
         "0.0",
         "0.0",
         "0.0",
         "0.0",
         "0.0",
         "0.0",
         "0.0",
         "0.0",
         "0.0",
         "0.0",
         "0.0",
         "0.0",
         "0.0",
         "0.0",
         "0.0",
         "0.0",
         "0.0",
         "0.0",
         "0.0",
         "0.0",
         "0.0",
         "0.0",
         "0.0",
         "0.0",
         "0.0",
         "0.0",
         "0.0",
         "0.0",
         "0.0",
         "0.0",
         "0.0",
         "0.0",
         "0.0",
         "0.0",
         "0.0",
         "0.0",
         "0.0",
         "0.0",
         "0.0",
         "0.0",
         "0.0",
         "0.0",
         "0.0",
         "0.0",
         "0.0",
         "0.0",
         "0.0",
         "0.0",
         "0.0",
         "0.0",
         "0.0",
         "0.0",
         "0.0",
         "0.0",
         "0.0",
         "0.0",
         "0.0",
         "0.0",
         "0.0",
         "0.0",
         "0.0",
         "0.0",
         "0.0",
         "0.0",
         "0.0",
         "0.0",
         "0.0",
         "0.0",
         "0.0",
         "0.0",
         "0.0",
         "0.0",
         "0.0",
         "0.0",
         "0.0",
         "0.0",
         "0.0",
         "0.0",
         "0.0",
         "0.0",
         "0.0",
         "0.0",
         "0.0",
         "0.0",
         "0.0",
         "0.0",
         "0.0",
         "0.0",
         "0.0",
         "0.0",
         "0.0",
         "0.0",
         "0.0",
         "0.0",
         "0.0",
         "0.0",
         "0.0",
         "0.0",
         "0.0",
         "0.0",
         "0.0",
         "0.0",
         "0.0",
         "0.0",
         "0.0",
         "0.0",
         "0.0",
         "0.0",
         "0.0",
         "0.0",
         "0.0",
         "0.0",
         "0.0",
         "0.0",
         "0.0",
         "0.0",
         "0.0",
         "0.0",
         "0.0",
         "0.0",
         "0.0",
         "0.0",
         "0.0",
         "0.0",
         "0.0",
         "0.0",
         "0.0",
         "0.0",
         "0.26174863116975744",
         "0.0",
         "0.0",
         "0.0",
         "0.0",
         "0.0",
         "0.0",
         "0.0",
         "0.0",
         "0.0",
         "0.0",
         "0.0",
         "0.0",
         "0.0",
         "0.0",
         "0.0",
         "0.0",
         "0.0",
         "0.0",
         "0.0",
         "0.0",
         "0.0",
         "0.0",
         "0.0",
         "0.0",
         "0.0",
         "0.0",
         "0.0",
         "0.0",
         "0.0",
         "0.0",
         "0.0",
         "0.0",
         "0.0",
         "0.0",
         "0.0",
         "0.0",
         "0.0",
         "0.0",
         "0.0",
         "0.0",
         "0.0",
         "0.0",
         "0.0",
         "0.0",
         "0.0",
         "0.0",
         "0.0",
         "0.0",
         "0.0",
         "0.0",
         "0.0",
         "0.0",
         "0.0",
         "0.0",
         "0.0",
         "0.0",
         "0.0",
         "0.0",
         "0.0",
         "0.0",
         "0.0",
         "0.0",
         "0.0",
         "0.0",
         "0.0",
         "0.0",
         "0.0",
         "0.0",
         "0.0",
         "0.0",
         "0.0",
         "0.0",
         "0.0",
         "0.0",
         "0.0",
         "0.0",
         "0.0",
         "0.0",
         "0.0",
         "0.0",
         "0.0",
         "0.0",
         "0.0",
         "0.0",
         "0.0",
         "0.0",
         "0.0",
         "0.0",
         "0.0",
         "0.0",
         "0.0",
         "0.0",
         "0.0",
         "0.0",
         "0.0",
         "0.0",
         "0.0",
         "0.0",
         "0.0",
         "0.0",
         "0.0",
         "0.0",
         "0.0",
         "0.0",
         "0.3590433119481743",
         "0.0",
         "0.0",
         "0.0",
         "0.0",
         "0.0",
         "0.0",
         "0.0",
         "0.0",
         "0.0",
         "0.0",
         "0.0",
         "0.0",
         "0.0",
         "0.0",
         "0.0",
         "0.0",
         "0.0",
         "0.0",
         "0.0",
         "0.0",
         "0.0",
         "0.0",
         "0.0",
         "0.0",
         "0.0",
         "0.0",
         "0.0",
         "0.0",
         "0.0",
         "0.0",
         "0.0",
         "0.0",
         "0.0",
         "0.0",
         "0.0",
         "0.0",
         "0.5050152879985227",
         "0.0",
         "0.0",
         "0.0",
         "0.0",
         "0.0",
         "0.0",
         "0.0",
         "0.0",
         "0.27141445395407254",
         "0.0",
         "0.0",
         "0.0",
         "0.0",
         "0.0",
         "0.0",
         "0.0",
         "0.0",
         "0.0",
         "0.0",
         "0.0",
         "0.0",
         "0.0",
         "0.0",
         "0.0",
         "0.0",
         "0.0",
         "0.0",
         "0.0",
         "0.0",
         "0.0",
         "0.0",
         "0.0",
         "0.0",
         "0.0",
         "0.0",
         "0.0",
         "0.0",
         "0.0",
         "0.0",
         "0.0",
         "0.0",
         "0.0",
         "0.0",
         "0.0",
         "0.0",
         "0.0",
         "0.0",
         "0.0",
         "0.0",
         "0.0",
         "0.0",
         "0.0",
         "0.0",
         "0.0",
         "0.0",
         "0.0",
         "0.0",
         "0.0",
         "0.0",
         "0.0",
         "0.0",
         "0.0",
         "0.0",
         "0.0",
         "0.0",
         "0.0",
         "0.0",
         "0.0",
         "0.0",
         "0.0",
         "0.0",
         "0.0",
         "0.0",
         "0.0",
         "0.0",
         "0.0",
         "0.0",
         "0.0",
         "0.0",
         "0.0",
         "0.0",
         "0.0",
         "0.0",
         "0.0",
         "0.0",
         "0.0",
         "0.0",
         "0.0",
         "0.0",
         "0.0",
         "0.0",
         "0.0",
         "0.0",
         "0.0",
         "0.0",
         "0.0",
         "0.0",
         "0.0",
         "0.0",
         "0.0",
         "0.0",
         "0.0",
         "0.0",
         "0.0",
         "0.0",
         "0.0",
         "0.0",
         "0.0",
         "0.0",
         "0.0",
         "0.0",
         "0.0",
         "0.0",
         "0.0",
         "0.0",
         "0.0",
         "0.0",
         "0.0",
         "0.0",
         "0.0",
         "0.0",
         "0.0",
         "0.0",
         "0.0",
         "0.0",
         "0.0",
         "0.0",
         "0.0",
         "0.0",
         "0.0",
         "0.0",
         "0.0",
         "0.0",
         "0.0",
         "0.0",
         "0.0",
         "0.0",
         "0.0",
         "0.0",
         "0.0",
         "0.0",
         "0.0",
         "0.0",
         "0.0",
         "0.0",
         "0.0",
         "0.0",
         "0.0",
         "0.0",
         "0.0",
         "0.0",
         "0.0",
         "0.0",
         "0.0",
         "0.0",
         "0.0",
         "0.0",
         "0.0",
         "0.0",
         "0.0",
         "0.0",
         "0.0",
         "0.0",
         "0.0",
         "0.0",
         "0.0",
         "0.0",
         "0.0",
         "0.0",
         "0.0",
         "0.0",
         "0.0",
         "0.0",
         "0.0",
         "0.0",
         "0.0",
         "0.0",
         "0.0",
         "0.0",
         "0.0",
         "0.0",
         "0.0",
         "0.0",
         "0.0",
         "0.0",
         "0.0",
         "0.0",
         "0.0",
         "0.0",
         "0.0",
         "0.0",
         "0.0",
         "0.0",
         "0.0",
         "0.0",
         "0.0",
         "0.0",
         "0.0",
         "0.0",
         "0.0",
         "0.0",
         "0.0",
         "0.0",
         "0.0",
         "0.0",
         "0.0",
         "0.0",
         "0.0",
         "0.0",
         "0.0",
         "0.0",
         "0.0",
         "0.0",
         "0.0",
         "0.0",
         "0.0",
         "0.0",
         "0.0",
         "0.0",
         "0.0",
         "0.0",
         "0.0",
         "0.0",
         "0.0",
         "0.0",
         "0.0",
         "0.0",
         "0.0",
         "0.0",
         "0.0",
         "0.0",
         "0.0",
         "0.0",
         "0.0",
         "0.0",
         "0.0",
         "0.0",
         "0.0",
         "0.0",
         "0.0",
         "0.0",
         "0.0",
         "0.0",
         "0.0",
         "0.0",
         "0.0",
         "0.0",
         "0.0",
         "0.0",
         "0.0",
         "0.0",
         "0.0",
         "0.0",
         "0.0",
         "0.0",
         "0.0",
         "0.0",
         "0.0",
         "0.0",
         "0.0",
         "0.0",
         "0.0",
         "0.0",
         "0.0",
         "0.0",
         "0.0",
         "0.0",
         "0.0",
         "0.0",
         "0.0",
         "0.0",
         "0.0",
         "0.0",
         "0.0",
         "0.0",
         "0.0",
         "0.0",
         "0.0",
         "0.0",
         "0.0",
         "0.0",
         "0.0",
         "0.0",
         "0.0",
         "0.0",
         "0.0",
         "0.0",
         "0.0",
         "0.0",
         "0.0",
         "0.0",
         "0.0",
         "0.0",
         "0.0",
         "0.0",
         "0.0",
         "0.0",
         "0.0",
         "0.0",
         "0.0",
         "0.0",
         "0.0",
         "0.0",
         "0.0",
         "0.0",
         "0.0",
         "0.0",
         "0.0",
         "0.0",
         "0.0",
         "0.0",
         "0.0",
         "0.0",
         "0.0",
         "0.0",
         "0.0",
         "0.0",
         "0.0",
         "0.0",
         "0.0",
         "0.0",
         "0.0",
         "0.0",
         "0.0",
         "0.0",
         "0.0",
         "0.0",
         "0.0",
         "0.0",
         "0.0",
         "0.0",
         "0.0",
         "0.0",
         "0.0",
         "0.0",
         "0.0",
         "0.0",
         "0.0",
         "0.0",
         "0.0",
         "0.0",
         "0.0",
         "0.0",
         "0.0",
         "0.0",
         "0.0",
         "0.0",
         "0.0",
         "0.0",
         "0.0",
         "0.0",
         "0.0",
         "0.0",
         "0.0",
         "0.0",
         "0.0",
         "0.0",
         "0.0",
         "0.0",
         "0.0",
         "0.0",
         "0.0",
         "0.0",
         "0.0",
         "0.0",
         "0.0",
         "0.0",
         "0.0",
         "0.0",
         "0.0",
         "0.0",
         "0.0",
         "0.0",
         "0.0",
         "0.0",
         "0.0",
         "0.0",
         "0.0",
         "0.0",
         "0.0",
         "0.0",
         "0.0",
         "0.0",
         "0.0",
         "0.0",
         "0.0",
         "0.0",
         "0.0",
         "0.0",
         "0.0",
         "0.0",
         "0.0",
         "0.0",
         "0.0",
         "0.0",
         "0.0",
         "0.0",
         "0.0",
         "0.0",
         "0.0",
         "0.0",
         "0.0",
         "0.0",
         "0.0",
         "0.0",
         "0.0",
         "0.0",
         "0.0",
         "0.0",
         "0.0",
         "0.0",
         "0.0",
         "0.0",
         "0.0",
         "0.0",
         "0.0",
         "0.0",
         "0.0",
         "0.0",
         "0.0",
         "0.0",
         "0.0",
         "0.0",
         "0.0",
         "0.0",
         "0.0",
         "0.0",
         "0.0",
         "0.0",
         "0.0",
         "0.0",
         "0.0",
         "0.0",
         "0.0",
         "0.0",
         "0.0",
         "0.0",
         "0.0",
         "0.0",
         "0.0",
         "0.0",
         "0.0",
         "0.0",
         "0.0",
         "0.0",
         "0.0",
         "0.0",
         "0.0",
         "0.0",
         "0.2682934812729596",
         "0.0",
         "0.0",
         "0.0",
         "0.0",
         "0.0",
         "0.0",
         "0.35486465685829727",
         "0.0",
         "0.0",
         "0.0",
         "0.0",
         "0.0",
         "0.0",
         "0.0",
         "0.0",
         "0.12396722703968945",
         "0.0",
         "0.0",
         "0.0",
         "0.0",
         "0.0",
         "0.0",
         "0.0",
         "0.0",
         "0.0",
         "0.0",
         "0.0",
         "0.0",
         "0.0",
         "0.0",
         "0.0",
         "0.0",
         "0.0",
         "0.0",
         "0.0",
         "0.0",
         "0.0",
         "0.0",
         "0.0",
         "0.0",
         "0.0",
         "0.0",
         "0.0",
         "0.0",
         "0.0",
         "0.0",
         "0.0",
         "0.0",
         "0.0",
         "0.0",
         "0.0",
         "0.0",
         "0.0",
         "0.0",
         "0.0",
         "0.0",
         "0.0",
         "0.0",
         "0.0",
         "0.0",
         "0.0",
         "0.40264042799402217",
         "0.0",
         "0.0",
         "0.0",
         "0.0",
         "0.0",
         "0.0",
         "0.0",
         "0.0",
         "0.0",
         "0.0",
         "0.0",
         "0.0",
         "0.0",
         "0.0",
         "0.0",
         "0.0",
         "0.0",
         "0.0",
         "0.0",
         "0.0",
         "0.0",
         "0.0",
         "0.0",
         "0.0",
         "0.0",
         "0.0",
         "0.0",
         "0.0",
         "0.0",
         "0.0",
         "0.0",
         "0.0",
         "0.0",
         "0.0",
         "0.0",
         "0.0",
         "0.0",
         "0.0",
         "0.0",
         "0.0",
         "0.0",
         "0.0",
         "0.0",
         "0.0",
         "0.0",
         "0.0",
         "0.0",
         "0.0",
         "0.0",
         "0.0",
         "0.0",
         "0.0",
         "0.0",
         "0.0",
         "0.0",
         "0.0",
         "0.0",
         "0.0",
         "0.0",
         "0.0",
         "0.0",
         "0.0",
         "0.0",
         "0.0",
         "0.0",
         "0.0",
         "0.0",
         "0.0",
         "0.0",
         "0.0",
         "0.0",
         "0.0",
         "0.0",
         "0.0",
         "0.0",
         "0.0",
         "0.0",
         "0.0",
         "0.0",
         "0.0",
         "0.0",
         "0.0",
         "0.0",
         "0.0",
         "0.0",
         "0.0",
         "0.0",
         "0.0",
         "0.0",
         "0.0",
         "0.0",
         "0.0",
         "0.0",
         "0.0",
         "0.0",
         "0.0",
         "0.0",
         "0.0",
         "0.0",
         "0.0",
         "0.0",
         "0.0"
        ]
       ],
       "shape": {
        "columns": 1000,
        "rows": 5
       }
      },
      "text/html": [
       "<div>\n",
       "<style scoped>\n",
       "    .dataframe tbody tr th:only-of-type {\n",
       "        vertical-align: middle;\n",
       "    }\n",
       "\n",
       "    .dataframe tbody tr th {\n",
       "        vertical-align: top;\n",
       "    }\n",
       "\n",
       "    .dataframe thead th {\n",
       "        text-align: right;\n",
       "    }\n",
       "</style>\n",
       "<table border=\"1\" class=\"dataframe\">\n",
       "  <thead>\n",
       "    <tr style=\"text-align: right;\">\n",
       "      <th></th>\n",
       "      <th>000</th>\n",
       "      <th>03</th>\n",
       "      <th>04</th>\n",
       "      <th>0800</th>\n",
       "      <th>08000839402</th>\n",
       "      <th>08000930705</th>\n",
       "      <th>10</th>\n",
       "      <th>100</th>\n",
       "      <th>1000</th>\n",
       "      <th>10p</th>\n",
       "      <th>...</th>\n",
       "      <th>yes</th>\n",
       "      <th>yesterday</th>\n",
       "      <th>yet</th>\n",
       "      <th>yo</th>\n",
       "      <th>you</th>\n",
       "      <th>your</th>\n",
       "      <th>yours</th>\n",
       "      <th>yourself</th>\n",
       "      <th>yr</th>\n",
       "      <th>yup</th>\n",
       "    </tr>\n",
       "  </thead>\n",
       "  <tbody>\n",
       "    <tr>\n",
       "      <th>0</th>\n",
       "      <td>0.0</td>\n",
       "      <td>0.0</td>\n",
       "      <td>0.0</td>\n",
       "      <td>0.0</td>\n",
       "      <td>0.0</td>\n",
       "      <td>0.0</td>\n",
       "      <td>0.0</td>\n",
       "      <td>0.0</td>\n",
       "      <td>0.0</td>\n",
       "      <td>0.0</td>\n",
       "      <td>...</td>\n",
       "      <td>0.0</td>\n",
       "      <td>0.0</td>\n",
       "      <td>0.0</td>\n",
       "      <td>0.0</td>\n",
       "      <td>0.0</td>\n",
       "      <td>0.0</td>\n",
       "      <td>0.0</td>\n",
       "      <td>0.0</td>\n",
       "      <td>0.0</td>\n",
       "      <td>0.0</td>\n",
       "    </tr>\n",
       "    <tr>\n",
       "      <th>1</th>\n",
       "      <td>0.0</td>\n",
       "      <td>0.0</td>\n",
       "      <td>0.0</td>\n",
       "      <td>0.0</td>\n",
       "      <td>0.0</td>\n",
       "      <td>0.0</td>\n",
       "      <td>0.0</td>\n",
       "      <td>0.0</td>\n",
       "      <td>0.0</td>\n",
       "      <td>0.0</td>\n",
       "      <td>...</td>\n",
       "      <td>0.0</td>\n",
       "      <td>0.0</td>\n",
       "      <td>0.0</td>\n",
       "      <td>0.0</td>\n",
       "      <td>0.0</td>\n",
       "      <td>0.0</td>\n",
       "      <td>0.0</td>\n",
       "      <td>0.0</td>\n",
       "      <td>0.0</td>\n",
       "      <td>0.0</td>\n",
       "    </tr>\n",
       "    <tr>\n",
       "      <th>2</th>\n",
       "      <td>0.0</td>\n",
       "      <td>0.0</td>\n",
       "      <td>0.0</td>\n",
       "      <td>0.0</td>\n",
       "      <td>0.0</td>\n",
       "      <td>0.0</td>\n",
       "      <td>0.0</td>\n",
       "      <td>0.0</td>\n",
       "      <td>0.0</td>\n",
       "      <td>0.0</td>\n",
       "      <td>...</td>\n",
       "      <td>0.0</td>\n",
       "      <td>0.0</td>\n",
       "      <td>0.0</td>\n",
       "      <td>0.0</td>\n",
       "      <td>0.0</td>\n",
       "      <td>0.0</td>\n",
       "      <td>0.0</td>\n",
       "      <td>0.0</td>\n",
       "      <td>0.0</td>\n",
       "      <td>0.0</td>\n",
       "    </tr>\n",
       "    <tr>\n",
       "      <th>3</th>\n",
       "      <td>0.0</td>\n",
       "      <td>0.0</td>\n",
       "      <td>0.0</td>\n",
       "      <td>0.0</td>\n",
       "      <td>0.0</td>\n",
       "      <td>0.0</td>\n",
       "      <td>0.0</td>\n",
       "      <td>0.0</td>\n",
       "      <td>0.0</td>\n",
       "      <td>0.0</td>\n",
       "      <td>...</td>\n",
       "      <td>0.0</td>\n",
       "      <td>0.0</td>\n",
       "      <td>0.0</td>\n",
       "      <td>0.0</td>\n",
       "      <td>0.0</td>\n",
       "      <td>0.0</td>\n",
       "      <td>0.0</td>\n",
       "      <td>0.0</td>\n",
       "      <td>0.0</td>\n",
       "      <td>0.0</td>\n",
       "    </tr>\n",
       "    <tr>\n",
       "      <th>4</th>\n",
       "      <td>0.0</td>\n",
       "      <td>0.0</td>\n",
       "      <td>0.0</td>\n",
       "      <td>0.0</td>\n",
       "      <td>0.0</td>\n",
       "      <td>0.0</td>\n",
       "      <td>0.0</td>\n",
       "      <td>0.0</td>\n",
       "      <td>0.0</td>\n",
       "      <td>0.0</td>\n",
       "      <td>...</td>\n",
       "      <td>0.0</td>\n",
       "      <td>0.0</td>\n",
       "      <td>0.0</td>\n",
       "      <td>0.0</td>\n",
       "      <td>0.0</td>\n",
       "      <td>0.0</td>\n",
       "      <td>0.0</td>\n",
       "      <td>0.0</td>\n",
       "      <td>0.0</td>\n",
       "      <td>0.0</td>\n",
       "    </tr>\n",
       "  </tbody>\n",
       "</table>\n",
       "<p>5 rows × 1000 columns</p>\n",
       "</div>"
      ],
      "text/plain": [
       "   000   03   04  0800  08000839402  08000930705   10  100  1000  10p  ...  \\\n",
       "0  0.0  0.0  0.0   0.0          0.0          0.0  0.0  0.0   0.0  0.0  ...   \n",
       "1  0.0  0.0  0.0   0.0          0.0          0.0  0.0  0.0   0.0  0.0  ...   \n",
       "2  0.0  0.0  0.0   0.0          0.0          0.0  0.0  0.0   0.0  0.0  ...   \n",
       "3  0.0  0.0  0.0   0.0          0.0          0.0  0.0  0.0   0.0  0.0  ...   \n",
       "4  0.0  0.0  0.0   0.0          0.0          0.0  0.0  0.0   0.0  0.0  ...   \n",
       "\n",
       "   yes  yesterday  yet   yo  you  your  yours  yourself   yr  yup  \n",
       "0  0.0        0.0  0.0  0.0  0.0   0.0    0.0       0.0  0.0  0.0  \n",
       "1  0.0        0.0  0.0  0.0  0.0   0.0    0.0       0.0  0.0  0.0  \n",
       "2  0.0        0.0  0.0  0.0  0.0   0.0    0.0       0.0  0.0  0.0  \n",
       "3  0.0        0.0  0.0  0.0  0.0   0.0    0.0       0.0  0.0  0.0  \n",
       "4  0.0        0.0  0.0  0.0  0.0   0.0    0.0       0.0  0.0  0.0  \n",
       "\n",
       "[5 rows x 1000 columns]"
      ]
     },
     "execution_count": 9,
     "metadata": {},
     "output_type": "execute_result"
    }
   ],
   "source": [
    "#%pip install scikit-learn\n",
    "\n",
    "from sklearn.feature_extraction.text import TfidfVectorizer\n",
    "\n",
    "vectorizer = TfidfVectorizer(max_features=1000)\n",
    "vectors = vectorizer.fit_transform(rawDF.text)\n",
    "wordsDF = pd.DataFrame(vectors.toarray(), columns=vectorizer.get_feature_names_out())\n",
    "wordsDF.head()"
   ]
  },
  {
   "cell_type": "code",
   "execution_count": 13,
   "id": "0227485b",
   "metadata": {},
   "outputs": [],
   "source": [
    "from sklearn.model_selection import train_test_split\n",
    "\n",
    "xTrain, xTest, yTrain, yTest = train_test_split(wordsDF, rawDF.type)"
   ]
  },
  {
   "cell_type": "code",
   "execution_count": null,
   "id": "dff808b2",
   "metadata": {},
   "outputs": [
    {
     "data": {
      "text/html": [
       "<style>#sk-container-id-3 {\n",
       "  /* Definition of color scheme common for light and dark mode */\n",
       "  --sklearn-color-text: #000;\n",
       "  --sklearn-color-text-muted: #666;\n",
       "  --sklearn-color-line: gray;\n",
       "  /* Definition of color scheme for unfitted estimators */\n",
       "  --sklearn-color-unfitted-level-0: #fff5e6;\n",
       "  --sklearn-color-unfitted-level-1: #f6e4d2;\n",
       "  --sklearn-color-unfitted-level-2: #ffe0b3;\n",
       "  --sklearn-color-unfitted-level-3: chocolate;\n",
       "  /* Definition of color scheme for fitted estimators */\n",
       "  --sklearn-color-fitted-level-0: #f0f8ff;\n",
       "  --sklearn-color-fitted-level-1: #d4ebff;\n",
       "  --sklearn-color-fitted-level-2: #b3dbfd;\n",
       "  --sklearn-color-fitted-level-3: cornflowerblue;\n",
       "\n",
       "  /* Specific color for light theme */\n",
       "  --sklearn-color-text-on-default-background: var(--sg-text-color, var(--theme-code-foreground, var(--jp-content-font-color1, black)));\n",
       "  --sklearn-color-background: var(--sg-background-color, var(--theme-background, var(--jp-layout-color0, white)));\n",
       "  --sklearn-color-border-box: var(--sg-text-color, var(--theme-code-foreground, var(--jp-content-font-color1, black)));\n",
       "  --sklearn-color-icon: #696969;\n",
       "\n",
       "  @media (prefers-color-scheme: dark) {\n",
       "    /* Redefinition of color scheme for dark theme */\n",
       "    --sklearn-color-text-on-default-background: var(--sg-text-color, var(--theme-code-foreground, var(--jp-content-font-color1, white)));\n",
       "    --sklearn-color-background: var(--sg-background-color, var(--theme-background, var(--jp-layout-color0, #111)));\n",
       "    --sklearn-color-border-box: var(--sg-text-color, var(--theme-code-foreground, var(--jp-content-font-color1, white)));\n",
       "    --sklearn-color-icon: #878787;\n",
       "  }\n",
       "}\n",
       "\n",
       "#sk-container-id-3 {\n",
       "  color: var(--sklearn-color-text);\n",
       "}\n",
       "\n",
       "#sk-container-id-3 pre {\n",
       "  padding: 0;\n",
       "}\n",
       "\n",
       "#sk-container-id-3 input.sk-hidden--visually {\n",
       "  border: 0;\n",
       "  clip: rect(1px 1px 1px 1px);\n",
       "  clip: rect(1px, 1px, 1px, 1px);\n",
       "  height: 1px;\n",
       "  margin: -1px;\n",
       "  overflow: hidden;\n",
       "  padding: 0;\n",
       "  position: absolute;\n",
       "  width: 1px;\n",
       "}\n",
       "\n",
       "#sk-container-id-3 div.sk-dashed-wrapped {\n",
       "  border: 1px dashed var(--sklearn-color-line);\n",
       "  margin: 0 0.4em 0.5em 0.4em;\n",
       "  box-sizing: border-box;\n",
       "  padding-bottom: 0.4em;\n",
       "  background-color: var(--sklearn-color-background);\n",
       "}\n",
       "\n",
       "#sk-container-id-3 div.sk-container {\n",
       "  /* jupyter's `normalize.less` sets `[hidden] { display: none; }`\n",
       "     but bootstrap.min.css set `[hidden] { display: none !important; }`\n",
       "     so we also need the `!important` here to be able to override the\n",
       "     default hidden behavior on the sphinx rendered scikit-learn.org.\n",
       "     See: https://github.com/scikit-learn/scikit-learn/issues/21755 */\n",
       "  display: inline-block !important;\n",
       "  position: relative;\n",
       "}\n",
       "\n",
       "#sk-container-id-3 div.sk-text-repr-fallback {\n",
       "  display: none;\n",
       "}\n",
       "\n",
       "div.sk-parallel-item,\n",
       "div.sk-serial,\n",
       "div.sk-item {\n",
       "  /* draw centered vertical line to link estimators */\n",
       "  background-image: linear-gradient(var(--sklearn-color-text-on-default-background), var(--sklearn-color-text-on-default-background));\n",
       "  background-size: 2px 100%;\n",
       "  background-repeat: no-repeat;\n",
       "  background-position: center center;\n",
       "}\n",
       "\n",
       "/* Parallel-specific style estimator block */\n",
       "\n",
       "#sk-container-id-3 div.sk-parallel-item::after {\n",
       "  content: \"\";\n",
       "  width: 100%;\n",
       "  border-bottom: 2px solid var(--sklearn-color-text-on-default-background);\n",
       "  flex-grow: 1;\n",
       "}\n",
       "\n",
       "#sk-container-id-3 div.sk-parallel {\n",
       "  display: flex;\n",
       "  align-items: stretch;\n",
       "  justify-content: center;\n",
       "  background-color: var(--sklearn-color-background);\n",
       "  position: relative;\n",
       "}\n",
       "\n",
       "#sk-container-id-3 div.sk-parallel-item {\n",
       "  display: flex;\n",
       "  flex-direction: column;\n",
       "}\n",
       "\n",
       "#sk-container-id-3 div.sk-parallel-item:first-child::after {\n",
       "  align-self: flex-end;\n",
       "  width: 50%;\n",
       "}\n",
       "\n",
       "#sk-container-id-3 div.sk-parallel-item:last-child::after {\n",
       "  align-self: flex-start;\n",
       "  width: 50%;\n",
       "}\n",
       "\n",
       "#sk-container-id-3 div.sk-parallel-item:only-child::after {\n",
       "  width: 0;\n",
       "}\n",
       "\n",
       "/* Serial-specific style estimator block */\n",
       "\n",
       "#sk-container-id-3 div.sk-serial {\n",
       "  display: flex;\n",
       "  flex-direction: column;\n",
       "  align-items: center;\n",
       "  background-color: var(--sklearn-color-background);\n",
       "  padding-right: 1em;\n",
       "  padding-left: 1em;\n",
       "}\n",
       "\n",
       "\n",
       "/* Toggleable style: style used for estimator/Pipeline/ColumnTransformer box that is\n",
       "clickable and can be expanded/collapsed.\n",
       "- Pipeline and ColumnTransformer use this feature and define the default style\n",
       "- Estimators will overwrite some part of the style using the `sk-estimator` class\n",
       "*/\n",
       "\n",
       "/* Pipeline and ColumnTransformer style (default) */\n",
       "\n",
       "#sk-container-id-3 div.sk-toggleable {\n",
       "  /* Default theme specific background. It is overwritten whether we have a\n",
       "  specific estimator or a Pipeline/ColumnTransformer */\n",
       "  background-color: var(--sklearn-color-background);\n",
       "}\n",
       "\n",
       "/* Toggleable label */\n",
       "#sk-container-id-3 label.sk-toggleable__label {\n",
       "  cursor: pointer;\n",
       "  display: flex;\n",
       "  width: 100%;\n",
       "  margin-bottom: 0;\n",
       "  padding: 0.5em;\n",
       "  box-sizing: border-box;\n",
       "  text-align: center;\n",
       "  align-items: start;\n",
       "  justify-content: space-between;\n",
       "  gap: 0.5em;\n",
       "}\n",
       "\n",
       "#sk-container-id-3 label.sk-toggleable__label .caption {\n",
       "  font-size: 0.6rem;\n",
       "  font-weight: lighter;\n",
       "  color: var(--sklearn-color-text-muted);\n",
       "}\n",
       "\n",
       "#sk-container-id-3 label.sk-toggleable__label-arrow:before {\n",
       "  /* Arrow on the left of the label */\n",
       "  content: \"▸\";\n",
       "  float: left;\n",
       "  margin-right: 0.25em;\n",
       "  color: var(--sklearn-color-icon);\n",
       "}\n",
       "\n",
       "#sk-container-id-3 label.sk-toggleable__label-arrow:hover:before {\n",
       "  color: var(--sklearn-color-text);\n",
       "}\n",
       "\n",
       "/* Toggleable content - dropdown */\n",
       "\n",
       "#sk-container-id-3 div.sk-toggleable__content {\n",
       "  display: none;\n",
       "  text-align: left;\n",
       "  /* unfitted */\n",
       "  background-color: var(--sklearn-color-unfitted-level-0);\n",
       "}\n",
       "\n",
       "#sk-container-id-3 div.sk-toggleable__content.fitted {\n",
       "  /* fitted */\n",
       "  background-color: var(--sklearn-color-fitted-level-0);\n",
       "}\n",
       "\n",
       "#sk-container-id-3 div.sk-toggleable__content pre {\n",
       "  margin: 0.2em;\n",
       "  border-radius: 0.25em;\n",
       "  color: var(--sklearn-color-text);\n",
       "  /* unfitted */\n",
       "  background-color: var(--sklearn-color-unfitted-level-0);\n",
       "}\n",
       "\n",
       "#sk-container-id-3 div.sk-toggleable__content.fitted pre {\n",
       "  /* unfitted */\n",
       "  background-color: var(--sklearn-color-fitted-level-0);\n",
       "}\n",
       "\n",
       "#sk-container-id-3 input.sk-toggleable__control:checked~div.sk-toggleable__content {\n",
       "  /* Expand drop-down */\n",
       "  display: block;\n",
       "  width: 100%;\n",
       "  overflow: visible;\n",
       "}\n",
       "\n",
       "#sk-container-id-3 input.sk-toggleable__control:checked~label.sk-toggleable__label-arrow:before {\n",
       "  content: \"▾\";\n",
       "}\n",
       "\n",
       "/* Pipeline/ColumnTransformer-specific style */\n",
       "\n",
       "#sk-container-id-3 div.sk-label input.sk-toggleable__control:checked~label.sk-toggleable__label {\n",
       "  color: var(--sklearn-color-text);\n",
       "  background-color: var(--sklearn-color-unfitted-level-2);\n",
       "}\n",
       "\n",
       "#sk-container-id-3 div.sk-label.fitted input.sk-toggleable__control:checked~label.sk-toggleable__label {\n",
       "  background-color: var(--sklearn-color-fitted-level-2);\n",
       "}\n",
       "\n",
       "/* Estimator-specific style */\n",
       "\n",
       "/* Colorize estimator box */\n",
       "#sk-container-id-3 div.sk-estimator input.sk-toggleable__control:checked~label.sk-toggleable__label {\n",
       "  /* unfitted */\n",
       "  background-color: var(--sklearn-color-unfitted-level-2);\n",
       "}\n",
       "\n",
       "#sk-container-id-3 div.sk-estimator.fitted input.sk-toggleable__control:checked~label.sk-toggleable__label {\n",
       "  /* fitted */\n",
       "  background-color: var(--sklearn-color-fitted-level-2);\n",
       "}\n",
       "\n",
       "#sk-container-id-3 div.sk-label label.sk-toggleable__label,\n",
       "#sk-container-id-3 div.sk-label label {\n",
       "  /* The background is the default theme color */\n",
       "  color: var(--sklearn-color-text-on-default-background);\n",
       "}\n",
       "\n",
       "/* On hover, darken the color of the background */\n",
       "#sk-container-id-3 div.sk-label:hover label.sk-toggleable__label {\n",
       "  color: var(--sklearn-color-text);\n",
       "  background-color: var(--sklearn-color-unfitted-level-2);\n",
       "}\n",
       "\n",
       "/* Label box, darken color on hover, fitted */\n",
       "#sk-container-id-3 div.sk-label.fitted:hover label.sk-toggleable__label.fitted {\n",
       "  color: var(--sklearn-color-text);\n",
       "  background-color: var(--sklearn-color-fitted-level-2);\n",
       "}\n",
       "\n",
       "/* Estimator label */\n",
       "\n",
       "#sk-container-id-3 div.sk-label label {\n",
       "  font-family: monospace;\n",
       "  font-weight: bold;\n",
       "  display: inline-block;\n",
       "  line-height: 1.2em;\n",
       "}\n",
       "\n",
       "#sk-container-id-3 div.sk-label-container {\n",
       "  text-align: center;\n",
       "}\n",
       "\n",
       "/* Estimator-specific */\n",
       "#sk-container-id-3 div.sk-estimator {\n",
       "  font-family: monospace;\n",
       "  border: 1px dotted var(--sklearn-color-border-box);\n",
       "  border-radius: 0.25em;\n",
       "  box-sizing: border-box;\n",
       "  margin-bottom: 0.5em;\n",
       "  /* unfitted */\n",
       "  background-color: var(--sklearn-color-unfitted-level-0);\n",
       "}\n",
       "\n",
       "#sk-container-id-3 div.sk-estimator.fitted {\n",
       "  /* fitted */\n",
       "  background-color: var(--sklearn-color-fitted-level-0);\n",
       "}\n",
       "\n",
       "/* on hover */\n",
       "#sk-container-id-3 div.sk-estimator:hover {\n",
       "  /* unfitted */\n",
       "  background-color: var(--sklearn-color-unfitted-level-2);\n",
       "}\n",
       "\n",
       "#sk-container-id-3 div.sk-estimator.fitted:hover {\n",
       "  /* fitted */\n",
       "  background-color: var(--sklearn-color-fitted-level-2);\n",
       "}\n",
       "\n",
       "/* Specification for estimator info (e.g. \"i\" and \"?\") */\n",
       "\n",
       "/* Common style for \"i\" and \"?\" */\n",
       "\n",
       ".sk-estimator-doc-link,\n",
       "a:link.sk-estimator-doc-link,\n",
       "a:visited.sk-estimator-doc-link {\n",
       "  float: right;\n",
       "  font-size: smaller;\n",
       "  line-height: 1em;\n",
       "  font-family: monospace;\n",
       "  background-color: var(--sklearn-color-background);\n",
       "  border-radius: 1em;\n",
       "  height: 1em;\n",
       "  width: 1em;\n",
       "  text-decoration: none !important;\n",
       "  margin-left: 0.5em;\n",
       "  text-align: center;\n",
       "  /* unfitted */\n",
       "  border: var(--sklearn-color-unfitted-level-1) 1pt solid;\n",
       "  color: var(--sklearn-color-unfitted-level-1);\n",
       "}\n",
       "\n",
       ".sk-estimator-doc-link.fitted,\n",
       "a:link.sk-estimator-doc-link.fitted,\n",
       "a:visited.sk-estimator-doc-link.fitted {\n",
       "  /* fitted */\n",
       "  border: var(--sklearn-color-fitted-level-1) 1pt solid;\n",
       "  color: var(--sklearn-color-fitted-level-1);\n",
       "}\n",
       "\n",
       "/* On hover */\n",
       "div.sk-estimator:hover .sk-estimator-doc-link:hover,\n",
       ".sk-estimator-doc-link:hover,\n",
       "div.sk-label-container:hover .sk-estimator-doc-link:hover,\n",
       ".sk-estimator-doc-link:hover {\n",
       "  /* unfitted */\n",
       "  background-color: var(--sklearn-color-unfitted-level-3);\n",
       "  color: var(--sklearn-color-background);\n",
       "  text-decoration: none;\n",
       "}\n",
       "\n",
       "div.sk-estimator.fitted:hover .sk-estimator-doc-link.fitted:hover,\n",
       ".sk-estimator-doc-link.fitted:hover,\n",
       "div.sk-label-container:hover .sk-estimator-doc-link.fitted:hover,\n",
       ".sk-estimator-doc-link.fitted:hover {\n",
       "  /* fitted */\n",
       "  background-color: var(--sklearn-color-fitted-level-3);\n",
       "  color: var(--sklearn-color-background);\n",
       "  text-decoration: none;\n",
       "}\n",
       "\n",
       "/* Span, style for the box shown on hovering the info icon */\n",
       ".sk-estimator-doc-link span {\n",
       "  display: none;\n",
       "  z-index: 9999;\n",
       "  position: relative;\n",
       "  font-weight: normal;\n",
       "  right: .2ex;\n",
       "  padding: .5ex;\n",
       "  margin: .5ex;\n",
       "  width: min-content;\n",
       "  min-width: 20ex;\n",
       "  max-width: 50ex;\n",
       "  color: var(--sklearn-color-text);\n",
       "  box-shadow: 2pt 2pt 4pt #999;\n",
       "  /* unfitted */\n",
       "  background: var(--sklearn-color-unfitted-level-0);\n",
       "  border: .5pt solid var(--sklearn-color-unfitted-level-3);\n",
       "}\n",
       "\n",
       ".sk-estimator-doc-link.fitted span {\n",
       "  /* fitted */\n",
       "  background: var(--sklearn-color-fitted-level-0);\n",
       "  border: var(--sklearn-color-fitted-level-3);\n",
       "}\n",
       "\n",
       ".sk-estimator-doc-link:hover span {\n",
       "  display: block;\n",
       "}\n",
       "\n",
       "/* \"?\"-specific style due to the `<a>` HTML tag */\n",
       "\n",
       "#sk-container-id-3 a.estimator_doc_link {\n",
       "  float: right;\n",
       "  font-size: 1rem;\n",
       "  line-height: 1em;\n",
       "  font-family: monospace;\n",
       "  background-color: var(--sklearn-color-background);\n",
       "  border-radius: 1rem;\n",
       "  height: 1rem;\n",
       "  width: 1rem;\n",
       "  text-decoration: none;\n",
       "  /* unfitted */\n",
       "  color: var(--sklearn-color-unfitted-level-1);\n",
       "  border: var(--sklearn-color-unfitted-level-1) 1pt solid;\n",
       "}\n",
       "\n",
       "#sk-container-id-3 a.estimator_doc_link.fitted {\n",
       "  /* fitted */\n",
       "  border: var(--sklearn-color-fitted-level-1) 1pt solid;\n",
       "  color: var(--sklearn-color-fitted-level-1);\n",
       "}\n",
       "\n",
       "/* On hover */\n",
       "#sk-container-id-3 a.estimator_doc_link:hover {\n",
       "  /* unfitted */\n",
       "  background-color: var(--sklearn-color-unfitted-level-3);\n",
       "  color: var(--sklearn-color-background);\n",
       "  text-decoration: none;\n",
       "}\n",
       "\n",
       "#sk-container-id-3 a.estimator_doc_link.fitted:hover {\n",
       "  /* fitted */\n",
       "  background-color: var(--sklearn-color-fitted-level-3);\n",
       "}\n",
       "\n",
       ".estimator-table summary {\n",
       "    padding: .5rem;\n",
       "    font-family: monospace;\n",
       "    cursor: pointer;\n",
       "}\n",
       "\n",
       ".estimator-table details[open] {\n",
       "    padding-left: 0.1rem;\n",
       "    padding-right: 0.1rem;\n",
       "    padding-bottom: 0.3rem;\n",
       "}\n",
       "\n",
       ".estimator-table .parameters-table {\n",
       "    margin-left: auto !important;\n",
       "    margin-right: auto !important;\n",
       "}\n",
       "\n",
       ".estimator-table .parameters-table tr:nth-child(odd) {\n",
       "    background-color: #fff;\n",
       "}\n",
       "\n",
       ".estimator-table .parameters-table tr:nth-child(even) {\n",
       "    background-color: #f6f6f6;\n",
       "}\n",
       "\n",
       ".estimator-table .parameters-table tr:hover {\n",
       "    background-color: #e0e0e0;\n",
       "}\n",
       "\n",
       ".estimator-table table td {\n",
       "    border: 1px solid rgba(106, 105, 104, 0.232);\n",
       "}\n",
       "\n",
       ".user-set td {\n",
       "    color:rgb(255, 94, 0);\n",
       "    text-align: left;\n",
       "}\n",
       "\n",
       ".user-set td.value pre {\n",
       "    color:rgb(255, 94, 0) !important;\n",
       "    background-color: transparent !important;\n",
       "}\n",
       "\n",
       ".default td {\n",
       "    color: black;\n",
       "    text-align: left;\n",
       "}\n",
       "\n",
       ".user-set td i,\n",
       ".default td i {\n",
       "    color: black;\n",
       "}\n",
       "\n",
       ".copy-paste-icon {\n",
       "    background-image: url(data:image/svg+xml;base64,PHN2ZyB4bWxucz0iaHR0cDovL3d3dy53My5vcmcvMjAwMC9zdmciIHZpZXdCb3g9IjAgMCA0NDggNTEyIj48IS0tIUZvbnQgQXdlc29tZSBGcmVlIDYuNy4yIGJ5IEBmb250YXdlc29tZSAtIGh0dHBzOi8vZm9udGF3ZXNvbWUuY29tIExpY2Vuc2UgLSBodHRwczovL2ZvbnRhd2Vzb21lLmNvbS9saWNlbnNlL2ZyZWUgQ29weXJpZ2h0IDIwMjUgRm9udGljb25zLCBJbmMuLS0+PHBhdGggZD0iTTIwOCAwTDMzMi4xIDBjMTIuNyAwIDI0LjkgNS4xIDMzLjkgMTQuMWw2Ny45IDY3LjljOSA5IDE0LjEgMjEuMiAxNC4xIDMzLjlMNDQ4IDMzNmMwIDI2LjUtMjEuNSA0OC00OCA0OGwtMTkyIDBjLTI2LjUgMC00OC0yMS41LTQ4LTQ4bDAtMjg4YzAtMjYuNSAyMS41LTQ4IDQ4LTQ4ek00OCAxMjhsODAgMCAwIDY0LTY0IDAgMCAyNTYgMTkyIDAgMC0zMiA2NCAwIDAgNDhjMCAyNi41LTIxLjUgNDgtNDggNDhMNDggNTEyYy0yNi41IDAtNDgtMjEuNS00OC00OEwwIDE3NmMwLTI2LjUgMjEuNS00OCA0OC00OHoiLz48L3N2Zz4=);\n",
       "    background-repeat: no-repeat;\n",
       "    background-size: 14px 14px;\n",
       "    background-position: 0;\n",
       "    display: inline-block;\n",
       "    width: 14px;\n",
       "    height: 14px;\n",
       "    cursor: pointer;\n",
       "}\n",
       "</style><body><div id=\"sk-container-id-3\" class=\"sk-top-container\"><div class=\"sk-text-repr-fallback\"><pre>MultinomialNB()</pre><b>In a Jupyter environment, please rerun this cell to show the HTML representation or trust the notebook. <br />On GitHub, the HTML representation is unable to render, please try loading this page with nbviewer.org.</b></div><div class=\"sk-container\" hidden><div class=\"sk-item\"><div class=\"sk-estimator fitted sk-toggleable\"><input class=\"sk-toggleable__control sk-hidden--visually\" id=\"sk-estimator-id-3\" type=\"checkbox\" checked><label for=\"sk-estimator-id-3\" class=\"sk-toggleable__label fitted sk-toggleable__label-arrow\"><div><div>MultinomialNB</div></div><div><a class=\"sk-estimator-doc-link fitted\" rel=\"noreferrer\" target=\"_blank\" href=\"https://scikit-learn.org/1.7/modules/generated/sklearn.naive_bayes.MultinomialNB.html\">?<span>Documentation for MultinomialNB</span></a><span class=\"sk-estimator-doc-link fitted\">i<span>Fitted</span></span></div></label><div class=\"sk-toggleable__content fitted\" data-param-prefix=\"\">\n",
       "        <div class=\"estimator-table\">\n",
       "            <details>\n",
       "                <summary>Parameters</summary>\n",
       "                <table class=\"parameters-table\">\n",
       "                  <tbody>\n",
       "                    \n",
       "        <tr class=\"default\">\n",
       "            <td><i class=\"copy-paste-icon\"\n",
       "                 onclick=\"copyToClipboard('alpha',\n",
       "                          this.parentElement.nextElementSibling)\"\n",
       "            ></i></td>\n",
       "            <td class=\"param\">alpha&nbsp;</td>\n",
       "            <td class=\"value\">1.0</td>\n",
       "        </tr>\n",
       "    \n",
       "\n",
       "        <tr class=\"default\">\n",
       "            <td><i class=\"copy-paste-icon\"\n",
       "                 onclick=\"copyToClipboard('force_alpha',\n",
       "                          this.parentElement.nextElementSibling)\"\n",
       "            ></i></td>\n",
       "            <td class=\"param\">force_alpha&nbsp;</td>\n",
       "            <td class=\"value\">True</td>\n",
       "        </tr>\n",
       "    \n",
       "\n",
       "        <tr class=\"default\">\n",
       "            <td><i class=\"copy-paste-icon\"\n",
       "                 onclick=\"copyToClipboard('fit_prior',\n",
       "                          this.parentElement.nextElementSibling)\"\n",
       "            ></i></td>\n",
       "            <td class=\"param\">fit_prior&nbsp;</td>\n",
       "            <td class=\"value\">True</td>\n",
       "        </tr>\n",
       "    \n",
       "\n",
       "        <tr class=\"default\">\n",
       "            <td><i class=\"copy-paste-icon\"\n",
       "                 onclick=\"copyToClipboard('class_prior',\n",
       "                          this.parentElement.nextElementSibling)\"\n",
       "            ></i></td>\n",
       "            <td class=\"param\">class_prior&nbsp;</td>\n",
       "            <td class=\"value\">None</td>\n",
       "        </tr>\n",
       "    \n",
       "                  </tbody>\n",
       "                </table>\n",
       "            </details>\n",
       "        </div>\n",
       "    </div></div></div></div></div><script>function copyToClipboard(text, element) {\n",
       "    // Get the parameter prefix from the closest toggleable content\n",
       "    const toggleableContent = element.closest('.sk-toggleable__content');\n",
       "    const paramPrefix = toggleableContent ? toggleableContent.dataset.paramPrefix : '';\n",
       "    const fullParamName = paramPrefix ? `${paramPrefix}${text}` : text;\n",
       "\n",
       "    const originalStyle = element.style;\n",
       "    const computedStyle = window.getComputedStyle(element);\n",
       "    const originalWidth = computedStyle.width;\n",
       "    const originalHTML = element.innerHTML.replace('Copied!', '');\n",
       "\n",
       "    navigator.clipboard.writeText(fullParamName)\n",
       "        .then(() => {\n",
       "            element.style.width = originalWidth;\n",
       "            element.style.color = 'green';\n",
       "            element.innerHTML = \"Copied!\";\n",
       "\n",
       "            setTimeout(() => {\n",
       "                element.innerHTML = originalHTML;\n",
       "                element.style = originalStyle;\n",
       "            }, 2000);\n",
       "        })\n",
       "        .catch(err => {\n",
       "            console.error('Failed to copy:', err);\n",
       "            element.style.color = 'red';\n",
       "            element.innerHTML = \"Failed!\";\n",
       "            setTimeout(() => {\n",
       "                element.innerHTML = originalHTML;\n",
       "                element.style = originalStyle;\n",
       "            }, 2000);\n",
       "        });\n",
       "    return false;\n",
       "}\n",
       "\n",
       "document.querySelectorAll('.fa-regular.fa-copy').forEach(function(element) {\n",
       "    const toggleableContent = element.closest('.sk-toggleable__content');\n",
       "    const paramPrefix = toggleableContent ? toggleableContent.dataset.paramPrefix : '';\n",
       "    const paramName = element.parentElement.nextElementSibling.textContent.trim();\n",
       "    const fullParamName = paramPrefix ? `${paramPrefix}${paramName}` : paramName;\n",
       "\n",
       "    element.setAttribute('title', fullParamName);\n",
       "});\n",
       "</script></body>"
      ],
      "text/plain": [
       "MultinomialNB()"
      ]
     },
     "execution_count": 16,
     "metadata": {},
     "output_type": "execute_result"
    }
   ],
   "source": [
    "from sklearn.naive_bayes import MultinomialNB\n",
    "\n",
    "bayes = MultinomialNB()\n",
    "bayes.fit(xTrain, yTrain)\n",
    "\n",
    "#The model can be applied to the test features using the predict() function which generates a array of predictions. \n",
    "#Using a confusion matrix we can analyze the performance of our model."
   ]
  },
  {
   "cell_type": "code",
   "execution_count": 23,
   "id": "c4f4ca8e",
   "metadata": {},
   "outputs": [],
   "source": [
    "\n",
    "yPred = bayes.predict(xTest)\n",
    "yTrue = yTest"
   ]
  },
  {
   "cell_type": "code",
   "execution_count": 24,
   "id": "63df0e20",
   "metadata": {},
   "outputs": [
    {
     "name": "stdout",
     "output_type": "stream",
     "text": [
      "Accuracy: 0.9842067480258435\n"
     ]
    }
   ],
   "source": [
    "from sklearn.metrics import accuracy_score\n",
    "\n",
    "accuracyScore = accuracy_score(yTrue, yPred)\n",
    "print(f'Accuracy: {accuracyScore}')"
   ]
  },
  {
   "cell_type": "code",
   "execution_count": 26,
   "id": "a0d05733",
   "metadata": {},
   "outputs": [
    {
     "data": {
      "application/vnd.microsoft.datawrangler.viewer.v0+json": {
       "columns": [
        {
         "name": "index",
         "rawType": "object",
         "type": "string"
        },
        {
         "name": "Predicted ham",
         "rawType": "int64",
         "type": "integer"
        },
        {
         "name": "Predicted spam",
         "rawType": "int64",
         "type": "integer"
        }
       ],
       "ref": "bc7e5689-9e1e-4e03-ab65-da0f1f0a0c06",
       "rows": [
        [
         "Is ham",
         "1212",
         "3"
        ],
        [
         "Is spam",
         "19",
         "159"
        ]
       ],
       "shape": {
        "columns": 2,
        "rows": 2
       }
      },
      "text/html": [
       "<div>\n",
       "<style scoped>\n",
       "    .dataframe tbody tr th:only-of-type {\n",
       "        vertical-align: middle;\n",
       "    }\n",
       "\n",
       "    .dataframe tbody tr th {\n",
       "        vertical-align: top;\n",
       "    }\n",
       "\n",
       "    .dataframe thead th {\n",
       "        text-align: right;\n",
       "    }\n",
       "</style>\n",
       "<table border=\"1\" class=\"dataframe\">\n",
       "  <thead>\n",
       "    <tr style=\"text-align: right;\">\n",
       "      <th></th>\n",
       "      <th>Predicted ham</th>\n",
       "      <th>Predicted spam</th>\n",
       "    </tr>\n",
       "  </thead>\n",
       "  <tbody>\n",
       "    <tr>\n",
       "      <th>Is ham</th>\n",
       "      <td>1212</td>\n",
       "      <td>3</td>\n",
       "    </tr>\n",
       "    <tr>\n",
       "      <th>Is spam</th>\n",
       "      <td>19</td>\n",
       "      <td>159</td>\n",
       "    </tr>\n",
       "  </tbody>\n",
       "</table>\n",
       "</div>"
      ],
      "text/plain": [
       "         Predicted ham  Predicted spam\n",
       "Is ham            1212               3\n",
       "Is spam             19             159"
      ]
     },
     "execution_count": 26,
     "metadata": {},
     "output_type": "execute_result"
    }
   ],
   "source": [
    "from sklearn.metrics import confusion_matrix\n",
    "\n",
    "matrix = confusion_matrix(yTrue, yPred)\n",
    "labelNames = pd.Series(['ham', 'spam'])\n",
    "pd.DataFrame(matrix,\n",
    "     columns='Predicted ' + labelNames,\n",
    "     index='Is ' + labelNames)"
   ]
  }
 ],
 "metadata": {
  "kernelspec": {
   "display_name": "Python 3",
   "language": "python",
   "name": "python3"
  },
  "language_info": {
   "codemirror_mode": {
    "name": "ipython",
    "version": 3
   },
   "file_extension": ".py",
   "mimetype": "text/x-python",
   "name": "python",
   "nbconvert_exporter": "python",
   "pygments_lexer": "ipython3",
   "version": "3.13.8"
  }
 },
 "nbformat": 4,
 "nbformat_minor": 5
}
