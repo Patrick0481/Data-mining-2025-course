{
 "cells": [
  {
   "cell_type": "markdown",
   "id": "eb483657",
   "metadata": {},
   "source": [
    "# k-Nearest Neighbors (kNN) Analysis\n",
    "\n",
    "This notebook uses the k-Nearest Neighbors (kNN) algorithm to predict student performance.  \n",
    "We use a dataset called **student_performance.csv** with features like self-study hours, attendance, and class participation.  \n",
    "\n",
    "We build two models:\n",
    "- A **classification model** to predict student grades.\n",
    "- A **regression model** to predict total score.\n",
    "\n",
    "We also test the model with a new student example.\n"
   ]
  },
  {
   "cell_type": "code",
   "execution_count": null,
   "id": "a267a24e",
   "metadata": {},
   "outputs": [
    {
     "name": "stdout",
     "output_type": "stream",
     "text": [
      "['student_id', 'weekly_self_study_hours', 'attendance_percentage', 'class_participation', 'total_score', 'grade']\n",
      "   student_id  weekly_self_study_hours  attendance_percentage  \\\n",
      "0           1                     18.5                   95.6   \n",
      "1           2                     14.0                   80.0   \n",
      "2           3                     19.5                   86.3   \n",
      "3           4                     25.7                   70.2   \n",
      "4           5                     13.4                   81.9   \n",
      "\n",
      "   class_participation  total_score grade  \n",
      "0                  3.8         97.9     A  \n",
      "1                  2.5         83.9     B  \n",
      "2                  5.3        100.0     A  \n",
      "3                  7.0        100.0     A  \n",
      "4                  6.9         92.0     A  \n"
     ]
    }
   ],
   "source": [
    "import pandas as pd\n",
    "\n",
    "# Change the path to where you saved the file\n",
    "df = pd.read_csv(r\"C:\\Users\\Martijn\\Downloads\\student_performance.csv\", sep=\",\" ,encoding=\"latin1\")\n",
    "\n",
    "kolommen = df.columns.tolist()\n",
    "print(kolommen)"
   ]
  },
  {
   "cell_type": "code",
   "execution_count": 2,
   "id": "7ee5b8fc",
   "metadata": {},
   "outputs": [
    {
     "name": "stdout",
     "output_type": "stream",
     "text": [
      "[[94515 13974  1212    28     0]\n",
      " [21107 23051  7040   428     9]\n",
      " [ 3473 11603 10872  2380    68]\n",
      " [  175  1671  4502  2563    88]\n",
      " [    1    68   579   570    23]]\n",
      "              precision    recall  f1-score   support\n",
      "\n",
      "           A       0.79      0.86      0.83    109729\n",
      "           B       0.46      0.45      0.45     51635\n",
      "           C       0.45      0.38      0.41     28396\n",
      "           D       0.43      0.28      0.34      8999\n",
      "           F       0.12      0.02      0.03      1241\n",
      "\n",
      "    accuracy                           0.66    200000\n",
      "   macro avg       0.45      0.40      0.41    200000\n",
      "weighted avg       0.64      0.66      0.64    200000\n",
      "\n"
     ]
    }
   ],
   "source": [
    "# Import needed libraries for kNN classification and evaluation\n",
    "from sklearn.neighbors import KNeighborsClassifier\n",
    "from sklearn.metrics import classification_report, confusion_matrix\n",
    "from sklearn.model_selection import train_test_split\n",
    "from sklearn.preprocessing import StandardScaler\n",
    "from sklearn.neighbors import KNeighborsRegressor\n",
    "from sklearn.metrics import mean_squared_error, r2_score\n",
    "\n",
    "# Select the features (independent variables)\n",
    "X = df[['weekly_self_study_hours', 'attendance_percentage', 'class_participation']]\n",
    "\n",
    "# Select the target (dependent variable)\n",
    "y = df['grade']\n",
    "\n",
    "# Split data into training (80%) and testing (20%) sets\n",
    "X_train, X_test, y_train, y_test = train_test_split(X, y, test_size=0.2, random_state=42, stratify=y)\n",
    "\n",
    "# Standardize (scale) the data so all features have similar range\n",
    "scaler = StandardScaler()\n",
    "X_train_scaled = scaler.fit_transform(X_train)\n",
    "X_test_scaled = scaler.transform(X_test)\n",
    "\n",
    "# Create the kNN classifier with 5 neighbors\n",
    "knn_clf = KNeighborsClassifier(n_neighbors=5)\n",
    "\n",
    "# Train the model\n",
    "knn_clf.fit(X_train_scaled, y_train)\n",
    "\n",
    "# Make predictions on the test set\n",
    "y_pred = knn_clf.predict(X_test_scaled)\n",
    "\n",
    "# Show model evaluation results\n",
    "print(confusion_matrix(y_test, y_pred))\n",
    "print(classification_report(y_test, y_pred))"
   ]
  },
  {
   "cell_type": "markdown",
   "id": "1a7c6e72",
   "metadata": {},
   "source": [
    "# 🧾 Conclusion\n",
    "\n",
    "The kNN model reached **66% accuracy**.  \n",
    "It predicts **grade A** well but struggles with lower grades.  \n",
    "This is likely due to **imbalanced data** (many A students).  \n",
    "Overall, results are fair but can improve with tuning or balancing."
   ]
  },
  {
   "cell_type": "code",
   "execution_count": 3,
   "id": "789e3b24",
   "metadata": {},
   "outputs": [
    {
     "name": "stdout",
     "output_type": "stream",
     "text": [
      "Mean Squared Error: 80.74160792400001\n",
      "R^2 Score: 0.6608558641758525\n"
     ]
    }
   ],
   "source": [
    "\n",
    "# Select the features and target variable\n",
    "X = df[['weekly_self_study_hours', 'attendance_percentage', 'class_participation']]\n",
    "\n",
    "# Make sure total_score is numeric (convert if needed)\n",
    "df['total_score'] = pd.to_numeric(df['total_score'], errors='coerce')\n",
    "y = df['total_score']\n",
    "\n",
    "# Split the data again for this target (80% train, 20% test)\n",
    "X_train, X_test, y_train, y_test = train_test_split(X, y, test_size=0.2, random_state=42)\n",
    "\n",
    "# Standardize (scale) the data\n",
    "scaler = StandardScaler()\n",
    "X_train_scaled = scaler.fit_transform(X_train)\n",
    "X_test_scaled = scaler.transform(X_test)\n",
    "\n",
    "# Create the kNN regressor with 5 neighbors\n",
    "knn = KNeighborsRegressor(n_neighbors=5)\n",
    "\n",
    "# Train the regression model\n",
    "knn.fit(X_train_scaled, y_train)\n",
    "\n",
    "# Predict and evaluate\n",
    "y_pred = knn.predict(X_test_scaled)\n",
    "\n",
    "# Show evaluation metrics for regression\n",
    "print(\"Mean Squared Error:\", mean_squared_error(y_test, y_pred))\n",
    "print(\"R^2 Score:\", r2_score(y_test, y_pred))"
   ]
  },
  {
   "cell_type": "code",
   "execution_count": 4,
   "id": "f262fd6e",
   "metadata": {},
   "outputs": [
    {
     "name": "stdout",
     "output_type": "stream",
     "text": [
      "Predicted score: 81.28\n"
     ]
    }
   ],
   "source": [
    "# Enter a new student as a list (order must match X.columns)\n",
    "new_student = [[10, 80, 5]]  # [self-study hours, attendance %, participation]\n",
    "\n",
    "# Convert to a DataFrame with the correct column names\n",
    "new_student_df = pd.DataFrame(new_student, columns=X.columns)\n",
    "\n",
    "# Scale using the same scaler fitted on the training data\n",
    "new_student_scaled = scaler.transform(new_student_df)\n",
    "\n",
    "# Predict the total score for the new student\n",
    "predicted_score = knn.predict(new_student_scaled)\n",
    "print(\"Predicted score:\", predicted_score[0])"
   ]
  }
 ],
 "metadata": {
  "kernelspec": {
   "display_name": "Python 3",
   "language": "python",
   "name": "python3"
  },
  "language_info": {
   "codemirror_mode": {
    "name": "ipython",
    "version": 3
   },
   "file_extension": ".py",
   "mimetype": "text/x-python",
   "name": "python",
   "nbconvert_exporter": "python",
   "pygments_lexer": "ipython3",
   "version": "3.13.7"
  }
 },
 "nbformat": 4,
 "nbformat_minor": 5
}
